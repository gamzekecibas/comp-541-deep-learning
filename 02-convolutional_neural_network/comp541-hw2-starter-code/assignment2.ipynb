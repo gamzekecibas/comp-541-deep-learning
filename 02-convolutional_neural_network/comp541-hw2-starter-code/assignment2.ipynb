{
 "cells": [
  {
   "cell_type": "markdown",
   "id": "lRnx-bC99xyG",
   "metadata": {
    "id": "lRnx-bC99xyG"
   },
   "source": [
    "## COMP541: DEEP LEARNING\n",
    "## ASSIGNMENT 2: Convolutional Neural Network\n",
    "### Fall 2022\n",
    "### Gamze Keçibaş | 60211\n",
    "---\n",
    "**TABLE OF CONTENT**     \n",
    "* ***Convolutional Neural Networks***  \n",
    "  * Convolutional Filter Receptive Field    \n",
    "  * Run the Pytorch ConvNet     \n",
    "  * Add Pooling Layers     \n",
    "  * Regularize the Network!  \n",
    "    * Dropout   \n",
    "    * Weight regularization \n",
    "    * Early stopping   \n",
    "    * Learning rate scheduling \n",
    "  * Experiment with the Architecture \n",
    "  * Optimize the Architecture \n",
    "  * Test the final Architecture on Variations of Data   \n",
    "* ***Transfer Learning*** "
   ]
  },
  {
   "cell_type": "markdown",
   "id": "izCqbGV9AeLN",
   "metadata": {
    "id": "izCqbGV9AeLN"
   },
   "source": [
    "***1) Convolutional Neural Networks***"
   ]
  },
  {
   "cell_type": "code",
   "execution_count": 1,
   "id": "3fb7993a",
   "metadata": {
    "id": "3fb7993a"
   },
   "outputs": [],
   "source": [
    "import torch\n",
    "import numpy\n",
    "import math\n",
    "from PIL import Image\n",
    "import requests"
   ]
  },
  {
   "cell_type": "markdown",
   "id": "m6R4-ce98b-t",
   "metadata": {
    "id": "m6R4-ce98b-t"
   },
   "source": []
  },
  {
   "cell_type": "code",
   "execution_count": 6,
   "id": "7Aap1PTu9Nm0",
   "metadata": {
    "id": "7Aap1PTu9Nm0"
   },
   "outputs": [],
   "source": [
    "ACTORS_TXT = \"new_subset_actors.txt\"\n",
    "ACTRESS_TXT = \"new_subset_actresses.txt\"\n",
    "actor_data = []\n",
    "actress_data = []\n",
    "\n",
    "with open(ACTORS_TXT, \"r\") as actors:\n",
    "    for actor in actors:\n",
    "        split_actor_info = actor.split()\n",
    "        actor_data.append(split_actor_info)\n",
    "\n",
    "with open(ACTRESS_TXT, \"r\") as actresses:\n",
    "    for actress in actresses:\n",
    "        split_actress_info = actress.split()\n",
    "        actress_data.append(split_actress_info)"
   ]
  },
  {
   "cell_type": "code",
   "execution_count": 16,
   "id": "UwN88Y4F_Adx",
   "metadata": {
    "colab": {
     "base_uri": "https://localhost:8080/",
     "height": 545
    },
    "id": "UwN88Y4F_Adx",
    "outputId": "b7984394-e37d-421f-ef83-b6a6dcd0f3ff"
   },
   "outputs": [
    {
     "ename": "UnidentifiedImageError",
     "evalue": "cannot identify image file <_io.BytesIO object at 0x7ff7486498f0>",
     "output_type": "error",
     "traceback": [
      "\u001b[0;31m---------------------------------------------------------------------------\u001b[0m",
      "\u001b[0;31mUnidentifiedImageError\u001b[0m                    Traceback (most recent call last)",
      "\u001b[0;32m/var/folders/9v/f5fwvtnn68x0q693jqp5lgxm0000gn/T/ipykernel_1802/2707853008.py\u001b[0m in \u001b[0;36m<module>\u001b[0;34m\u001b[0m\n\u001b[1;32m      3\u001b[0m \u001b[0;34m\u001b[0m\u001b[0m\n\u001b[1;32m      4\u001b[0m \u001b[0;32mfor\u001b[0m \u001b[0mactor\u001b[0m \u001b[0;32min\u001b[0m \u001b[0mactor_data\u001b[0m\u001b[0;34m:\u001b[0m\u001b[0;34m\u001b[0m\u001b[0;34m\u001b[0m\u001b[0m\n\u001b[0;32m----> 5\u001b[0;31m     \u001b[0mactor_images\u001b[0m\u001b[0;34m[\u001b[0m\u001b[0mactor\u001b[0m\u001b[0;34m[\u001b[0m\u001b[0;34m-\u001b[0m\u001b[0;36m1\u001b[0m\u001b[0;34m]\u001b[0m\u001b[0;34m]\u001b[0m \u001b[0;34m=\u001b[0m \u001b[0mImage\u001b[0m\u001b[0;34m.\u001b[0m\u001b[0mopen\u001b[0m\u001b[0;34m(\u001b[0m\u001b[0mrequests\u001b[0m\u001b[0;34m.\u001b[0m\u001b[0mget\u001b[0m\u001b[0;34m(\u001b[0m\u001b[0mactor\u001b[0m\u001b[0;34m[\u001b[0m\u001b[0;36m4\u001b[0m\u001b[0;34m]\u001b[0m\u001b[0;34m,\u001b[0m \u001b[0mstream\u001b[0m\u001b[0;34m=\u001b[0m\u001b[0;32mTrue\u001b[0m\u001b[0;34m)\u001b[0m\u001b[0;34m.\u001b[0m\u001b[0mraw\u001b[0m\u001b[0;34m)\u001b[0m\u001b[0;34m\u001b[0m\u001b[0;34m\u001b[0m\u001b[0m\n\u001b[0m\u001b[1;32m      6\u001b[0m \u001b[0;34m\u001b[0m\u001b[0m\n\u001b[1;32m      7\u001b[0m \u001b[0;32mfor\u001b[0m \u001b[0mactress\u001b[0m \u001b[0;32min\u001b[0m \u001b[0mactress_data\u001b[0m\u001b[0;34m:\u001b[0m\u001b[0;34m\u001b[0m\u001b[0;34m\u001b[0m\u001b[0m\n",
      "\u001b[0;32m~/opt/anaconda3/envs/comp541/lib/python3.7/site-packages/PIL/Image.py\u001b[0m in \u001b[0;36mopen\u001b[0;34m(fp, mode, formats)\u001b[0m\n\u001b[1;32m   3146\u001b[0m         \u001b[0mwarnings\u001b[0m\u001b[0;34m.\u001b[0m\u001b[0mwarn\u001b[0m\u001b[0;34m(\u001b[0m\u001b[0mmessage\u001b[0m\u001b[0;34m)\u001b[0m\u001b[0;34m\u001b[0m\u001b[0;34m\u001b[0m\u001b[0m\n\u001b[1;32m   3147\u001b[0m     raise UnidentifiedImageError(\n\u001b[0;32m-> 3148\u001b[0;31m         \u001b[0;34m\"cannot identify image file %r\"\u001b[0m \u001b[0;34m%\u001b[0m \u001b[0;34m(\u001b[0m\u001b[0mfilename\u001b[0m \u001b[0;32mif\u001b[0m \u001b[0mfilename\u001b[0m \u001b[0;32melse\u001b[0m \u001b[0mfp\u001b[0m\u001b[0;34m)\u001b[0m\u001b[0;34m\u001b[0m\u001b[0;34m\u001b[0m\u001b[0m\n\u001b[0m\u001b[1;32m   3149\u001b[0m     )\n\u001b[1;32m   3150\u001b[0m \u001b[0;34m\u001b[0m\u001b[0m\n",
      "\u001b[0;31mUnidentifiedImageError\u001b[0m: cannot identify image file <_io.BytesIO object at 0x7ff7486498f0>"
     ]
    }
   ],
   "source": [
    "actor_images = {}\n",
    "actress_images = {}\n",
    "       \n",
    "for actor in actor_data:\n",
    "    actor_images[actor[-1]] = Image.open(requests.get(actor[4], stream=True).raw)\n",
    "    \n",
    "for actress in actress_data:\n",
    "    actress_images[actress[-1]] = Image.open(requests.get(actress[4], stream=True).raw)"
   ]
  },
  {
   "cell_type": "code",
   "execution_count": 14,
   "id": "6b48e9bc",
   "metadata": {},
   "outputs": [
    {
     "data": {
      "text/plain": [
       "{'962388de77e47001075e2b9d3bcea5067a0d31ef2e3d51e056033fb5f6a23bc0': 'http://static2.wikia.nocookie.net/__cb20100626051952/glee/images/4/4f/Dianna-Agron-dianna-agron-8731364-1937-2560.jpg',\n",
       " '1bbcabc38bdbb1f412f14a712dbdfb33bdcbd22330f4a5daecf4d71cbefc990b': 'http://www.hdwallpapersonly.com/wp-content/uploads/2013/06/Dianna-Agron-2.jpg',\n",
       " '377da13ce6b487c7c4cd6cd605ba8039effa4c52d59734122d7ecbd019c999cf': 'http://cdn04.cdn.justjared.com/wp-content/uploads/2011/08/agron-letterman/dianna-agron-letterman-02.jpg',\n",
       " '85a2ac66d74e450cc2ffb9bc84b4a38b0c724377d37b6577385d88999aff91eb': 'http://cdn01.cdn.justjared.com/wp-content/uploads/2012/09/agron-cite/dianna-agron-salma-hayek-la-cite-du-cinema-launch-02.jpg',\n",
       " '0126056b4df4f69504e26b056947998cac5ee5e6e5626ef3941b1725d8723974': 'http://images2.fanpop.com/images/photos/8300000/Dianna-Agron-dianna-agron-8334684-794-1200.jpg',\n",
       " '462a174fd8ff562e1d04960da4194ef379710c275dcdf834fe2a713624334a1f': 'http://images2.fanpop.com/image/photos/8800000/dianna-dianna-agron-8876394-836-1200.jpg',\n",
       " 'cdd7f7ba0b5cd95d4c0cb2cc82537701d9f7dba4492cecc8384a7ff6acae68db': 'http://4.bp.blogspot.com/-Bq9nQjSRolM/UmuW7mJzLoI/AAAAAAAAdcc/U-4ALuhXi3Y/s1600/31.png',\n",
       " '232a74e18af9da19041dd425ff9856cd865770b88dd401260391ef7e68a1ef88': 'http://cdn01.cdn.justjared.com/wp-content/uploads/2011/01/agron-fox/dianna-agron-fox-all-stars-party-03.jpg',\n",
       " 'c0c0697fb9bfd0f1aedf66d0131a768659e791b202b2390d294c619a32dccc0c': 'http://2.bp.blogspot.com/-8gYKRrDajWA/UjcpaOKwG3I/AAAAAAAATyY/S5CpuHwximY/s1600/14.jpg',\n",
       " 'fc1e321224cdc4dd5a6bb8641f3df56ef9d913638d5d888606cec5b517fd7596': 'http://cdn01.cdn.justjared.com/wp-content/uploads/2012/05/dianna-met/dianna-agron-2012-met-ball-03.jpg',\n",
       " 'ed9a1da6cc8f9707fc71562843498c44755df577a15daf34e27bca342948b098': 'http://collider.com/wp-content/uploads/dianna-agron-i-am-number-four-image.jpg',\n",
       " 'def058bb1fa3b3fea315f3b29b5213b5a24fdb0aa3d384508c93c1c44a6aa1b1': 'http://cdn03.cdn.justjared.com/wp-content/uploads/2011/11/agron-decorations/dianna-agron-christmas-decoration-shopping-03.jpg',\n",
       " '2363184048b7ffb6f90682691cad05fe3e13ce1139ca2378e9638abe93b03412': 'http://images5.fanpop.com/image/photos/29200000/Dianna-Agron-Amber-Heard-Montblanc-Vanity-Fair-Party-dianna-agron-29261521-845-1222.jpg',\n",
       " 'f2c79a0ff6b6ecbd35e4ff55c99cc87e6a6307cfc474ca289ec0f4a58ac3f699': 'http://www.contactmusic.com/pics/lf/persol_magnificant_obsessions_4_140612/dianna-agron-persol-magnificent-obsessions-30-stories-of_3943120.jpg',\n",
       " 'ef2ac39f3f973f6e3923f36a9d55658479e4ab9c08787620136b0e03b6e4aa44': 'http://images4.fanpop.com/image/photos/21800000/Dianna-Agron-the-glee-girls-21814124-1000-1506.jpg',\n",
       " '11385a5ac20a656cbbe04b52bd9b956d053789527d2f76c37d9622df5eac3565': 'http://www.collider.com/wp-content/uploads/23555.jpg',\n",
       " '78633cd178c152d0b8b1a2788875f36d0ddbc5e063c30078cfa44b27e422e26b': 'http://wall-height.com/wp-content/uploads/2013/07/Dianna-Agron-Photos-HD-Wallpaper.jpg',\n",
       " 'ea0a356213fad2999684766fcd3184e29b5a8065cb52795884b5447addf4b7a0': 'http://images1.wikia.nocookie.net/__cb20110616214513/glee/images/7/7a/Dianna_Agron-SGY-014179.jpg',\n",
       " '045be360d8b896f861800a6f5783b68063050314dbb054bf625913d563760d6e': 'http://img2.timeinc.net/people/i/2011/stylewatch/getthelook/110131/dianna-agron-435.jpg',\n",
       " '304d4b60662a491737d32d5df797403cfb175c8495ffbedf17eb3903ced04bb6': 'http://cdn02.cdn.justjared.com/wp-content/uploads/2011/09/dianna-emmys/dianna-agron-emmys-2011-01.jpg',\n",
       " '38fede4ed2b5dff3d556a411b70e3bf8515e7070fd056b467ac686f57cd40b18': 'http://images5.fanpop.com/image/photos/27400000/Trevor-Live-at-The-Hollywood-Palladium-dianna-agron-27430711-1988-2560.jpg',\n",
       " '70cb50faa66f3cf5c662e460b47cf30044732dd2387c8c465ded1a4439693f03': 'http://images4.fanpop.com/image/photos/22600000/Dianna-Agron-New-Cosmo-Photoshoot-dianna-agron-22617093-1008-1264.jpg',\n",
       " '0231675bd907ac6082c04c7aaeb5c56f6bf3dbb2ee2855fc3a94137682028428': 'http://static1.wikia.nocookie.net/__cb20111120024554/glee/images/b/b5/Dianna_agron.jpg',\n",
       " '415dd3d467577389f7de8046b1ff9367b13347ce9669f0700efcae8f17f92aed': 'http://static4.wikia.nocookie.net/__cb20130324152127/brittany-s-pierce/images/6/69/Dianna-agron-tv-2.jpg',\n",
       " '44d6f20cea2245efd2d60543c6ad48d36ea098843877d032e13ad35f1f413403': 'http://images5.fanpop.com/image/photos/27400000/Trevor-Live-at-The-Hollywood-Palladium-dianna-agron-27430445-1951-2560.jpg',\n",
       " '02174ac34ba6ae17e4f7030d151efda8f5ea9fb4f0cede0929147717b5088db3': 'http://www.dontbelieveus.com/wp-content/uploads/2012/12/dianna-1.jpg',\n",
       " '4f984badda848dea1eaabb59fd0a6c302ef048f343d5254967356baa5b960cff': 'http://static2.wikia.nocookie.net/__cb20131113010129/tuckerverse/images/5/58/Dianna_Agron_3.jpg',\n",
       " '2338df0811047d7fef43d4e066c3194ef2ec4ea399499d56118c5be0e433b616': 'http://leakynews.s3.amazonaws.com/pub/wp-content/uploads/2012/04/dianna-agron.jpg',\n",
       " '9f5464385d21f88ae6da8658c70679a2ac7eb2788b7ec90db9e72c74d9b2efa4': 'http://im05.thewallpapers.org/photo/41651/Dianna-Agron-046.jpg',\n",
       " '39d652fd690848f093aced2c2a3fdeedc8f2f8c1ffe95edaaee71dc0b3dbcd03': 'http://images4.fanpop.com/image/photos/15300000/Dianna-Primiere-Party-of-Season-2-dianna-agron-15381820-1707-2560.jpg',\n",
       " '47ce70245cbb617008d3601dfdd7ad7e440e38c645d6eb10f98c3f6be91f83a0': 'http://www.all-wallpapers.net/wallpapers/2013/03/Dianna-Agron-wallpaper-1024x1024.jpg',\n",
       " '70467626e84647b301c9fe96421c6166a4d72bb4db5dc384c17b4f9ecc698d88': 'http://www.ultimategate.com/web/wp-content/uploads/dianna-agron-oscars-2011-02.jpg',\n",
       " '4d640a950da69fccf112b5b13aef090e9715340a02d5f48cf368e3cd42b49e4e': 'http://wallmii.com/wp-content/uploads/2013/05/Dianna-Agron-Beautiful-Smile-Full-HD-Wallpaper-5.jpg',\n",
       " 'c3c5a3935ff70df32d7cf85dd1bea4abe30fe6a3d82b68c097ca6b26ac10b225': 'http://images5.fanpop.com/image/photos/25100000/Dianna-Agron-3-dianna-agron-25167381-500-635.jpg',\n",
       " 'cb4ce35eaf4f364260a7c1e6998f9f54f0d076172dd871b03ee92627c9d28bc1': 'http://hairstyles.thehairstyler.com/hairstyle_views/front_view_images/2202/original/Dianna-Agron.jpg',\n",
       " '4d475b417d18176f2c6861ffe6c3fef054a401b6bf847b72bd2782e2364e1532': 'http://ucesy-sk.happyhair.sk/celebrity_img/agron1f111.jpg',\n",
       " '8483e583351b7b36ed5cf961ec583d322f39c75ffd97f8a20f8f3892ec2ac05d': 'http://3.bp.blogspot.com/_V-JGoQCb5k0/TTTglkWD_6I/AAAAAAAABrg/NrlQ9Qs0ySU/s1600/dianna-agron-golden-globes-red-carpet-2011-01.jpg',\n",
       " 'e419dd0b92847450690844d6ef50af3b7e8f974fd009a4ea6ba863ee4dfc0575': 'http://img2.timeinc.net/instyle/images/2010/transformation/2007-dianna-agron-1-400.jpg',\n",
       " '900b4682c10e66796cc577d1e19ad061c3ad899b757599836530254dad07f422': 'http://briggsphoto.net/wp-content/uploads/2011/05/dianna-agron-pictures-1.jpg',\n",
       " '894c102f14804fab9a2d092ca74e9705eefe753292b74b2839cfe926ff2d6cba': 'http://2.bp.blogspot.com/-lyASUpvTtw0/TuKlbRKKhAI/AAAAAAAABW4/oL0nEsUxqt4/s1600/diannaagron_1262921779.jpg',\n",
       " '4b43be74b95dcbb92c66133895e97b6692b52b5bd37083b5e23bbbf94c283033': 'http://images2.fanpop.com/image/photos/8900000/Dianna-Agron-dianna-agron-8923979-1024-768.jpg',\n",
       " '3610ce5becf5f8b278645df21bde72562fd56b507161eee62e1ae42acedb9d47': 'http://assets.gearlive.com/tvenvy/blogimages/dianna-agron.jpg',\n",
       " 'aecea7fc82361b7fcaf61a6ae80db2c0d13a63fb6037b1a113b81946be19e27c': 'http://cdn03.cdn.justjared.com/wp-content/uploads/2013/06/agron-myspace/dianna-agron-jennifer-morrison-new-myspace-launch-29.jpg',\n",
       " 'd4fd897fe51f66246d22e4a75a37e20a9e14193e1ee7f0afbf13a7e2228af05b': 'http://wallmii.com/wp-content/uploads/2013/05/Dianna-Agron-Beautiful-Full-HD-Wallpaper-8.jpg',\n",
       " 'a195b87d7f24c536f46667f10b4d6c6420c8b9b334ad4296b2125a23ee6e175d': 'http://www.thewallpapers.org/photo/41735/Dianna-Agron-008.jpg',\n",
       " 'b08c544ec564149588cc1956b8399f3dc27a49bc249da892e99ec34525bc1bd6': 'http://cdn3-public.ladmedia.fr/var/public/storage/images/toutes-les-interviews/dianna-agron-j-ai-galere-4-ans-avant-glee-22729/196869-1-fre-FR/Dianna-Agron-J-ai-galere-4-ans-avant-Glee_portrait_w674.jpg',\n",
       " 'c613a30e89c2bb3c03b4942f1df89008c6dc87316ad8b72934a690a68cde9f62': 'http://www.theplace2.ru/archive/dianna_agron/img/33856_diannaagron_19.jpg',\n",
       " 'e5e002c7d61976f3f5a00a69fb2f04033bfc323791f745d2f95a07971d2de823': 'http://cdn04.cdn.justjared.com/wp-content/uploads/2012/05/agron-leavin/dianna-agron-leaving-glee-01.jpg',\n",
       " '220afb61c4a3fcba32512f9f9342f887dd883ac910068b1b9b495550d9c581e8': 'http://www.thewallpapers.org/photo/41806/Dianna-Agron-052.jpg',\n",
       " 'a4ad8ae497477eacdfbc32e2951a4888d7040b9bc4cece08fe69aac270eb944c': 'http://4.bp.blogspot.com/-UflRw3kkQRM/TaG7EJc3IlI/AAAAAAAAB9o/KA3RtlR-ICc/s1600/Dianna_Agron.jpg',\n",
       " '179653dc356d7fbb2e211b0d984879829af0309a335ab5359e0a68c4f0009843': 'http://cdn01.cdn.justjared.com/wp-content/uploads/2011/09/agron-mccord/dianna-agron-annalynn-mccord-01.jpg',\n",
       " '9bcd82579c86cc3897a3f09331d2cb0bd6abe8cefb53b0760ac55a994ce908a3': 'http://images2.fanpop.com/images/photos/8000000/Dianna-Agron-glee-8033570-1680-2529.jpg',\n",
       " 'b717de804587026bd37ffe27b747e5084cca48fa283890ca3a64e8587bce2548': 'http://images4.fanpop.com/image/photos/15200000/Diana-Agron-dianna-agron-15227749-266-399.jpg',\n",
       " '3e80b55de25f75b335969b848ee98c0cbc3a46bbc795b520e3c3f78cf8911f8b': 'http://hairstyles.thehairstyler.com/hairstyle_views/front_view_images/3358/original/Dianna-Agron.jpg',\n",
       " 'ab21894c40aa0389a9cc3454b2fa93527e57b47abe5eea4d1d1c86e38dece48c': 'http://images4.fanpop.com/image/photos/22600000/Dianna-Agron-New-Cosmo-Photoshoot-dianna-agron-22617304-1008-1264.jpg',\n",
       " 'f6c20fc7696d57b4c9e9d0415ecdb3b77005a21bd192cda3e092c58d2b7c5afe': 'http://images5.fanpop.com/image/photos/25100000/Dianna-Agron-3-dianna-agron-25167319-632-1024.jpg',\n",
       " 'a5d98e0146f5b2e22eadbe6676cb26d310fc7b7aa860e6516c41db3a847d0def': 'http://media.tumblr.com/3d9048a8986a8fec309e24af7078997d/tumblr_inline_msq49wl9IO1qz4rgp.jpg',\n",
       " 'dbc4bd1d7cf0707c0888990a0cbd7653a773b16dcc6ea996d82cccaca19e1e60': 'http://cdn03.cdn.justjared.com/wp-content/uploads/headlines/2013/09/dianna-agron-i-wear-dark-lipstick-for-special-occasions.jpg',\n",
       " '9f3fad88f8045dd224a8a117bcee92e52e13ca1c623401410b61629c4c69d43b': 'http://thumbs2.modthesims.info/img/4/1/4/4/1/0/7/MTS_chechefly-1160013-dianna-agron-20091024001410466_640w.jpg',\n",
       " '6d20ca676540fe3b04decad75cb4ffe5e84c7463cc60dfc8268a91588d37df17': 'http://ucesy-sk.happyhair.sk/celebrity_img/agron1o411.jpg',\n",
       " '5d14464feb7151b3bd7e4856f1b151666c3de72f0c7eb5f1855ea4a7321516c0': 'http://cdn01.cdn.justjared.com/wp-content/uploads/2012/02/agron-marni/dianna-agron-lily-collins-marni-for-hm-02.jpg',\n",
       " '4887f658fb7c30b4e3eefd2efc1d7733496d0dfc82f852b3875b614966febf6c': 'http://www.exposay.com/celebrity-photos/dianna-agron-whip-los-angeles-premiere-0c4SRX.jpg',\n",
       " '5673e8b022881e52bac488e6a56aa9f3511ae934e0ad0bcf85ecb205f9263bc1': 'http://leakynews.s3.amazonaws.com/pub/wp-content/uploads/2012/04/dianna-agron-244x244.jpg',\n",
       " '3fd563fea6f117d43af64b9cb3e75e66237bcc1dac7a9ec771b1b948602dbe5e': 'http://cdn01.cdn.justjared.com/wp-content/uploads/2011/01/agron-fox/dianna-agron-fox-all-stars-party-02.jpg',\n",
       " '9fc83f617798bed1d0fdefb84b4528d6112d2744e1e58f13210d618242093159': 'http://images.askmen.com/photos/dianna-agron/dianna-agron-88115.jpg',\n",
       " '1383c571adf1e4629bae7d345cf7b55b8c4a1d3485e00b88a4c1f69ba8c8bed6': 'http://4.bp.blogspot.com/-lFtFoasuMXI/UX_8dMFBa_I/AAAAAAAAEGw/aw_KjZfUjNQ/s1600/Dianna%252BAgron%252Bphoto-001.jpg',\n",
       " '1013c8f05b31710b1384646bf0f4e9a3fa4df0b1d2dbf1bda7b0370cd49f4192': 'http://favimages.net/wp-content/uploads/2013/07/dianna-agron-celebrity-actress-woman-pretty.jpg',\n",
       " '4ab00ff8190e661ac61609eef4a07745748f1704011f61d7c1b35cc5bba2ad16': 'http://ucesy-sk.happyhair.sk/celebrity_img/agron1a2611.jpg',\n",
       " '1c57305e3378634d2b81cc1f079ad1236bed1ad6ddf16e253b11d0a2d6b20497': 'http://s.plurielles.fr/mmdia/i/86/1/dianna-agron-10502861jbgiy.jpg',\n",
       " '7ef5548acef3fccc6496d9ac79aa5724265861aea6fe07c313851956c9af26b4': 'http://how-lovely.org/wp-content/uploads/2013/04/dianna-agron-04.jpg',\n",
       " '132aaf2fa7b7acb78df439f9213453e65bd1357ce997d0517bcb68d9f1b71460': 'http://cdn01.cdn.justjared.com/wp-content/uploads/2010/12/agron-snacks/dianna-agron-snacks-filming-jane-lynch-04.jpg',\n",
       " '799dce453c185716c6dd885575f758bc35133cfb2bd0954120511c63d307e0b5': 'http://img2.timeinc.net/instyle/images/2010/transformation/2010-dianna-agron-4-400.jpg',\n",
       " 'f971038ed9e5fd88b449b71e1a09ac8bf831aa7c329541ecdf10fac882de521a': 'http://www1.pictures.stylebistro.com/gi/Dianna%25252BAgron%25252BLong%25252BHairstyles%25252BLong%25252BStraight%25252BdC0VfdXbzS3l.jpg',\n",
       " '9b6bff91715c6facd91b5fe145313469679e7384b6ff43e35bf92c8d42d8b1c7': 'http://img2.timeinc.net/instyle/images/2010/transformation/2009-dianna-agron-2-400.jpg',\n",
       " '5d73302310196844680d7a5af375b4526db5e81933b7b343513b8f5ce9bca028': 'http://media.onsugar.com/files/2010/08/34/0/192/1922153/ff1cd7cbc56a26f9_Dianna-Agron.jpg',\n",
       " '93996f714120cb61d8b0e4cfc7be60b5b0abe65e855d2f33c75f69187b398268': 'http://healthyceleb.com/wp-content/uploads/2013/01/Dianna-Agron-Face-Closeup.jpeg',\n",
       " '1c6762223d2cc50899570bfff0bc5c94caf3f36de583b8f4df5a0c648da95df5': 'http://cdn01.cdn.justjared.com/wp-content/uploads/2011/12/agron-trevor/dianna-agron-darren-criss-trevor-live-01.jpg',\n",
       " '648e2e5a83b795ae2f3a890f7cb6a4c9bff972de03c88576bbf5d9f87854f4cc': 'http://images6.fanpop.com/image/photos/34300000/Dianna-Agron-dianna-agron-34364384-930-1302.jpg',\n",
       " 'ed57074d77612fcf10c9e5fa5822799219ebb5da372450714403609d5a671ef6': 'http://drop.ndtv.com/Movies/images/articles/big/dianna-agron-quit.jpg',\n",
       " 'd5e041a51711a97de4b0f3607733a322394849efcbd63edc1dfd4fa7bd5b20a7': 'http://images5.fanpop.com/image/photos/27400000/Trevor-Live-at-The-Hollywood-Palladium-dianna-agron-27430923-1981-2560.jpg',\n",
       " 'd82fbfe804042cabe4be7dfa7e162d2cb63c0bb7ede38f7ceafd418e71cabcf3': 'http://www.fashionfame.com/wp-content/uploads/2011/12/dianna-agron-nylon-cover-party.jpeg',\n",
       " '9161370f68e468dd025699af8dee96d9ae89d280eb9db34bb2de98664d8408fb': 'http://cdn02.cdn.justjared.com/wp-content/uploads/2011/10/moretz-agron/chloe-moretz-dianna-agron-cfda-dinner-01.jpg',\n",
       " '3ba5a2d7dec08f0c661b830011aca9f4ba28429dc4f497ea3cbfe586f7f3ccf8': 'http://www3.pictures.zimbio.com/gi/Dianna%252BAgron%252B2010%252BBreakthrough%252BYear%252BAwards%252Bcz5jdnTGYMJl.jpg',\n",
       " 'b94e53755d878e5f0bfff1b9c31fd9f6ce64ca625e31a4fc2a6f27f10aa42d53': 'http://media3.onsugar.com/files/2013/01/02/3/192/1922398/3b76be9102bca0e3_diannaagron.xxxlarge_2.jpg',\n",
       " '0a06d17c50ea140bb883d0f2a3c8066bcba025d2fc985452712854f2b56b3a16': 'http://images6.fanpop.com/image/photos/33000000/Dianna-Agron-portraited-by-Steven-Taylor-in-Dublin-Ireland-during-the-Glee-Live-tour-dianna-agron-33083506-963-700.jpg',\n",
       " 'd3f6e0bee4e6d386807753c8f858d6698b83bdbfedbd4f6ea933cf49f01c169d': 'http://cdn01.cdn.justjared.com/wp-content/uploads/2013/05/agron-roberts/dianna-agron-emma-roberts-these-girls-presentation-01.jpg',\n",
       " '393b2d7ce5f9bcfe6e3b9a2d8057d2f4a79e2b3e5c2662aaf7f32dd37eb3e5b7': 'http://www.topnews.in/files/images/Dianna-Agron1.jpg',\n",
       " 'e4bbb466b9acdba8c642e19b5603b751fb9b9ed39c94e9067d35442e377f844f': 'http://images2.fanpop.com/image/photos/12300000/diana-agron-dianna-agron-12362255-500-532.jpg',\n",
       " 'b7b5cda9b58d9089ce8fb24913badba695c4ec17db0b2c10a16d606736c22b0b': 'http://images5.fanpop.com/image/photos/26700000/Dianna-Agron-dianna-elise-agron-26717992-500-333.jpg',\n",
       " '300e93a9983ed41194f66a7727c1bf82e071841442c7bda1e0a402045d34a27f': 'http://cdn01.cdn.justjared.com/wp-content/uploads/2011/08/agron-premiere2/dianna-agron-glee-3d-movie-premiere-01.jpg',\n",
       " 'a8b1e9f7cc40149092603be63a99ae225cb0a34004ae587bc9bd87dc7e8e1312': 'http://apostscriptbride.files.wordpress.com/2011/03/dianna-agron-sag-awards.jpg',\n",
       " '9606dbeed8acb4b8fd4d98a29f6c1850071957e54d014bb7b5d0c67855c28fea': 'http://2.bp.blogspot.com/-O2zRGny19EA/UXFTCwlNNbI/AAAAAAAALUo/xtK0VIoexm0/s1600/Dianna%252BAgron%252BSpicy%252BWallpapers.jpg',\n",
       " 'ca1ad353bce6bdd99fb4ad2e41c22bf27197d1cbbe7b702fe00947d1be7bee22': 'http://topnews.in/files/images/Dianna-Agron1_2.jpg',\n",
       " '2f04f6793eafe98eff41f56513648ad58950753d12322f9e5ea64cab8f91bdd2': 'http://images2.fanpop.com/images/photos/8300000/Dianna-Agron-dianna-agron-8334700-1705-2560.jpg',\n",
       " '906ebfd90c8218cc5a187255f671a157afe947e3387dfc9ae0fc6b08c0fe84c6': 'http://beautelicious.com/wp-content/uploads/2013/09/Dianna-Agron-e1379288933583.jpg',\n",
       " '730fe7429d95a2d68a0dbbf1a7f12ff121f2ea58b4a2ffef9e47b19cff84b084': 'http://cdn1-public.ladmedia.fr/var/public/storage/images/look/toutes-les-news-look/photos/beaute-dianna-agron-les-astuces-coiffures-de-son-carre-sexy-94311/la-coupe-de-dianna-agron-pour-la-premiere-mondiale-de-glee-3d-ebouriffante-94313/793085-1-fre-FR/La-coupe-de-Dianna-Agron-pour-la-premiere-mondiale-de-Glee-3D-ebouriffante_portrait_w674.jpg',\n",
       " '6be42237de07a8ee57c63923acbc25541db8cca30fca4c9b71d08d5961a3c0c4': 'http://cdn03.cdn.justjared.com/wp-content/uploads/2011/02/agron-oscars/dianna-agron-oscars-2011-02.jpg',\n",
       " 'dbd7815cd1ab6f2513603ec083ba9ac3a3722be6f9807789fca75bc1bd7684ef': 'http://images4.fanpop.com/image/photos/22600000/Dianna-Agron-New-Cosmo-Photoshoot-dianna-agron-22617429-1008-1264.jpg',\n",
       " '8347187c9c74048b49f1bba623c662f43a7a0a08024ef1828598a217f062b35b': 'http://cdn02.cdn.justjared.com/wp-content/uploads/2012/10/stone-miu/emma-stone-dianna-agron-miu-miu-fashion-show-03.jpg',\n",
       " '677f9ea10b3ac80ae9b7911686fe3faabaccc0af6468d80e9241e4c9accca66a': 'http://assets1.ignimgs.com/2009/10/24/dianna-agron-20091024001410466-3034056_640w.jpg',\n",
       " 'f80832882d909067b5b0e1ae05f936575440ebdfca967ca6e2674c383045d726': 'http://images5.fanpop.com/image/photos/27400000/Trevor-Live-at-The-Hollywood-Palladium-dianna-agron-27431040-543-594.jpg',\n",
       " '991ca33f4cfd74444df38fc2c371f1b531b1a86573e6ef7f9615cb444b327102': 'http://4.bp.blogspot.com/-BdGqamrO3MU/TeQpP9qunEI/AAAAAAAAAOM/NURQ-SyvliM/s1600/031510-Dianna-Agron-400.jpg',\n",
       " '9903acdf4c40bf4a06acd22cc5963d335cd75c9c6ea8ba3d83ec17578d884b56': 'http://cdn03.cdn.justjared.com/wp-content/uploads/headlines/2014/01/dianna-agron-im-a-total-tomboy.jpg',\n",
       " '2669fb12a7fa36060cffbbe782c81d366733bb9f34e3ab5e7673a57e1a131b1d': 'http://cdn04.cdn.justjared.com/wp-content/uploads/2012/05/agron-leavin/dianna-agron-leaving-glee-07.jpg',\n",
       " '91fe2aa0e1662362a0757ea3538d1edb9f73cd17cb9f0337b43a791d0abf5c95': 'http://images2.fanpop.com/image/photos/8900000/Dianna-Agron-dianna-agron-8923957-1024-768.jpg',\n",
       " '092795399b8d04e03359fd22a5bcfe446b615be8cec96d2765d6267f0c08d4ab': 'http://www.exposay.com/celebrity-photos/dianna-agron-2009-tca-summer-tour-fox-allstar-1jbH8J.jpg',\n",
       " 'b5a9de056057471ba559dddc1c4520936b7069ebdd8a0df181b210f30e99417c': 'http://images.askmen.com/photos/dianna-agron/dianna-agron-87483.jpg',\n",
       " '15bf6e336b8498298bd40ddd9888503f38fe60abc5a0d28a5745868052ae7d2e': 'http://i.dailymail.co.uk/i/pix/2012/06/20/article-0-13B1F553000005DC-841_634x821.jpg',\n",
       " '14bb4b70d6c05a4b5f33bb19596a52e4cdd68c2f973554b4359bcd12b895bc8a': 'http://www.formulatv.com/images/fgaleria/21500/21530_dianna-agron.jpg',\n",
       " '5c599483e3ecedcf513508756feedd9d0b5a8d70a0e63f98483ee96ba978af12': 'http://ennvy.com/wp-content/uploads/Dianna_Agron_Tattoo_11.jpg',\n",
       " '3d03ee8b208d5bd93ebd1b8b40ee4089e1703b63f06e7571f32afc354b72626f': 'https://pbs.twimg.com/profile_images/412733638300540928/2vxWzSWD.jpeg',\n",
       " '3edc32fda4d5e8df2c7834d93658cc9a9524f6c696ef7c38a9da88145a9d3962': 'http://www.sawfirst.com/wp-content/uploads/2013/10/Dianna-Agron-Giorgio-Armani-One-Night-Only-NYC-in-NYC-4.jpg',\n",
       " '9ef77aec355e256713d6279688a0c3ddd5077e40be7418bb5a8367cbc40a771f': 'http://wallpoper.com/images/00/42/53/01/dianna-agron_00425301.jpg',\n",
       " 'ce585f2e271b6685230e04794d0b28ce15d988af8bc79382e7b08090b909e1c3': 'http://www2.pictures.zimbio.com/gi/Dianna%252BAgron%252BFox%252BGlee%252BSpring%252BPremiere%252BSoiree%252BsjK5d_Ls85Dl.jpg',\n",
       " '62cc74a35883e61994d6fa17d86a0eaf0ee5543b846a630054b47382616a0299': 'http://images4.fanpop.com/image/photos/22300000/dianna-dianna-agron-22381436-500-587.jpg',\n",
       " '3d4bfaf00d5bee0bb00daa3d5c78b699fa7960692e3aa3085055dc427766ec0b': 'http://cdn01.cdn.justjared.com/wp-content/uploads/2010/08/agron-emmys/dianna-agron-emmys-2010-red-carpet-02.jpg',\n",
       " '341abf1644d48dbb59644e996c0581dc2cf08285031d7147b6dc17de3285ffad': 'http://cdn02.cdn.justjared.com/wp-content/uploads/2011/12/agron-nylonp/dianna-agron-nylon-cover-party-05.jpg',\n",
       " '1d868135a24c3ce0b14d9977af7066c267bfd510a69af5d9eaad1ad262df4595': 'http://images.wikia.com/glee/fr/images/0/01/Dianna-agron-oscar-parties-01.jpg',\n",
       " 'bee0d1c42cfa3d92ba691227fc7a71d364dad731aa2ceba7d93db8d368bd8879': 'http://images2.fanpop.com/image/photos/8500000/glee-girls-dianna-agron-8561390-1184-1500.jpg',\n",
       " '3a3e711772d2f141360ce907cb262bb58d62705874490884dfa5fba892772fde': 'http://images5.fanpop.com/image/photos/31500000/DiannaAgron-dianna-agron-31558199-489-599.png',\n",
       " '1353f12d1694bf929ce316d13ff1ea0c2beaa11cfd8fe5ede87be7f020922e31': 'http://images5.fanpop.com/image/photos/30700000/New-photoshoot-Dianna-Agron-dianna-agron-30752497-487-650.jpg',\n",
       " 'b8a019a2d8c8aaf4f1dcaffc99833e4791085bd96c57df3e62bfd881254c40d3': 'http://4.bp.blogspot.com/-93lhRC9FrlE/T4UYYuLmnuI/AAAAAAAAEA0/bUBiHNZ3t3Y/s1600/Dianna%252BAgron%252B1.jpg',\n",
       " '657f315727b372657d79919f3ea2cf682018bd0b217617978f1092c020642007': 'http://cdn03.cdn.justjared.com/wp-content/uploads/2011/11/agron-decorations/dianna-agron-christmas-decoration-shopping-02.jpg',\n",
       " '8226bd6731b25e817c29ac97bf6bc120d3667af0204ef7abd8d963babf3cb5e4': 'http://cdn02.cdn.justjaredjr.com/wp-content/uploads/headlines/2011/01/dianna-agron-fox-party.jpg',\n",
       " '894637b3ea3b50e0c055dda614a6cf82e44d48ce3af806c2b2d21e6d0d3ad75d': 'http://www2.pictures.zimbio.com/gi/Dianna%252BAgron%252B21st%252BAnnual%252BGLAAD%252BMedia%252BAwards%252BZEQ3jDW5FXwl.jpg',\n",
       " 'f75532aba2a4a1cc247e19ce3e6fe22572ae2185228b9e483666a5d87554de02': 'http://cdn.sheknows.com/articles/2013/08/dianna-agron-louis-vuitton.jpg',\n",
       " 'a332ae999a9617c7912601dda876e0871cad47a0e3ab8fcc855b95a1571982dd': 'http://images5.fanpop.com/image/photos/26700000/Dianna-Agron-3-dianna-agron-26734154-471-700.jpg',\n",
       " '68f2756d49769fea69f306a3c1101be9f67fe588f901eb2cd218c64bd1018f52': 'http://images2.fanpop.com/image/photos/8700000/Dianna-Agron-dianna-agron-8731366-1952-2560.jpg',\n",
       " '4cdc3d6aebec58fb1d873436d9fc12c70443d181e5bcf941cfdc304624845e83': 'http://wallpapersus.com/wallpapers/2012/11/dianna-agron-actor-celebrity-1136x640.jpg',\n",
       " '43fc8d3e38eedcab625764b58f7c547d7e69ec065fc34f9339aa9495a169a7e6': 'http://fashionphobia.org/wp-content/uploads/2013/12/Dianna-Agron-Short-Hairstyle.jpg',\n",
       " '1d75097b66764e8ab775fc24ec0ad53ac3d50740110479843fb334bf899b1a3d': 'http://i.dailymail.co.uk/i/pix/2013/09/05/video-undefined-1BA1BC6D000005DC-622_636x358.jpg',\n",
       " '8e21f42887c53119cf922f0fd91ebd4ae5ee11793a9106fcbfa5d6f4d722b4a7': 'http://images4.fanpop.com/image/photos/22600000/Dianna-Agron-New-Cosmo-Photoshoot-dianna-agron-22617302-1008-1264.jpg',\n",
       " '781ea810413194963c7473628a5ca11075654b7ac36c70f432c4d9792adb8520': 'http://images2.fanpop.com/image/photos/8500000/Dianna-and-the-cast-dianna-agron-8561264-1296-1500.jpg',\n",
       " 'fa91da1a299726d3f26a7756078ba4ac45397e773f4478494518ad620d70d38e': 'http://i.dailymail.co.uk/i/pix/2013/11/19/article-2510084-1983EB4E00000578-848_306x423.jpg',\n",
       " '81231ed04aa6b82303cf304c32dcc1b1c1a77f4a81ce9cb50ab54c2e76138649': 'http://media-cache-ak0.pinimg.com/236x/4e/68/b1/4e68b1810620e16dd430c16918e5db8e.jpg',\n",
       " '470e17b1334bf38e8b85b045bb0026e6df4537bf2299f1ca6ac13aec1a3428b4': 'http://media-cache-ak0.pinimg.com/236x/f9/bb/76/f9bb76d648325e834deca7a6a2a5cbeb.jpg',\n",
       " 'dda75f5b1298932e263eb87aeefcb29ef8aff233ac26b18a6df035b52213192b': 'http://images5.fanpop.com/image/photos/28300000/Dianna-s-Facebook-dianna-agron-28366421-900-600.jpg',\n",
       " '05b62c87127fba7703a517b99133555918bf3f243ba8981b6dbb7f0343172f57': 'http://wallpaperskd.com/wallpapers/2012/03/dianna-agron-widescreen-1050x1680.jpg',\n",
       " '84b683a7362fced44b9578b0bdf0281ffb1b0792c889a6d0e78a4d353cd68574': 'http://i.dailymail.co.uk/i/pix/2011/08/07/article-2023344-0D545D1900000578-907_634x952.jpg',\n",
       " 'd4fb0b14ec87502fea837ed0fde647b1dc53c67cc2e95997ec2e0dcf91d4f585': 'http://images2.fanpop.com/image/photos/8500000/Dianna-and-the-cast-dianna-agron-8561268-1319-1500.jpg',\n",
       " '7c6c958e7f4174ff30908ccaa74ae829950abbfa49a989424409e58e6db20a3f': 'http://plasticsurgerystar.com/images/measurements3/dianna-agron-body-height-weight/dianna-agron-weight.jpg',\n",
       " '57497ebc77b44928785fcd7cedce964333502180edf44c4e389faa6f6fcf4260': 'http://cdn01.cdn.justjared.com/wp-content/uploads/headlines/2013/12/dianna-agron-ill-be-at-amber-rileys-show-with-bells-on.jpg',\n",
       " '479c8d66eb6a08492625b4401b49ee8d79a51f05a96bc3a5de71293a0a02dddc': 'http://images4.fanpop.com/image/photos/19500000/Lea-Michele-Dianna-Agron-glee-19506232-700-600.jpg',\n",
       " 'd3fb673240803ee9567ffe879dd852f32bcc5bffbb9fbc2fd6f5a143ebab60f1': 'http://images2.fanpop.com/images/photos/7400000/gillian-anderson-the-x-files-7432619-2088-2560.jpg',\n",
       " '7c6ea2084c450954ddfae1e043b6eee090155f635660339eb62ce89c313b93af': 'http://images2.fanpop.com/images/photos/7400000/gillian-anderson-the-x-files-7432596-1925-2560.jpg',\n",
       " '30e93ca9c88d6f18d2b34679f5d36bcff6be337ca811b087d52f9a6d5ecde8a2': 'http://images4.fanpop.com/image/photos/20000000/gillian-anderson-gillian-anderson-20037364-1783-2560.jpg',\n",
       " '335815ce5358741cec81b895f341a66162d7609ff1480feed93737fe8c61d617': 'http://i634.photobucket.com/albums/uu63/CoryHolmes/gillian-anderson-esquire-3.jpg',\n",
       " '7ef684526f5c181a4a8c2baa90d7523330af2cd496e5f733fa427fddc0ca34fb': 'http://images3.wikia.nocookie.net/__cb20130522084456/hannibal/images/b/b7/GA.jpg',\n",
       " 'ce0341e126ec3877972fafe6483112b4b76db5eace68d5dd6f5c0f1724ebc631': 'http://i.telegraph.co.uk/multimedia/archive/02377/gilliananderson_2377915b.jpg',\n",
       " 'bc9318f35587a48d0ea16db114eaeb62301381787a9215f9b711d1062473c949': 'http://static1.wikia.nocookie.net/__cb20130722222027/fiftyshadesofgrey/images/4/4a/Gillian-Anderson-2012-gillian-anderson-29336719-1820-2560.jpg',\n",
       " 'd582141a2143be80a74f38028a12979c690200b4c1ba1e9cba79a773da9b0a78': 'http://images6.fanpop.com/image/photos/32800000/Gillian-Anderson-gillian-anderson-32830518-1024-768.png',\n",
       " 'f9a4f9a71719ede4cb819310f9f550e3f2b948e95238a0a65254eb88541674a8': 'http://www.hawtcelebs.com/wp-content/uploads/2012/10/GILLIAN-ANDERSON-at-Great-Expectations-Premiere-in-Rome-16.jpg',\n",
       " '23ea5321b286cd4b316aae54320f8020d4437702a34ba5d0165a7a3524ed6d79': 'http://static.squarespace.com/static/516b7d0ee4b0f45e71c89f03/516c96c9e4b07ff4a904c0ea/516c96d5e4b07ff4a904c726/1356114197000/Gillian_Anderson.jpg',\n",
       " 'c4f8a40f31dc1626d057a5a3fe6b7f7e133b596a9ec67da5e45dca371600fb3c': 'https://static.squarespace.com/static/51b3dc8ee4b051b96ceb10de/51ce6099e4b0d911b4489b79/51ce61b7e4b0d911b449e3b5/1368149665673/1000w/header-ben-kingsley-and-gillian-anderson-join-our-robot-overlords.jpg',\n",
       " '903af425c0fb71eb88dd0867f2181e196284d6472d0026adc2ce858ddfd3d10f': 'http://www.starswelove.com/celebrities/g/gilliananderson/pictures/gillian_anderson005b.jpg',\n",
       " '9dd732b32dc24d9d5bd87cf382c68a7cf7e788063e0f79f8c7bfd756f427affd': 'http://i2.cdnds.net/11/35/showbiz_gillian_anderson.jpg',\n",
       " '03c71c82fcf0bdf75d825e4e45ad1bd0165ebb2d8291bd449a2cad2af82cc513': 'http://images6.fanpop.com/image/photos/32900000/Gillian-Anderson-gillian-anderson-32960209-1137-1603.jpg',\n",
       " 'd3d79f511ebe1b9061b0334c807744f415debcb35b0413ae65f6356d16f98212': 'http://www.hawtcelebs.com/wp-content/uploads/2012/10/GILLIAN-ANDERSON-at-Great-Expectations-Premiere-in-Rome-9.jpg',\n",
       " '11327c780b49928e3be52c0600365c61d6b8fa2fc8262b91820137a5b1c4e51a': 'http://cdn.fearnet.com/sites/default/files/article_images/gillian_anderson.jpg',\n",
       " 'd9d1c5260c557f79cbd8f7b3c856860b956fad35abdb85dfd7c53464f29b6120': 'http://images2.fanpop.com/image/photos/12200000/gillian-anderson-gillian-anderson-12237699-1960-2560.jpg',\n",
       " '79ad2478c77fc5620ccfae962d7d564e7612582116b1fa37484a77bdd3262001': 'http://diyhades.files.wordpress.com/2010/04/gillian-anderson-tatoo.jpg',\n",
       " '6eddd1e4b48b8711fdb96926774ecbfa4d3898c9960ef835f15a92545bca4f02': 'http://images6.fanpop.com/image/photos/33100000/Gillian-Anderson-gillian-anderson-33102676-2023-3000.jpg',\n",
       " 'ca4dd62320c09dcca0bdcd4bd7a7d2c291381894bf6d8fcc2b36099a530b1728': 'http://images6.fanpop.com/image/photos/32800000/Gillian-Anderson-gillian-anderson-32830516-1024-768.png',\n",
       " 'e4cc2639580458d49372dd0151fff169e1a3c64a77ddec9da899f85ad123d813': 'http://media.salon.com/2013/12/gillian_anderson-e1386092306795-1280x960.jpg',\n",
       " 'f20a1fd3308178995b4691f81b717e9092e4eab6a761f303cd3ef22a82ae27ff': 'http://images4.fanpop.com/image/photos/23500000/gillian-anderson-poster-gillian-anderson-23538701-1456-2560.jpg',\n",
       " '71029513476eebf98193e726fb2405cf9aa405ed8b079ee2837b59ecd34dad01': 'http://images2.fanpop.com/images/photos/5900000/Gillian-Anderson-gillian-anderson-5988366-1274-1754.jpg',\n",
       " '09917bcb0a430eca6d654ee422161883723300a938af96bb21064346080d14b7': 'http://images2.fanpop.com/images/photos/4100000/gillian-gillian-anderson-4140280-1683-2560.jpg',\n",
       " '3bc56dc3cf19e55f69203c07f9bab540fd0a29a7f7637bb089f1d9ba462a6e4a': 'http://images4.fanpop.com/image/photos/20000000/gillian-anderson-gillian-anderson-20037344-1789-2560.jpg',\n",
       " '1d957a59229e73f9b0254910686472ff09528fe7b1dd17f2ee2b25f859894656': 'http://images6.fanpop.com/image/photos/32800000/Gillian-Anderson-gillian-anderson-32830358-1024-768.png',\n",
       " 'e6712eaac2492e79dc0f85b57e365431dfa62c83354a33766608c18b0f6a8963': 'http://www.hdwallcloud.com/wp-content/uploads/2013/03/gillian_anderson_15.jpg',\n",
       " 'a4e607cb2017c0a994b52816bc4cf2776a2251dae8b0f64976bdb36c087bd795': 'http://images6.fanpop.com/image/photos/32800000/Gillian-Anderson-gillian-anderson-32829637-1024-768.png',\n",
       " '5729a9c71f8dbf19177e5343166910417753d4398978d682c860d04f19cc1bb3': 'http://images4.fanpop.com/image/photos/22200000/gillian-anderson-gillian-anderson-22214411-1917-2560.jpg',\n",
       " '91e65c5005b54768c101fa5578d9aee28c0978c61a706bbcd283e88b12c5906b': 'http://img.photobucket.com/albums/v80/NoCalMike/Gillian-Anderson-gillian-anderson-32830516-1024-768.png',\n",
       " 'a068a9891ae62632369611ce45656c912f4490f87dcd1999c5dd2b9b53c55b33': 'http://3.bp.blogspot.com/-2E6WecNNeMA/T1ixa5QrNgI/AAAAAAAAB8Q/3A26LuUCtF0/s1600/gillian%252Banderson%252Bheadshot.jpg',\n",
       " 'e627f5d4cb6af0c0acd2e687b8486d04e51a3a7574bdda517f4ce0fe3aa3a826': 'http://1.bp.blogspot.com/-Qm7le0S4TOQ/TlcAi2NehjI/AAAAAAAAAME/Eol_kSa6qMA/s1600/Gillian-Anderson-20081130_Photoshoots-Maxim-May08_01643.jpg',\n",
       " '4371e2ec7f8e7be622e4a99c0c9ea1e3ffd6d048a86d068f8086e9ae3efc1798': 'http://images2.fanpop.com/images/photos/7400000/Gillian-gillian-anderson-7430400-2088-2560.jpg',\n",
       " 'ce727af2415bfb0a1d3543011d08c00a6cb2fd148b73dabcf1cc99cc6c25a0aa': 'http://iv1.lisimg.com/image/3872334/600full-gillian-anderson.jpg',\n",
       " '64dd9cca583fbcd612aecfce5138a13cc6c74e4e8799c91fb8322730bd05c196': 'http://images6.fanpop.com/image/photos/33100000/TV-Guide-Photoshoot-1996-gillian-anderson-33104954-1038-1500.jpg',\n",
       " '184bc5f221c1f63536a349268be8288319f64c141289f91d09515032d302f9d7': 'http://images6.fanpop.com/image/photos/32300000/Gillian-Anderson-gillian-anderson-32316768-1280-1024.jpg',\n",
       " '7f95050ef43bdca5449ef059178b0b881a09682d999dc686073cc52b5187a26a': 'http://images2.fanpop.com/images/photos/3800000/gillian-gillian-anderson-3824273-600-902.jpg',\n",
       " 'fa35968d5f4dfb2fb7584ebe9dae2ec4e0ed40b476e9f843c1d04155c16d4e5d': 'http://images2.fanpop.com/image/photos/10100000/gillian-anderson-gillian-anderson-10196445-1709-2560.jpg',\n",
       " 'e181cffa25e44110073881a92cf8828f2d88f4b4c3318df1ea7026d18094d202': 'http://images4.fanpop.com/image/photos/20000000/gillian-anderson-gillian-anderson-20037376-1878-2560.jpg',\n",
       " '1d7cfc22f4f1a6e3138b2af54a948236b1d5eee3e5d4f1dee244c35253e893ca': 'http://images2.fanpop.com/images/photos/4300000/gillian-gillian-anderson-4341414-1000-1500.jpg',\n",
       " 'ff7e88e85076687d232b02e54565bd5e2700dbd153954befe78e36af1a559e6d': 'http://images6.fanpop.com/image/photos/34300000/Diner-Des-Grand-Chefs-2013-gillian-anderson-34383469-2032-3040.jpg',\n",
       " '58b17489dbae575cf914d2365857b61593ba459c48a1ff01d28f1841e6433a04': 'http://images6.fanpop.com/image/photos/32800000/Gillian-Anderson-gillian-anderson-32830931-1024-768.png',\n",
       " 'e13ae4ccde3222ca2382bc56c0716d1fbbc753826a513ad380eac969d414e5dd': 'http://www.exposay.com/celebrity-photos/gillian-anderson-13th-annual-elton-john-aids-foundation-in-style-oscar-party-muGddW.jpg',\n",
       " '96cb3ab65ac053e3ed66be896f5735295dc1b4001750c9c8db043efa3b20740e': 'http://images6.fanpop.com/image/photos/33100000/Mark-Seliger-Photoshoot-gillian-anderson-33102809-1628-2015.jpg',\n",
       " 'b00c856c8dd246eeefe4ee133ee718c4662ea631edb1276267a8ab32f268f432': 'http://images2.fanpop.com/images/photos/7000000/gillian-anderson-gillian-anderson-7040268-1616-2417.jpg',\n",
       " '01c209934ee8cdb4aef8ee89112cc69986e265c1e3758b933b31bc91df8f090f': 'http://images2.fanpop.com/images/photos/6300000/Gillian-Anderson-in-A-Doll-s-House-gillian-anderson-6310103-2550-1796.jpg',\n",
       " '48445b759ea8a2c0fbb1b679a8e08b4376968b088018c56b399fcdf87c1feb82': 'http://www.hawtcelebs.com/wp-content/uploads/2012/10/GILLIAN-ANDERSON-at-Great-Expectations-Premiere-in-Rome-6.jpg',\n",
       " 'faeea44188e47328fee58d1a9861341e905e5b07b6bf785d1d361aab4429b499': 'http://ennvy.com/wp-content/uploads/2012/08/Gillian-Anderson-Chest4.jpg',\n",
       " '2200e7ea9a4ecd0b3a0ec768071f23025eeae2d53b97526bef86e16a1dfc923e': 'http://images2.fanpop.com/images/photos/6000000/Gillian-Anderson-gillian-anderson-6020963-1039-1200.jpg',\n",
       " 'e6887cbfc2b9c1449a3a331700f7de014bc2242701f99ea66676965e6f8fc092': 'http://d2948ivoqgnz9i.cloudfront.net/photos/33598.jpg',\n",
       " '837ea5bd1306a18469a67ae371ac66e7fb1419f1814d989ff343a419a32d336e': 'http://www.contactmusic.com/pics/la/x_files_premiere_5_300708/gillian_anderson_5169974.jpg',\n",
       " 'a7125ffd6a491ba2b83b75e8776d154c0ac3aaa4fddc874a6cfb2c3fe3d5869f': 'http://images2.fanpop.com/image/photos/9500000/Gillian-Anderson-gillian-anderson-9528142-1680-1050.jpg',\n",
       " '076be47098a59d9b0a40a3ee6a4fdda25ac4c29220aba268927a40bd6c345fcd': 'http://i.huffpost.com/gen/797103/thumbs/o-GILLIAN-ANDERSON-570.jpg',\n",
       " '9b16ab064b5492a9422b15d886c2eb170546a4ad9e54532dac247a3f4adcbc6b': 'http://cdn.fearnet.com/sites/default/files/images/News/gillian_anderson.jpg',\n",
       " '9922eed30e76da27fb7e7b7b7602e35cc906827380ba0d51123e2ec765ca4f96': 'http://images6.fanpop.com/image/photos/32800000/Gillian-Anderson-gillian-anderson-32830524-1024-768.png',\n",
       " '286621d08557fc3813e9afdb92ed7c69a43dae1e3109756555d119b2a531b3be': 'http://images4.fanpop.com/image/photos/23200000/gillian-anderson-gillian-anderson-23229739-1215-1600.jpg',\n",
       " '1de33f4c618d895a21dc4625fbb751b80f0c65c46789853c91cb7d46dd9f9dce': 'http://i.telegraph.co.uk/multimedia/archive/01389/gillian-anderson_1389691f.jpg',\n",
       " 'db7105040e048052303896c93a0f371ace5cf9322d92a628b836fc797b72a55a': 'http://cdn02.cdn.justjared.com/wp-content/uploads/2008/07/gillian-bump/gillian-anderson-baby-bump-07.jpg',\n",
       " '6aec8d01671a6474aa1ab3051d462e6d85fcdda1b0317e8685d97407388ce0cd': 'http://collider.com/wp-content/uploads/the-fall-gillian-anderson-2.jpg',\n",
       " '6e998dfb2104c9b6129cf6227fc0e33b807337277d8cacf1dcc10f5a76d2ebec': 'http://hairstyles.thehairstyler.com/hairstyle_views/front_view_images/383/original/3639_Gillian-Anderson-d_copy_2.jpg',\n",
       " '5db1c9adf2c73f695b6b2f45e75451b8efb2b2c8edb9eef9b3b874e5eb9f6c1e': 'http://25.media.tumblr.com/4d0fe643a2c27e02d0ff0017a1037586/tumblr_moz5pcfnLV1s88ss5o1_1280.jpg',\n",
       " 'f1dbc4e7fcf98d49ca014fb8941ecd75504aeb5c6501b88922dbe9cc3e71e805': 'http://images5.fanpop.com/image/photos/32000000/Gillian-gillian-anderson-32062066-1024-768.jpg',\n",
       " 'cf0a09479aacbd3604667d9ff0712fc010cfd967aee3d310220a36f5e114c71e': 'http://mallsurfer.files.wordpress.com/2012/12/936full-gillian-anderson.jpg',\n",
       " '10a4dfa43dd199641f0d3629ae39b691f0dee3bba2797a17fe5392300aeff92d': 'http://4.bp.blogspot.com/-kv2rRtjUvWQ/T2EqBlYrr_I/AAAAAAAAAJA/AuLuPj9iVbQ/s1600/Gillian%252Banderson%252BI%252Bthink.jpg',\n",
       " '775872528f583aa5e4c47272c84adda913154b9cc657422d48dd2b63328b6d5f': 'http://images6.fanpop.com/image/photos/32800000/Gillian-Anderson-gillian-anderson-32830299-1024-768.png',\n",
       " '16cb3e790097d44bc4aadee4c439a390ab709c59a6f79283ab118d6d973d0096': 'http://images2.fanpop.com/images/photos/7400000/gillian-anderson-the-x-files-7432576-2088-2560.jpg',\n",
       " '76750192023ccfc4f9729d88d98643b282f3b3f55cb3312523ea437a9d22969b': 'http://images4.fanpop.com/image/photos/23100000/gillian-anderson-gillian-anderson-23113850-396-594.jpg',\n",
       " '25fac6b1026ec6995bce227c38dd298cda96c87a4e0d7b45567647f40d82ee17': 'http://www.paksmile.com/photos/hollywood/actresses/images/gillian-anderson/gillian-anderson-5.jpg',\n",
       " 'bab656ad6c440ca348979ee694690c05e7c9c09d98b50a47d57b5c12c39df821': 'http://images4.fanpop.com/image/photos/22200000/gillian-anderson-british-Academy-Television-gillian-anderson-22294376-1708-2560.jpg',\n",
       " '291f349ca123a83dccc19d7b90701c474d42d70d168de306353b924c65bab211': 'http://www1.pictures.stylebistro.com/gi/Gillian%252BAnderson%252BUpdos%252BBobby%252BPinned%252Bupdo%252B6WQxm6KLj4gl.jpg',\n",
       " '9a9bc85bfea031190a1afeaa02da9cb7477f06a7118a3d5c0a18187db33984de': 'http://uknet.com/gallery2/d/12921-2/gillian_anderson1.jpg',\n",
       " '75e37678af69350a51bc541b3a26a24585df2b8fb3e21a0653895dd66869ea16': 'http://images6.fanpop.com/image/photos/33100000/Lorenzo-Agius-shoot-gillian-anderson-33102975-1706-2100.jpg',\n",
       " '6605dba928063449c60657a00fa1b73b15ca1b224b2d57cc974fe1fe40f62b6d': 'http://images2.fanpop.com/images/photos/3300000/gillian-gillian-anderson-3396558-1280-1024.jpg',\n",
       " 'd142a72c46326210aae17e565de22c73b437ecfc7e8b3a65464fd1280bcc041a': 'http://images6.fanpop.com/image/photos/35000000/X-Files-20th-Ann-Panel-at-San-Diego-Comic-Con-2013-gillian-anderson-35076863-2550-3507.jpg',\n",
       " '13e5b8c61474e76e20b644e38100ff848d8a6e4a85292cb6b6b1a608461fcea2': 'http://nerdbiskit.files.wordpress.com/2012/02/936full-gillian-anderson.jpg',\n",
       " 'a2be735e2e596de93d171ae615c805ec90c12e8758a70883af6293b3463afe5a': 'http://www.redfieldplugins.com/samples/GillianAnderson01.jpg',\n",
       " '5ad1ddb668c38d786c50bf399f2402b38be04d093a2876ba977f0d6b6fc6e2e6': 'http://www.contactmusic.com/pics/le/bfi_awards_4_261011/gillian-anderson-at-the-bfi-london-film_5745278.jpg',\n",
       " '0d84c96a29face79530af03d7a8462e1c2dcd23e34058768a0f8d83aab911229': 'http://images1.fanpop.com/images/image_uploads/Gillian-Anderson-gillian-anderson-832006_662_936.jpg',\n",
       " '35e4e7aafa54e0b2c091e3088ee0d7616127e1231ef8ed93fb05d79087552745': 'http://www2.pictures.zimbio.com/gp/Gillian%252BAnderson%252BJulian%252BOzanne%252Bmarried%252BUs9QnfgnmC5l.jpg',\n",
       " 'e668499806fd37a76e36baf84dd1df19f768d904584c3107f2842969298fcc8b': 'http://images2.fanpop.com/images/photos/7000000/gillian-anderson-gillian-anderson-7040321-962-1689.jpg',\n",
       " '7c8b2944ccb0f4b343bf5f7acc2c8499764dc6e2381d7a6e062ee2218cb77a42': 'http://images4.fanpop.com/image/photos/20000000/gillian-anderson-gillian-anderson-20037379-1707-2560.jpg',\n",
       " '19ee0244ca393373b9e534acf21110007bbe3b0164a67ca85ea7a456b6f9e3fd': 'http://static1.wikia.nocookie.net/__cb20120717023403/x-files/images/8/8c/Gillian_Anderson_Scully.jpg',\n",
       " '389097d53c116a9d1b8e25c334d898d93b21be7449418a68b19aeafa7962b271': 'http://www.hollybollyhub.com/gillian-anderson-hot-unseen-photo.jpg',\n",
       " 'e577ba10f7a5a633ff7afbe0ce52be3d19bc8547ec0d95316006f4ed77c8789a': 'http://i.telegraph.co.uk/multimedia/archive/02557/Gillian-Anderson_2557510b.jpg',\n",
       " '71e3d0a086361faa025eca8a28bd1c9a8c421004d6121c0be6cb54432d0ee753': 'http://biografieonline.it/img/bio/g/Gillian_Anderson.jpg',\n",
       " '93071890d8b347beee5dfd3a158d8d162c9be77d8d9fe6bdd1e936f7f6a8d1f5': 'http://images4.fanpop.com/image/photos/16800000/gillian-anderson-psychologies-gillian-anderson-16820281-1900-2560.jpg',\n",
       " 'd51edc73fd30f6ff0d559bdefb0bef70263593437c7d8075c61a0ecb5d69ea55': 'http://www.exposay.com/celebrity-photos/gillian-anderson-johnny-english-reborn-uk-Klw3X4.jpg',\n",
       " 'b9207ec1e5360fb50304afbfc1278870d6273809a8685fb7adfb9d4f91c421f3': 'http://dailydragon.dragoncon.org/wp-content/uploads/dave-nelson-gillian_anderson.jpg',\n",
       " '727d0f880e0d7733aacb5c85a0f502b977c9b99ba7961525b0bd932983038f25': 'http://images5.fanpop.com/image/photos/29300000/Gillian-Anderson-Mulberry-gillian-anderson-29338903-1754-2560.jpg',\n",
       " '3968bec1253dce9af177a9d2e89a865a531e0b2740e20845c0a34de5f33e2715': 'http://images2.fanpop.com/image/photos/12000000/Young-Gillian-Anderson-gillian-anderson-12088856-600-818.jpg',\n",
       " 'c62132723e3dab9900541ea9e4a7c37033ddea35a0df81fadf79f986c2056655': 'http://www.hawtcelebs.com/wp-content/uploads/2012/07/GILLIAN-ANDERSON-Arriving-at-Tatlers-Women-Only-Party-in-London-1.jpg',\n",
       " '8db4d79133a578479cc931c79d1ab3fe7353a330d4cc8fb37906ba7dc52ef524': 'http://wallpaperus.org/wallpapers/celebs/gillian-anderson/gillian-anderson-2014.jpg',\n",
       " '553c2ef1366f9dc1a9a02a0bf363c08b0aff4e822c35508196912b24bf484cee': 'http://www.gossiprocks.com/wallpaper/gillian-anderson/gillian-anderson-1388-iolb.jpg',\n",
       " 'a8f84a7abc7ea07e8b27cc082fedacc67e43a3638271d12f9006015514d5e91d': 'http://images2.fanpop.com/images/photos/7400000/gillian-anderson-the-x-files-7432636-2088-2560.jpg',\n",
       " '056b175b8e07a2f01f99a74759dccb3eafbb00df3e20c8f944b9ebd87a03d791': 'http://images4.fanpop.com/image/photos/20000000/gillian-anderson-gillian-anderson-20037403-1824-2560.jpg',\n",
       " 'e3d8ea9bd0928f5861331728798870845872dd20b91d543622af5cf235c5c338': 'http://i.huffpost.com/gen/1234265/thumbs/r-GILLIAN-ANDERSON-THE-X-FILES-large570.jpg',\n",
       " 'be010962cea8d94328161c61d3863051b50007940126130a48c1d8b21a61f2cb': 'http://4.bp.blogspot.com/-mzvmBUwAUJI/Up16JHJDXAI/AAAAAAABESg/tm0WzQjK9Kc/s1600/Gillian%252BAnderson%252B-%252BFishlove%252BPhotoshoot%252B2013.jpg',\n",
       " 'e50faa00ba67ee6737723e258ad2f936eb5f6d77190b4519d0be77651eda41fb': 'http://4.bp.blogspot.com/-wPL9U8h8Z1Q/Tl5EhIgcpRI/AAAAAAAAC_M/K5EwC4jONro/s1600/Gillian%252BAnderson%252B%252525285%25252529.jpg',\n",
       " 'e42c0a1853d51ffebc3383ce35a96ed2a37a18d61299e259196e5674e76baef3': 'http://www.contactmusic.com/pics/lf/harpers_bazaar_departures_311012/gillian-anderson-departing-the-harpers-bazaar-woman_4154785.jpg',\n",
       " 'f41926ee482bc453a144f7e7ba09622af6783072382e016791d0f8da8e157af9': 'https://pbs.twimg.com/profile_images/2373691687/wghhkr3zvbjrtcsi6y37.jpeg',\n",
       " 'd3214e5280a1cec1e1dfce3eccfb37cb78ef1ad1add1a6cc7e01f963d70a09d1': 'http://resources2.news.com.au/images/2013/09/28/1226728/935914-gillian-anderson.jpg',\n",
       " 'b08775f8636465faf6e8547562ca0cb7feaf1f287c411fab52bce8a585ee520b': 'http://people-reports.com/data_images/gillian-anderson-leigh/gillian-anderson-leigh-05.jpg',\n",
       " 'd5749b65be474d9edf40115f938ad7e9741afdff6d605059bf610a729442086e': 'http://images4.fanpop.com/image/photos/22200000/gillian-anderson-gillian-anderson-22214419-1568-2560.jpg',\n",
       " '13f1438d00254c41210f27d85a5617b314d6c28d97e300a29a849383daea5b51': 'http://upload.wikimedia.org/wikipedia/commons/8/81/Gillian_anderson_lk.jpg',\n",
       " '557ad6233bcc8161385b4f503fb2f4f2799fcff79fa26fd46235abff48f0f6e1': 'http://www.contactmusic.com/pics/md/boogie_woogie_gala_2_130410/gillian_anderson_5459391.jpg',\n",
       " '705b957203eda92b4f325fab430981cc1cab8f9d784bbc0ac5b39b32bd6479f7': 'http://cdn01.cdn.justjared.com/wp-content/uploads/2008/07/gillian-bump/gillian-anderson-baby-bump-14.jpg',\n",
       " 'b87d54be770fef21a3d03588e5e7ac8ef6d70ee60dd58b9d501a5fc9c37d8a3f': 'http://trend911.com/wp-content/Gillian-Anderson-dress-Harpers-Bazaar-Women-of-the-Year-2012-1.jpg',\n",
       " '66e721e1ca88dcb245ebb5a50ffea4dba26ae80a7fc0c8b9de1597234902708a': 'http://www.contactmusic.com/pics/lf/les_miserables_arrivals_11_061212/gillian-anderson-world-premiere-of-les-miserables_4190777.jpg',\n",
       " '08a198b1c00a09459bb9bdc0019b6a7e60e0a473c7e734f7998f6f5b09bc8697': 'http://images1.fanpop.com/images/image_uploads/Gillian-Anderson-gillian-anderson-832045_449_640.jpg',\n",
       " 'b2fc02af9d8153016ba46d8390f7e96c6f58c17bdeae42b814e37ef75d265dbb': 'http://www.exposay.com/celebrity-photos/gillian-anderson-13th-annual-elton-john-aids-foundation-in-style-oscar-party-1s1Rq8.jpg',\n",
       " 'def1f4b58c87edaf19f90e9e99638c8ddb8a579a19c2f63fdf1613a0cf216e8a': 'http://images1.fanpop.com/images/image_uploads/Gillian-Anderson-gillian-anderson-832072_440_613.jpg',\n",
       " 'db5429720d9fcb0e320114e34e86bfb7d73d75ec0a4c47e803b716699bccc491': 'http://i.telegraph.co.uk/multimedia/archive/02554/Gillian-Anderson_2554531b.jpg',\n",
       " '3969664d533dd8c51cb15c12a72ac1673cab9c340563f20ae9d0232ec80bd3bf': 'http://www.exposay.com/celebrity-photos/gillian-anderson-eagle-ninth-uk-premiere-WrkWFk.jpg',\n",
       " '4f6673c75cfd267cf38f870cd53b85ca2ec6c3baff2cf9deb12149d53308eaea': 'http://fc09.deviantart.net/fs71/f/2012/154/e/8/gillian_anderson_supergirl_by_thiagoca-d5241f0.jpg',\n",
       " 'c20b0fb3b36a52309688b6f9a6b29b66b82e69522793b3c7d58fed8f2e024034': 'http://images4.fanpop.com/image/photos/20000000/gillian-anderson-gillian-anderson-20037328-1666-2560.jpg',\n",
       " 'ee2e461538c1584b0af5f4c054f49aabd6bdd7f6bb8ea786c2b8ec205fb52139': 'http://www.celebs101.com/wallpapers/Gillian_Anderson/116914/gillian_anderson_wallpaper_20.jpg',\n",
       " '0d4d7f32401387a109fd5cf47c82f35174bfd14af5025b3f9acbb7bb99c0f637': 'http://i2.cdn.turner.com/cnn/dam/assets/130524175812-the-fall-gillian-anderson-bbc-story-top.jpg',\n",
       " '7c1b9b15662dac11b25b3b042cc86f4b9894cc6218e1e143ff3253c6187bfc96': 'http://cdn02.cdn.justjared.com/wp-content/uploads/2008/07/gillian-bump/gillian-anderson-baby-bump-12.jpg',\n",
       " 'd94312b8d36e7c67f5017917eaf26bf2ce85a583f419b247872e8f4696ea80ae': 'http://thegingerrevolutionmovement.files.wordpress.com/2011/12/gillian-anderson1.jpg',\n",
       " '2ca72e63631c22327142fbf1514b8da590cb9169fd223e09a55071f2489d3490': 'http://4.bp.blogspot.com/-FrUHRS04KfA/UCONBYjBfjI/AAAAAAAAHoE/UPon6cOvfoA/s1600/Gillian%252BAnderson.jpg',\n",
       " '94900c346251bc6fb5cc5879f3835acfed6821afd6ebfe9fe3675da79f1b4631': 'http://www.contactmusic.com/pics/l/return_of_salon_280508/gillian_anderson_1890090.jpg',\n",
       " '4061d193033ae31e8651ee746f5785e871be827730e1d780e50900309307aa81': 'http://nowmagazine.media.ipcdigital.co.uk/11140/000015981/13f8_orh417w310/Gillian-Anderson9.jpg',\n",
       " '5af332c6718783bd81e9635fa33835f0ab2051a3337d7d9d7ef8f12b76c32c24': 'http://newspaper.li/static/73dff5f22ab43b34eee91147459d68d8.jpg',\n",
       " '77459e11a5c5d3c9cf6f8487225b6fadea04ba44ce2c4476201bf248008cc938': 'http://images1.fanpop.com/images/image_uploads/Gillian-gillian-anderson-831928_368_504.jpg',\n",
       " '914cf2b2113856ca6f7f80608aedda3b6738d4479bbb430c7ef7adb37a1b7f71': 'http://i.telegraph.co.uk/multimedia/archive/02557/gill-sum_2557303b.jpg',\n",
       " '062d24621954d6ecf75806d441020f7ea899e22d6c9d5123ee1d399ad31ee950': 'http://i2.cdnds.net/13/29/618x415/showbiz-gillian-anderson-david-duchovny-comic-con-3.jpg',\n",
       " '542657551fd1fe02e96f897b3eb161078e0b33769221b1ccb290fb93654b92c2': 'http://infos-tele.fr/photos/Gillian-Anderson.jpg',\n",
       " '7b9018dd33322d847506873cd52744e82693af2338ee87ef8f2c8c197a5edef4': 'http://i.usatoday.net/life/_photos/2007/12/11/gillian-andersonx.jpg',\n",
       " 'fae55ede818bd2730c9b1c523b8ed1a8f33a8d03ba95c0533634ec8030076d31': 'http://www.morningstarr.co.uk/forum/members/earl-albums-gillian-anderson-picture2715-gillian-anderson-fhm.jpg',\n",
       " '0092101f33d692f173df00ce34f9b44e370014fcd91e53412aa1cb7e6eb4cc28': 'http://images1.fanpop.com/images/image_uploads/Gillian-Anderson-gillian-anderson-832033_425_640.jpg',\n",
       " '714c164f62845e309b6c4b478ceea98267e0a2cce35f5ae7b6d6ae52bb4ce1c9': 'http://static1.wikia.nocookie.net/x-files/images/d/de/Gillian_Anderson.jpg',\n",
       " '9f8ab2cbd58c9c702d6ca1699ebef233eda6dcbe566a0379892671085b7817af': 'http://images4.fanpop.com/image/photos/23200000/gillian-anderson-gillian-anderson-23229743-1050-1600.jpg',\n",
       " 'dadd0a966171063b0b844fbe4365bd398610063b7ec518404f0b0ded343299a2': 'http://i.dailymail.co.uk/i/pix/2009/04/23/article-1172944-049EC13F000005DC-128_224x371.jpg',\n",
       " '25f2315ef390f9c3708060db09a155d8d491dcd93d97fc425941bdf7ebe19efa': 'http://www.wallsfeed.com/wallpapers/2013/01/Gillian-Anderson-White-2048x2048.jpg',\n",
       " '37af706a1824c970fd87045122e2e9e983c56d2c45dcbed73fa30312349a1c0b': 'http://www.gossiprocks.com/wallpaper/gillian-anderson/gillian-anderson-1398-ekwf.jpg',\n",
       " '6810ac4ba6d57b9070b5109c81b8c3ed275f4bca0d1b033a09b6854ea7ebd43f': 'http://www.gotceleb.com/wp-content/uploads/celebrities/gillian-anderson/cirque-du-soleil-s-kooza-opening-night-in-london/Gillian-Anderson---Cirque-Du-Soleils-Kooza-02.jpg',\n",
       " '5b36f6575483c9e3aa75c894e39ed2c2bde30eccdd3bb173e983f45f3075596f': 'http://1.bp.blogspot.com/-9INHcdfhdMw/T1i6YvFb2jI/AAAAAAAAB9I/5UOVoZtVYxI/s1600/gillian%252Banderson%252Bin%252Bthe%252Bcrimson%252Bpetal%252Band%252Bthe%252Bwhite.jpg',\n",
       " '2c51e268075e5930b4a6e1f08130603e8e329f52a2e9eb7be2335ea40465fc2c': 'http://shawsblog2012.files.wordpress.com/2011/04/gillian-anderson-18820211.jpg',\n",
       " '95a900af4c6e7c60b542305328b07bf3817201b36876f1c231d93bf24fceac0e': 'http://i.dailymail.co.uk/i/pix/2011/12/13/article-2073758-0F2A417900000578-637_634x978.jpg',\n",
       " '7f3ca5accdc69e45063c870a1e22e62cb663b16739d8b2aa6b454b2374082c18': 'http://i.dailymail.co.uk/i/pix/2013/05/16/article-2325789-1996CBF2000005DC-188_634x1018.jpg',\n",
       " '7e76ad81722aae80374dd17bea4c79ff7375cfaeefb0a21acb958d04024611b8': 'http://images5.fanpop.com/image/photos/31200000/Christina-Applegate-christina-applegate-31236703-1855-2560.jpg',\n",
       " '766a7882179dbd75eb52511aa91a6acc6ea05eea9a7df99b32bb1e8023aff9f6': 'http://img2.timeinc.net/people/i/2010/specials/sag/predict-a-gown/christina-applegate.jpg',\n",
       " '1f9dfeeef0bacad9c9787960028dadf9f90ee9fa093a04b988b48ce714adc10d': 'http://www.kathykaehler.net/wp-content/uploads/2012/08/Christina-Applegate-007.jpg',\n",
       " '20f9e3778485572ed0aa5b607af7e03581f9aea26a46c2d4716b09ed059bf3f3': 'http://www.theplace2.ru/archive/christina_applegate/img/Christina_Applegate1.jpg',\n",
       " '4c5983677581d99b933440a00fe79c668123d42feb6951e2529ed8c82037730f': 'http://images.fanpop.com/images/image_uploads/Cosmo-christina-applegate-667559_1104_1457.jpg',\n",
       " '95bbfcc51f97a58ebe8a00007147c03ea4e6a9183ba93c9a7aa03d3c5cb8ce93': 'http://images2.fanpop.com/image/photos/14400000/Christina-Applegate-in-1990-christina-applegate-14415016-858-1280.jpg',\n",
       " '9db538e16296afe3074804437af14362e82ca0b75b8cd9b65a5ed694bc7f450a': 'http://iv1.lisimg.com/image/4057258/600full-christina-applegate.jpg',\n",
       " '7a432402d8d80d9a64145d24df030d713d2f17f6949a649909e0372e10923ed8': 'http://images.fanpop.com/images/image_uploads/Christina-christina-applegate-667601_1200_1827.jpg',\n",
       " 'cb260095e3ce9a4c9b9d3e71b6bbc4403ce61a7b3fd4ef87ac3947c0ec657b9c': 'http://img2.timeinc.net/instyle/celebrities/transformation/1986-christina-applegate-400.jpg',\n",
       " '1f301c0b909440f1d1a8468fcd5b20fdb6301fdcd4f1bb5f16df04632f44648a': 'http://markmeets.com/wp-content/uploads/2013/12/Christina-Applegate.jpg',\n",
       " '9c86e7262ba98ac8163615ce8814496b99e0c8d03fca4dfdfee093bdc0ef9a28': 'http://images2.fanpop.com/image/photos/14400000/Actress-Christina-Applegate-Wearing-a-Lavender-Gown-in-2000-2-christina-applegate-14415845-856-1280.jpg',\n",
       " 'c452248752173e15eceea436976bc08417a66c89b8346418c1646b249da5cbd9': 'http://ucesy-sk.happyhair.sk/celebrity_img/applegate2f1609.jpg',\n",
       " '3f9492c5e994cdc2f87f7d8e9da9c0259473c6c79e6b20b3cf898f09f5cb635a': 'http://content.answcdn.com/main/content/img/getty/3/3/82941333.jpg',\n",
       " '062f6f255a1eeaab78da93a3ca3366dcd1cfeee29aed5f1f94f4f61f0a942386': 'http://www.celebritybabyscoop.com/files/2010/09/christina-applegate-stands-up-to-cancer-6-960x1383.jpg',\n",
       " '44538e7a08a257dbd9d2cf7d5ef3279fd9e0f120ca8041b9300455bd3dc256da': 'http://images2.fanpop.com/image/photos/14400000/Christina-Applegate-in-1988-christina-applegate-14414954-856-1280.jpg',\n",
       " '4ae133a533359cd432f30efe27fdc616e3f9619d2c06c5423af4ddb3d18f17e3': 'http://images.askmen.com/galleries/actress/christina-applegate/pictures/christina-applegate-picture-2.jpg',\n",
       " '6623e963ab4694f47ab299b5399989975b7a68745aa74621939147f89d236208': 'http://cdn.sheknows.com/filter/l/gallery/christina_applegate_sleek_strawberry_blonde_bun_hairstyle.jpg',\n",
       " '1100c56937d6d0b9de435e4826703c496fd4f016fb7b7a096b3069e33f45401d': 'http://images.fanpop.com/images/image_uploads/Christina-christina-applegate-256836_1024_768.jpg',\n",
       " 'eaf2940bab2dd611e1f492988f95020fa4f73ab4adf91f06cc5f4c44b6f69841': 'http://img2.timeinc.net/instyle/celebrities/transformation/2001-christina-applegate-400.jpg',\n",
       " '3ebad2168741f0c8f923c1837a4f2553906dd2ada318421372fdd3c04ee8f367': 'http://images.fanpop.com/images/image_uploads/Elle-christina-applegate-667571_900_1217.jpg',\n",
       " 'e33885fe04448007477dfaa748f29c5f7884260e57c86658a20f87528de95245': 'http://www.celebritybabyscoop.com/files/2010/02/christina-applegate-wants-babies-960x1438.jpg',\n",
       " '5768285f994af5e45dcf3fddaf300aafcb2e808cebdc4d99299f64046060c37b': 'http://images5.fanpop.com/image/photos/31500000/Christina-Applegate-christina-applegate-31562631-431-594.jpg',\n",
       " 'ccb7925d2b6ac3d4e77b8f268741c503ea8671f8573726caf3b351a0e7aed610': 'http://images5.fanpop.com/image/photos/30800000/Christina-Applegate-christina-applegate-30878624-468-594.jpg',\n",
       " 'c5856489e0e54ac9a07cf7f6ff198ec1b81de89a88398efb1f1546bf4b86ec50': 'http://images.fanpop.com/images/image_uploads/Christina-christina-applegate-256812_1024_768.jpg',\n",
       " '6c36171fbc1150bcb48a3fd80deb609818ef862959194fbc633805a7e3e0dea2': 'http://images.fanpop.com/images/image_uploads/Christina-christina-applegate-255043_1024_768.jpg',\n",
       " '3185895958d37310a7dbc81cec79231e2876d407e3e9a3f26f689e028b886125': 'http://images5.fanpop.com/image/photos/31200000/Christina-Applegate-christina-applegate-31207826-436-589.jpg',\n",
       " '74109a784fc9a7a53848d2ce2c5fe7ee5b4d54724e8de0cf8675166d25f22990': 'http://images5.fanpop.com/image/photos/31400000/Christina-Applegate-christina-applegate-31493866-835-1024.jpg',\n",
       " '6a04ac8d7497c43d6a8ed241a9b05400bcf9c54a1bbbd92b381c2c13d9fd20aa': 'http://img2.timeinc.net/instyle/images/2011/gallery/2011-Christina-Applegate-400.jpg',\n",
       " 'a4f87fc03f59ebb264bb66379333766bc2d11f6982e5c1c46a201cc236907a30': 'http://iv1.lisimg.com/image/4095474/600full-christina-applegate.jpg',\n",
       " 'd038ff2e3d2e5db3bc5c14c26ceab6318be0e19d9c6914b5d47d017d2386135b': 'http://images4.fanpop.com/image/photos/23900000/Christina-christina-applegate-23911499-390-600.jpg',\n",
       " 'ae7e3fbb80419728daa2c9443859376d9c99a6f9a82cb97d95fe63e0da5a698b': 'http://media4.onsugar.com/files/ons1/192/1922153/38_2009/12cdfadd5e3b7477_christina-applegate-emmys/i/Photo-Christina-Applegate-2009-Primetime-Emmy-Awards-2009-09-20-161728.jpg',\n",
       " 'ac8a5fd0ab07476f56daa07878704b7e48833d4e36e9308ea5f776d2f3928e14': 'http://images2.fanpop.com/image/photos/10500000/married-with-children-christina-applegate-10563588-640-480.jpg',\n",
       " '59adfe0a3ccc9f3908385789b1f0b9ef143e2b9baec9556c77260cd4fae2e89c': 'http://www2.pictures.fp.zimbio.com/Christina%252BApplegate%252B16th%252BAnnual%252BRevlon%252BRun%252B3jzsplldQwdl.jpg',\n",
       " '272bb4d9ad467f014bdad78cfa3f6c6b43f6d9dd601f5df918397603279c127d': 'http://3.bp.blogspot.com/-RMmkz74fXeo/Tz0_UoHx_BI/AAAAAAAACGw/xRIkPbH-GTs/s1600/Christina-Applegate-817x1024-236kb-media-234-media-0121.jpg',\n",
       " '746129f2ef9d9fca9f9b0e2b68a24ec26268cc85829a3af603f16ce6e5462bc6': 'http://hairstylesweekly.com/images/2013/09/Christina-Applegate.jpg',\n",
       " '0d572b7aa2796656b372de9e224c3a0b36f3f77d002b4f2639f1f7db8a2e272a': 'http://images4.wikia.nocookie.net/__cb20110729195055/upallnight/images/a/a6/Christina_Applegate.jpg',\n",
       " '0d8864f0c23ec52861561bcbe52f2fd618142dc8532b013e5c10600597cf85c3': 'http://upload.wikimedia.org/wikipedia/commons/1/19/Christina_Applegate_2,_2012.jpg',\n",
       " '8970bc8fcbe7bf304ce9babb3b9dd76fc53ccf4943a3be482a736b56946fdf91': 'http://2.bp.blogspot.com/_UaLWp72nij4/S6gGNBqrMlI/AAAAAAAAE0U/06Njokv5Z7k/s400/christina-applegate-feet-2.jpg',\n",
       " 'c40c374ea6bb74654ef3747bd6510b5996e9ed04e45727b5579ae3677dcdc5f8': 'http://3.bp.blogspot.com/-jODv0HVZugo/TtWQk10_BfI/AAAAAAAAFOY/gp1F375e3zM/s1600/christina%252Bapplegate%252B1.jpg',\n",
       " 'c4a9155fb7209dc867243f32848c2b6d48083a0b3f4b5d8323a8834068ac4919': 'http://withfriendship.com/images/b/9533/Christina-Applegate-picture.jpg',\n",
       " '8d5815fe0cf638601b4ce0e4b7b82a1b1efa349f7c43421b26fbc1a3bf1ad9fc': 'http://www.celebitchy.com/wp-content/uploads/2012/10/FFN_ApplegateChristina_FabKids_AFP_082312_50865602.jpg',\n",
       " 'cd31364060e177cf82a899bab24a80e67255148f924b0cb9618c86cf298eb82f': 'http://images.fanpop.com/images/image_uploads/Christina-christina-applegate-262993_1024_768.jpg',\n",
       " 'fd8695d5a912c6bbe3e7057093beecbaa6a21c088dfd893fc8492e3d8764dcc2': 'http://images.fanpop.com/images/image_uploads/Christina-christina-applegate-256809_1024_768.jpg',\n",
       " 'bec7bfb719a0601024ed92d0d04ac4fabb82803c78789684fe4a4d44fcf32d47': 'http://auntiefashion.files.wordpress.com/2011/11/christina-applegate.jpg',\n",
       " 'dbee5339f9f487dec4385d5740eca1e96d7acedf174812164efb8ad3a7d82500': 'http://img2.timeinc.net/instyle/celebrities/transformation/2010-christina-applegate-400.jpg',\n",
       " '129d62c97cd5b5b52cdcf38dfcfec499ea9736f785c2a3c48619a08de0e0d156': 'http://www.hairfinder.com/celebritypictures2/christina-applegate-side-parted-bob.jpg',\n",
       " '46883d8b85d1799aef9e0064aa2c6ffa2e4bfb16bcc27c1f26efbe0da81ccbbc': 'http://iv1.lisimg.com/image/219706/600full-christina-applegate.jpg',\n",
       " 'c6287e774dddd32c6ebfa8ebf0b64dca5b7b49f33a42b3868669b1af4facb7cc': 'http://img2.timeinc.net/instyle/celebrities/transformation/1987-christina-applegate-400.jpg',\n",
       " '467679f122fec9c04ce0e78122a0601c7ddfa5e6be99bcd8287eabc5b458e540': 'http://static1.wikia.nocookie.net/__cb20131029215503/friends/images/7/72/Christina-applegate-2013.jpg',\n",
       " 'ab1770ef207be23b5395586120a97dfa325c4c9e2dca15072ef8f961e92a2b93': 'http://www.theepochtimes.com/n2/images/stories/large/2008/08/18/christina_applegate_7937414.jpg',\n",
       " 'de3f08b8e0e97aa47b40778eee6da1521bcdea35bd206d101d2c21a4150bcd5b': 'http://www.wallpapers-photos.net/wp-content/uploads/2013/02/Christina-Applegate-images.jpg',\n",
       " 'c0c5a7baac7e48055dde7c589ceced12c4b29743a40b67e0794c3bccb2f96998': 'http://images5.fanpop.com/image/photos/31200000/Christina-Applegate-christina-applegate-31236684-1870-2560.jpg',\n",
       " 'f71176aa49a88e09bdf0e58c6b02383a57ebaa7b294c7a1aa079bf88b34b7c30': 'http://iv1.lisimg.com/image/1064771/600full-christina-applegate.jpg',\n",
       " '4254349e36e9b6cca63c45d6f3a0bcd60391e337031599c583db251776094d28': 'http://images.fanpop.com/images/image_uploads/Glamour-christina-applegate-667572_1175_1610.jpg',\n",
       " '4f1481fd60581189ff337648a4cf6fd0892ba0bec604fb162397f1f34cc39b23': 'http://images.fanpop.com/images/image_uploads/Christina-christina-applegate-263028_1024_768.jpg',\n",
       " '26036a3d2ee2574deedbc113c551d817026a9070b4284480edf4e34a83bb69b5': 'http://www.dailydesktop.eu/data/media/260/Christina_Applegate_0085_1600X1200_Wallpaper.jpg',\n",
       " '577fcdcbad7fbe5a5f332d33a5e612bf0435fbb42e03e03fac435ede870023ef': 'http://25.media.tumblr.com/tumblr_lh11swKZMr1qa70eyo1_500.jpg',\n",
       " '123110c2c134bc0d024581489a26026034ecfee3cc282c42519139d65e5d4b1c': 'http://ucesy-sk.happyhair.sk/celebrity_img/applegate1o509.jpg',\n",
       " 'ef401231244f2d006273ee4c342c5ab96b6a2598e144946fdb93ae838be60fca': 'http://images3.wikia.nocookie.net/__cb20120605222310/anchorman/images/4/4d/File-Christina_Applegate_2012.jpeg',\n",
       " '0d804562a2e8fbd3604f3892b36dfd6da7b17703a0d6e8c92c883e992fe79e86': 'http://images5.fanpop.com/image/photos/31200000/Christina-Applegate-christina-applegate-31236679-1895-2560.jpg',\n",
       " 'c4b81555c1dcbc514cf67ad16071d1a50385730587e07a83dcb07e5f8f53bdd7': 'http://www.celebritybabyscoop.com/files/2010/09/christina-applegate-stands-up-to-cancer-1-960x1349.jpg',\n",
       " '801c49286c665f6a676e6db118c907829947dbb2ef631350cc2f091898bf93fb': 'http://img2.timeinc.net/instyle/images/2008/GALLERY/09/091608_applegate_400x400.jpg',\n",
       " '4f9fbaa4dcadb3ad496b469af873e37807d38fb3670fa07bed066c4a21c65c08': 'http://images.fanpop.com/images/image_uploads/Christina-christina-applegate-254996_1024_768.jpg',\n",
       " 'a1a230ba95239c87b365d67f6623637c71b36c43a5f6b3c1c6045a0954bd59a9': 'http://iv1.lisimg.com/image/4276213/600full-christina-applegate.jpg',\n",
       " 'dd70a5236827c4d4a59623908fa136fad636b9937f9bc2b03913ae41d0f3da76': 'http://www.buymearock.com/wp-content/uploads/2012/06/Christina-Applegate-engagement-ring.jpg',\n",
       " 'c4f9f65a4b84d5efd88b73f4e3e3367287b2ccda258407fa81ee6236ad9e1ade': 'http://content6.flixster.com/rtactor/40/31/40312_pro.jpg',\n",
       " '8ac5bf3ff40afbfbef984d3d13f61d9ffeef3ec7a7c03a8d066ce06ffb58d13e': 'http://images2.fanpop.com/images/photos/4200000/Christina-Applegate-christina-applegate-4200698-1280-800.jpg',\n",
       " '98917c84e25de5260e3240a3201cf878569054c4d90d9edadc8b91b6c01f4be1': 'http://img2-3.timeinc.net/people/i/2008/news/080818/christina_applegate.jpg',\n",
       " 'afae3b05cf75d6cb8788d7ce0334e7c56a56045505df64b2b37eb4d892afe8a0': 'http://images1.fanpop.com/images/photos/2200000/Photo-Shoot-christina-applegate-2225227-1976-2560.jpg',\n",
       " 'ae3dc13c67fe70198a534f53e0d472cebfcac6d19c2fba873f85cfb88d92cb8a': 'http://images2.fanpop.com/image/photos/14400000/Christina-Applegate-in-1998-christina-applegate-14415149-864-1280.jpg',\n",
       " '0a695e6e40067dbc8bf47658c59c450f0c74c57ddc58a6a820efd8f47b3718e4': 'http://th04.deviantart.net/fs71/PRE/i/2012/074/6/3/christina_applegate_by_candyd18-d4suw09.jpg',\n",
       " '564bb5c93ae00c6cdbfeb5946a131e0ee047b09e8dc914ceb5972e717f5f8363': 'http://media2.onsugar.com/files/2012/12/51/3/192/1922398/ab60f4ba49fd6c36_christinaapplegate.xxxlarge_2.jpg',\n",
       " '2dce4e0f9788898abae32d5b7dfb93b33f0038fa570911b16c58cea4dae9f858': 'http://images1.fanpop.com/images/photos/2200000/Christina-christina-applegate-2225795-2026-2500.jpg',\n",
       " '927c91ad5b26afbf2abfbe2184a587c19561319bb0f27110cc6571fcb44e6829': 'http://images1.fanpop.com/images/photos/2200000/Photo-Shoot-christina-applegate-2225246-1496-2020.jpg',\n",
       " '78afddd7f32c9a5865578da3e5f89ec50d9922530075046d9400b618972f50f8': 'http://hairstyles.thehairstyler.com/hairstyle_views/front_view_images/788/original/8704_Christina-Applegate_copy_2.jpg',\n",
       " '5f5d9a6b526fcf9d99b99998c7656b98d195c570b40f021e1a3326d46cbdd5e1': 'http://bilder3.n-tv.de/img/incoming/origs829946/5952735781-w1000-h960/Christina-Applegate.jpg',\n",
       " '921151430c2e81fa2e8f07cdf77dddcacf0a6d727e9d4e65124c210a16d3d098': 'http://cdn.stylefrizz.com/img/emmy-awards-2008-christina-applegate-hairstyle-makeup.jpg',\n",
       " '36c8d7be0d31219f356cce1432a200f351915c243972bac53eb11bc5559e672d': 'http://hairstyles.thehairstyler.com/hairstyle_views/front_view_images/2522/original/Christina-Applegate.jpg',\n",
       " '1d7aae523eb086368168656c0b5fcbd4ee61dc9d9650a7df17e866c50abf87e7': 'http://images1.fanpop.com/images/photos/2200000/Christina-christina-applegate-2225806-2000-2500.jpg',\n",
       " '166116faa1c16f774c3c3ec55a291b77621f914ec43ec1160589d6de37fda05e': 'http://i.huffpost.com/gen/1047909/thumbs/o-VACATION-REMAKE-CHRISTINA-APPLEGATE-facebook.jpg',\n",
       " '896b9b1d4db449e6f9711235c74fceb6610f751fb92d69b1f47037a6f9899324': 'http://sharetv.org/images/person/christina_applegate.jpg',\n",
       " '4c1b79a593658703355d8f2799634271dbfa0b03620b19038bc285584b6189be': 'http://fashionphobia.org/wp-content/uploads/2013/11/Christina-Applegate-Medium-Hairstyle.jpg',\n",
       " 'e3e078cb16a03b947671f7a3070812b063d8f5bfe69beaefbe6717a15a176907': 'http://mediaserver.pulse2.com/uploads/2012/08/christina-applegate.jpg',\n",
       " '2c01345439eebc8af917e2450e9a9c91eea53d476f8c41e8e08b3489c860933f': 'http://www.wallpapers-photos.net/wp-content/uploads/2013/02/Christina-Applegate.jpg',\n",
       " '91dbd85ca8a18b079643ca7eb7089ad19f5d5b8888734e9369d17d8e5c6b3d2b': 'http://hairstyles.thehairstyler.com/hairstyle_views/front_view_images/5251/original/Christina-Applegate.jpg',\n",
       " 'f834418da1eb9e52c0e6c24371f3670fb5529603f2f62250b2a9a8952c58d581': 'http://images5.fanpop.com/image/photos/31200000/Christina-Applegate-christina-applegate-31207775-500-558.jpg',\n",
       " '3b2e9e1aedc2eb54bea1de256d86edf2b382aab8e5e61e574c415f8581dfb3da': 'http://www.dailydesktop.eu/data/media/260/Christina_Applegate_0011_1600X1200_Wallpaper.jpg',\n",
       " 'ce087798a77ee56b3b388ec56d1308a1e8a63d8a9275e22e8e08c48b89359ab0': 'http://images.fanpop.com/images/image_uploads/Christina-christina-applegate-255008_1024_768.jpg',\n",
       " 'afcb1aba6b5e34b44769c13baaa3dc18ab95783fb0ee78674f50c8f96e50623d': 'http://images.fanpop.com/images/image_uploads/Christina-christina-applegate-254999_1024_768.jpg',\n",
       " '5b7012431f0b75a4b010b718677f60d57cd39303c48cde5c746ae7ee78e500fc': 'http://images1.fanpop.com/images/photos/2200000/Christina-christina-applegate-2226104-1707-2560.jpg',\n",
       " '18f1c287f34bd5d4cb3791537e8631484726838e92fbbaf7db7579bd195f3390': 'http://www3.pictures.zimbio.com/fp/Christina%252BApplegate%252BPromotes%252BFabKids%252BExtra%252BG75OlmKdHfEl.jpg',\n",
       " '62291fc60ae75094fdf7b3bdd71f00b6c445c4bd5376bb3fb855041fbf299c8e': 'http://2.bp.blogspot.com/-5VoSrTOq-uU/Tvn6cj4ZHgI/AAAAAAAAHKQ/Phk-ggWYH3g/s1600/CA.jpg',\n",
       " 'c34784d6265a386614ecdaf50575ac8bcbf3dad449e6dfdfd85f6b4dfc69503b': 'http://famousbirthdays.com/faces/applegate-christina-image.jpg',\n",
       " '4d638a0ca7c3cff465f99b2286053dc957cb47f95c5424326baff1def224b79d': 'http://www3.pictures.zimbio.com/fp/Christina%252BApplegate%252BChristina%252BApplegate%252BPromotes%252Bm8RIQn96AHPl.jpg',\n",
       " '9ca836f80684c66e3bd528b3893eac50e9f4dec7b2e8948d805dd4718598302a': 'http://shareyourwallpapers.com/upload/wallpaper/celebrities-female/christina-applegate/christina-applegate_6fbfcac7.jpg',\n",
       " 'f8b434a6c26629322726eeff418c447671a25ccf3c15dd3ee8a09a7e43b2585a': 'http://favimages.net/wp-content/uploads/2013/07/christina-applegate-celebrity-actress-lady-beauty.jpg',\n",
       " '8cdf2e391b8c6daa91e3d315d4c2ecac3eb9d90af4c6bdef7f596521530f7cd3': 'http://images.fanpop.com/images/image_uploads/Christina-christina-applegate-256817_1024_768.jpg',\n",
       " '84cb7e50a3b43d00dbaaeb3d9f2ab1fb53ca5f623124cd4b359e7e8fb2b5c9d5': 'http://images5.fanpop.com/image/photos/31400000/Christina-Applegate-christina-applegate-31493868-860-1024.jpg',\n",
       " 'ace8efbf8d82dd4dc73b4927ea6763f99806f7b1b30fb5ba5a7e77f02a56b514': 'http://images5.fanpop.com/image/photos/31900000/Christina-Applegate-Promotes-FabKids-On-Extra-christina-applegate-31987948-432-594.jpg',\n",
       " 'e0c6d2ca6230cef6ad46973b402041437910b3f0a15688f7d5dc89c6276414e8': 'http://static3.wikia.nocookie.net/alvin/images/8/8a/Christina_Applegate_2012.jpg',\n",
       " '62dd8190816cff0c38ae9edfa2d05466664975f5c1b0abaef20421e2d096a10f': 'http://www.gossiprocks.com/wallpaper/christina-applegate/christina-applegate-1015-yexj.jpg',\n",
       " '075230836c2409ae88ebe713d5d18dc29766e4edb83838a57a4f566f4cee4e27': 'http://images.fanpop.com/images/image_uploads/Christina-christina-applegate-255003_1024_768.jpg',\n",
       " '0ae16a56634da4a9d807fa424d6b184f6218ae11975db8181fa2927945779042': 'http://www4.pictures.gi.zimbio.com/35th%252BAnnual%252BPeople%252BChoice%252BAwards%252BPress%252BRoom%252BCAml-CjBEoel.jpg',\n",
       " '275d9111f7b59f2732c5ef59bff335c16721525ee6b22d880c6f15b251acb85c': 'http://images5.fanpop.com/image/photos/31900000/Christina-Applegate-Promotes-FabKids-On-Extra-christina-applegate-31987931-432-594.jpg',\n",
       " '6dc3e9a9b0288a7811aa47a036728d5d9ea7958878307898989b554ff813145a': 'http://www3.pictures.zimbio.com/fp/Christina%252BApplegate%252BChristina%252BApplegate%252BSurfrider%252BwQNPCvKe27yl.jpg',\n",
       " '0bc1ef2e64bee19f3d4822ade52ec54a0d22d4cd21f5d903fd4b2d2dde5187b8': 'http://images2.fanpop.com/image/photos/10500000/married-with-children-christina-applegate-10563120-1024-768.jpg',\n",
       " '483625b0cdebae6b4b3d7a6513e0cd33dd602ae803227674e4d1a14866e4236f': 'http://www.wallpapers-photos.net/wp-content/uploads/2013/02/Christina-Applegate-photo.jpg',\n",
       " 'fa83b38215c1fea70b2f268fe9e132af942ca413a5b120b23b4221529e38d5d3': 'http://neilgeorgesalon.files.wordpress.com/2011/09/christina-applegate.jpg',\n",
       " 'c35a36a77d1d138ed2faa3955c5a73194b55a46aa008e923b693e25f104e7dff': 'http://images2.fanpop.com/images/photos/4100000/Christina-Applegate-christina-applegate-4123207-738-1029.jpg',\n",
       " 'e06add398c91d603366ad68ae9171e23bcfa4bf4436aeec2fd7a9630cc902e29': 'http://i29.tinypic.com/2r7na89.jpg',\n",
       " '05a5eb320852596fcd553c9a311e0903910f51a161bee25c58c8a0c8a268a6df': 'http://images5.fanpop.com/image/photos/31800000/Christina-Applegate-christina-applegate-31831835-500-625.jpg',\n",
       " '25633c049caebec69d7cbac4974e15d6a9fd4f4507ae93a4d61f538d5dca5ab7': 'http://images5.fanpop.com/image/photos/30800000/Christina-Applegate-christina-applegate-30878620-385-594.jpg',\n",
       " '73dd27ff7abd5da927f30452e2a8436ed5fd872626511fd191f8d9d39bbc86e7': 'http://images.fanpop.com/images/image_uploads/Christina-christina-applegate-667628_1176_1920.jpg',\n",
       " '31c51134718a70964305148ddfed677e684b03c8df4181c95f92121591a1e452': 'http://i2.cdn.turner.com/cnn/2008/LIVING/10/14/o.christina.applegate.double.mastectomy/art.christina.applegate.jpg',\n",
       " '8cc1eaffcdbbcede0028347d89c54f6ac05d31a7ed7c3e3d0a3ef42ada7e096c': 'http://images5.fanpop.com/image/photos/30800000/Christina-Applegate-christina-applegate-30878641-400-594.jpg',\n",
       " '6427a31cfc75734f6822ddefaf38e2ebdf3a55938f3ba410980c50a0336ecb04': 'http://2.bp.blogspot.com/_bQ0SqifjNcg/S_Qw43nUieI/AAAAAAAAUxk/qmfLZAH1udM/s400/christina-applegate-hairstyle-5.jpg',\n",
       " '3a1aaa84402ac2e9332d1a7e28fa48902b46080085592f39420a002e51750c58': 'http://images.askmen.com/photos/christina-applegate/84011.jpg',\n",
       " '98d07e2b5a9dd53573527ea135a570847df77f1bfbfa573129357f576442b26f': 'http://images.fanpop.com/images/image_uploads/Christina-christina-applegate-255001_1024_768.jpg',\n",
       " '8d1c342ef51f11ad9d101c669ae32dfcc8f4303d287ea7b6e96ece87c94dd515': 'http://www1.pictures.gi.zimbio.com/Christina%252BApplegate%252B14th%252BAnnual%252BScreen%252BActors%252BG0Gh97ENCgvx.jpg',\n",
       " 'c57ec2e480a1b28d3cf99e729d19bf7beab6dc23e5240110cf1fc2f775927ea3': 'http://images5.fanpop.com/image/photos/31200000/christina-applegate-christina-applegate-31236735-1795-2560.jpg',\n",
       " 'fa974ab2abe767701f9ca4e6bedf1636bd76496a1ad21e10f1086cc07bd4e33b': 'http://www.sortiesdvd.com/photos/christina-applegate/2926.jpg',\n",
       " '489b21964ac7e13c948156cfac4b2d0afc5308796ba6b8fa89830f1e24cde98e': 'http://www.thewallpapers.org/photo/22790/Christina-Applegate.jpg',\n",
       " 'e67f17fcb34a0ca1ed4b23a7d7f06dff2a429eaae98f87e9ab41f3531d884256': 'http://images5.fanpop.com/image/photos/31900000/Christina-Applegate-Promotes-FabKids-On-Extra-christina-applegate-31987955-432-594.jpg',\n",
       " 'f3ada4fa7ce3fed5f80cf606f2168632b696a9f4d0ecb904091fae62f35bf1be': 'http://images5.fanpop.com/image/photos/31200000/Christina-Applegate-christina-applegate-31247957-727-1027.jpg',\n",
       " '0d9d07d6e7e6b3d0d25d18d956d75f000ea05ffa44696dff3f05aa9cbae5cf24': 'http://www.hawtcelebs.com/wp-content/uploads/2012/11/CHRISTINA-APPLEGATE-in-More-Magazine-Canada-November-2012-Issue-2.jpg',\n",
       " 'dc675965133231c3f66bafaaaf58b3316b0f8d4a6fdd016fb349dd3d7c0dfa0e': 'http://topnews.in/light/files/Christina-Applegate111.JPG',\n",
       " 'b86455817ac104ee899e600f604267636f1902f409918c6e47221bf6a73546e5': 'http://images1.fanpop.com/images/photos/2200000/Christina-christina-applegate-2225803-2016-2500.jpg',\n",
       " '95c6f351242b1df44f6dae5af04cda078d97066ae4e4d15906942241c67b3ec1': 'http://jacquelineparis.files.wordpress.com/2011/08/christina-applegate.jpg',\n",
       " 'd9a422968e2c6ce8f50ea8c165e09f8eeee0777c0b5350ed4e33245d171d6136': 'http://1.bp.blogspot.com/-2Z-Wy0prv4o/Tmm8uqqyWcI/AAAAAAAAD2s/tTbCcn7VhtA/s1600/christina_applegate.jpg',\n",
       " 'b6cb4f874bc8226fbc4cd18030dc5754604dd5951a261ae06c32e1f79e71e1ac': 'http://images5.fanpop.com/image/photos/30800000/Christina-Applegate-christina-applegate-30878627-425-594.jpg',\n",
       " '14f20d2e912334115d50ce5483d337e36ca468c229e717b6d4b81326b0f7e3e4': 'http://images5.fanpop.com/image/photos/30800000/Christina-Applegate-christina-applegate-30878623-398-594.jpg',\n",
       " 'b925c579f7b546b9de44625c19626d9f93a0f4d179528815134365726a47a49f': 'http://www.exposay.com/celebrity-photos/christina-applegate-geffen-playhouse-honors-I6Fdi4.jpg',\n",
       " '611fe57a7e6a4b68ffaf6e6e1abb4f2e1251558fc210ec6e9b97b8916cfe4e6d': 'http://topnews.in/light/files/Christina-Applegate_7.jpg',\n",
       " '28ca484ac84560e0de81d7bd0b89ad964cc4eca542f78587a4ff8ecc32f3b606': 'http://images2.fanpop.com/image/photos/10500000/red-hot-christina-applegate-10564622-1024-768.jpg',\n",
       " '64fa1ced0508540cd94c4f12448b1b44e68d4cd33a70d919413c9886ae9b5928': 'http://images2.fanpop.com/image/photos/10500000/married-with-children-christina-applegate-10563605-425-549.jpg',\n",
       " '934b2e395c6ff96e641257e495e4619ae912fdd1df11cc00d2b327e635c12bdd': 'http://www.hairfinder.com/celebritypictures2/christina-applegate-updo-side-bangs.jpg',\n",
       " 'b35b5f2fa1b7b7ae3728c68e4af06604347ba39d20e9308500468398518d5089': 'http://www2.pictures.zimbio.com/gp/Christina%252BApplegate%252BBrad%252BPitt%252Bfling%252BjIkUBHpdCCWl.jpg',\n",
       " '4cfbd8c4abd3fc7cb0bd5534511b150e6634bb95392e5301f9800dfe86ca5e20': 'http://www.gotceleb.com/wp-content/uploads/celebrities/christina-applegate/premiere-anchorman-2-in-new-york/Christina-Applegate-at-Anchorman-2-Premiere--05.jpg',\n",
       " '343a604d2a656ab66002fdf8f1cd7e20037fe05b444d13947dd7fd8081c87ddd': 'http://tattoostars.files.wordpress.com/2009/01/tattoo_christina-applegate_tattoos-6.jpg',\n",
       " '077e55bf0959e82fce2aeca19f2254005e1a529737fc513e697c4907f67b7344': 'http://images.fanpop.com/images/image_uploads/Christina-christina-applegate-263007_1024_768.jpg',\n",
       " '37cddb1aa3f02682929c3ecbe60c4c96fbefd0535987e68efc9d84ccec087800': 'http://images.fanpop.com/images/image_uploads/Christina-christina-applegate-256830_1024_768.jpg',\n",
       " 'f8987ba5ba60962707c11d78903c01380dbf0ac664a267b59801ac2a08ebc991': 'http://amygrindhouse.com/wp-content/uploads/2010/07/Christina_Applegate_Photo_FN_PGA_076.jpg',\n",
       " '8f20f756631868f844a12551e5bfeb45dc5898f000c6ca85698e61e271fe6569': 'http://img2.timeinc.net/people/i/2010/news/100524/christina-applegate-240.jpg',\n",
       " '0d24b4d9001fa02309e1cc1cdbf6f417434226ee8061506950fbee69a1855b24': 'http://cdn3-www.momtastic.com/assets/uploads/2013/12/Christina-Applegate-BIO.jpg',\n",
       " 'f72ef7a6df93d8014205ae54108caaac0d47bd445744c947108adb729ee208b3': 'http://www.exposay.com/celebrity-photos/christina-applegate-women-films-2012-crystal-1b1x9a.jpg',\n",
       " 'dc010eccd7135f264922c8bbe26d094a276fd18712ca8c4886017e5e63a6319a': 'http://ennvy.com/wp-content/uploads/Christina-Applegate-Hair.jpg',\n",
       " '0690c36e06c53412a82424c8821a797bab879ce299ba0d33070a4b4ac2080726': 'http://www.exposay.com/celebrity-photos/christina-applegate-amc-and-movielines-hollywood-life-magazines-5th-annual-young-hollywood-awards-1NHdIf.jpg',\n",
       " 'df42d71abee18785ffe7cb6a9f1beeb1038b09d2a90358fbd5fe4ab89713a25a': 'http://www.gotceleb.com/wp-content/uploads/pics/julie-benz/rambo-world-premiere-in-las-vegas/julie-benz-rambo-world-premiere-in-las-vegas-01.jpg',\n",
       " 'f3e1cfc8324d90237e814ce0c541b784400d2ca54826ea0dc0ad578dbbc8a770': 'http://ucesy-sk.happyhair.sk/celebrity_img/benz1au1009.jpg',\n",
       " 'ac692e3b75c58c8ef856815c11914b3e109831317ae58bb391c45bf079206c99': 'http://www.gotceleb.com/wp-content/uploads/pics/julie-benz/58th-annual-ace-eddie-awards-in-beverly-hills/julie-benz-58th-annual-ace-eddie-awards-in-beverly-hills-01.jpg',\n",
       " 'a67a7c3ab9724d0f3d737d8392b38e21d959b99355b20257e1d8a2dcc55f4f57': 'http://image.tmdb.org/t/p/original/3XfvNOp0FjTnbIPaiysroCXbf0W.jpg',\n",
       " '24af2441b17579691186ccd4dbf572877ce36c5f5c7476f796dc36be147208f9': 'http://images1.wikia.nocookie.net/__cb20060920123633/halo/images/2/2d/Julie_Benz.jpg',\n",
       " 'a18b921b75b8eed1ebf35027af0a87c40e3097983148486395631946cf49a061': 'http://www.whedon.info/IMG/jpg/julie-benz-shower-photoshoot-gq-07.jpg',\n",
       " '70a4365cb7342e228bbb5dda22daeb7a03b101f77785c1ed3ba4b6ef10736bc4': 'http://images3.wikia.nocookie.net/__cb20120114114256/desperate/images/4/40/JulieBenz.jpg',\n",
       " '8d0bcaa3a0047f2ac39c98623025d2889edea8d1faa23b1b510a092742388eb8': 'http://images1.fanpop.com/images/photos/2400000/Julie-julie-benz-2412951-578-1104.jpg',\n",
       " 'a25567a1c2758db76eac77e3679a38a16421f2cb6ad9cf5a2f6d808e4a8f1aa9': 'http://www.wallof.com/wp-content/uploads/2013/09/All-Star-Red-Black-168.jpg',\n",
       " 'efb788f6b9422f2da84e54b164d94751aee7cf6397b3dbc07bb46dfa9f6aa250': 'http://4.bp.blogspot.com/-j5Z04F6Grh8/UO30dg-qeMI/AAAAAAADDXE/D0t_jP3WwHk/s1600/julie_benz3.jpg',\n",
       " 'f59c1fbc6706ff2a31f53c4da9360a7474be8ee47ffec4bf96fd76f0b785225d': 'http://www.whedon.info/IMG/jpg/julie-benz-e-20th-birthday-hq-02.jpg',\n",
       " 'e5705531f3cd41999dc508fa39871b9cfbc4c790fa9e79dd2daa4cc0fe38b3da': 'http://www.hawtcelebs.com/wp-content/uploads/2011/12/Julie-Benz-at-Launch-of-The-Andrea-Bocelli-Foundation-in-Beverly-Hills-3.jpg',\n",
       " '3fabfc68d90e15fbc924cc088ba2ed8af9f9d7f6a8aab92da5ccdf00ab538132': 'http://images1.fanpop.com/images/photos/2400000/Julie-julie-benz-2413076-800-1152.jpg',\n",
       " '14768431cf106b52c56c1925807dafb111248406b297e3a494fe40cc031a06cf': 'http://www.scienceandsupermodels.com/http://www.scienceandsupermodels.com/pictures//2010/10/Julie-Benz-7.jpg',\n",
       " '58e76e1435bc018771f4755f561d9b2d85b5c9bb8f180517c6339a4a2319995e': 'http://images6.fanpop.com/image/photos/35300000/Julie-julie-benz-35337347-1024-768.jpg',\n",
       " '534f6cce55ab93b1258275bbcb73dfc8dcaf1aec3b4512fbe6b30a61828ae68d': 'http://www.scienceandsupermodels.com/http://www.scienceandsupermodels.com/pictures//2010/10/Julie-Benz-21.jpg',\n",
       " 'bbee957e6bf6540ff3a2fe1e7f0d1a15bd4a638bba10265a191d5aeac47053da': 'http://images5.fanpop.com/image/photos/31000000/Julie-julie-benz-31007108-1024-768.jpg',\n",
       " '7c483b3f4a375ee1f6ea43eb8ec6d05d757cb5e321d240328b3faefa74c40d60': 'http://www1.pictures.zimbio.com/gi/Julie%252BBenz%252BTV%252BGUIDE%252BMagazine%252BHot%252BList%252BParty%252BwCRj34Dd5aTx.jpg',\n",
       " '4dbc9dbf8741783487daa383ce4e15216ea93cb7ad270c42ecb84dc32b3447cd': 'http://ucesy-sk.happyhair.sk/celebrity_img/benz10808.jpg',\n",
       " 'c8092767993baca4608e948d148a3da93775e4a9f212a76efbf864332730ac08': 'http://static4.wikia.nocookie.net/__cb20120502083223/defiance/images/f/f3/Julie_benz.jpeg',\n",
       " 'db101993081209b5faefac966d863da79df0a2c370b1b5707e47303def09ab7a': 'http://4.bp.blogspot.com/_T8jmzzBIK-Y/TFnk1do3ZvI/AAAAAAAAIpY/_zyi41Q_zRc/s1600/julie%252Bbenz%252Baugust%252B2010.bmp&',\n",
       " '09c0f37620e035b3824ea5247efb4e59e414c0242c75cc536e61d67728120139': 'http://dvdbash.files.wordpress.com/2012/02/buffy-julie-benz-dvdbash.jpg',\n",
       " 'b77d3f96c783b8e9329b5f80fb9771ccfe31758b9957348cd5cb6a89d9e05af1': 'http://images1.fanpop.com/images/photos/2300000/Julie-julie-benz-2388675-800-600.jpg',\n",
       " '516d1fea06cafde960e5c9dcaa52a1b2fa9bd50da278b6c76c6844460378747d': 'http://www.geeksofdoom.com/GoD/img/2008/10/2008-10-30-julie_benz.jpg',\n",
       " 'a10634df439c9abfd8efc091b832f9860740cf4e7a77a9d75f9c1f3149514bc7': 'http://www.celebank.com/julie-benz/julie-benz-12-1014-1502.jpg',\n",
       " 'a82cca70e4c3b6f11e5ecc04f5b03151c21e4f0f006ead7de0fc7b9d713c5eb5': 'http://luspot.com/photos/download/21618/julie_benz_hd_photo.jpg',\n",
       " '1450179a6660277dde14f00adfdb5bbec4adeb634c255b99998fdd4f5bf681e0': 'http://im05.thewallpapers.org/photo/5092/Julie_Benz-028.jpg',\n",
       " '8a00a3934f12874042bad066198d347a1a99a6ee18b80a87ecade7f6a3824634': 'http://www.whedon.info/IMG/jpg/julie-benz-clothes-off-our-back-foundation-charity-event-hq-01-1500.jpg',\n",
       " 'da22ea9255f308cf2038f843194cc13ef26c5b129b0dd3e04c89dca318b6b227': 'http://www.whedon.info/IMG/jpg/julie-benz-los-angeles-confidential-magazine-golden-globe-pre-party-hq-01.jpg',\n",
       " '8a69282b634b5fe6adf175cbec8791629bbf7da3e4341fab3cd8d940ebab1405': 'http://img2.timeinc.net/instyle/images/2013/WRN/012713-julie-benz-340.jpg',\n",
       " 'c0172c43eb502b51cdf65b02c069c3476aeb28d925a2b243fd2950df49598164': 'http://im04.thewallpapers.org/photo/55459/Julie-Benz-at-Benefit-Gala-007.jpg',\n",
       " 'fb5c88c64b7c1eb27c93e6b4d0dacc7f917a955968e3dc3f59ccedc471081354': 'http://images5.fanpop.com/image/photos/31100000/Julie-Benz-1-dexter-31190098-1811-2560.jpg',\n",
       " '12309373eb29caaf4f8112d11a7a30b5b29635632ebdab296430a6be4f890db9': 'http://4.bp.blogspot.com/-hVo773xwBoY/UO30eodx7kI/AAAAAAADDXM/Eaee0IqByVY/s1600/julie_benz7.JPG',\n",
       " '1a8b20dfddd0ee1eb5d485b2d11c4a460cf1e10c4dbc2286368af590c16f8b90': 'http://www.whedon.info/IMG/jpg/julie-benz-shower-photoshoot-gq-01.jpg',\n",
       " '1fe80dadc656f2211fc41e6c52d2f49170a3bb7435d9d46c8856dcdebab831ca': 'http://www.whedon.info/IMG/jpg/julie-benz-screen-actors-guild-awards-2010-hq-01.jpg',\n",
       " '8339acd7008fa42b9bf384a272df4fbf399cb32074118a2b384c77a58dbfb2dc': 'http://www.whedon.info/IMG/jpg/julie-benz-shower-photoshoot-gq-08.jpg',\n",
       " '5bf15d09b641cb0305ba9101938bf2f07c7a33e34062ac729f53b5d2f405c41b': 'http://www.nndb.com/people/975/000044843/julie-benz-sized.jpg',\n",
       " 'c856e44104edbc91438879f27cf49476962e67413395f6ecf53ddb80db30f5a4': 'http://www.whedon.info/IMG/jpg/julie-benz-beverly-hills-shizue-boutique-opening-hq-01-1500.jpg',\n",
       " 'd07381a33a873b78e2d0806370000bc1af334777217661557a809ced6f12eb8f': 'http://ucesy-sk.happyhair.sk/celebrity_img/benz1o608.jpg',\n",
       " '513241f26cac5ee58e92daae037b38a099ce8a0e7518d93e858c0be1f3edd4ec': 'http://images2.fanpop.com/images/photos/8200000/Julie-2009-Emmys-julie-benz-8252113-1772-2560.jpg',\n",
       " 'c62e4e12f25302675d21756a55622f8d4db0d8343358f6b66f7cde54d6f511b0': 'http://www.televisioninternet.com/news/pictures/julie-benz-twitter.jpg',\n",
       " '2aa8ffef0585132f8ce55075f0c81e8346a37322cfaf32cb146040755a70d540': 'http://1.bp.blogspot.com/-MBM9AcidPJM/UO3zyhJZdUI/AAAAAAADDR8/WOpMIeJT3w4/s1600/julie_benz.jpg',\n",
       " '307bebcd36d3966c4a64d292d5db829d5450e6020aec4efd71b11226495bc342': 'http://images2.fanpop.com/images/photos/8200000/Julie-2009-Emmys-julie-benz-8252234-1764-2560.jpg',\n",
       " 'e688b8926e614d7c47d6173bd49807faa6bf542fb674d582801998c25c61a146': 'http://assets2.ignimgs.com/2009/10/30/julie-benz-20091030111719106-3040231_640w.jpg',\n",
       " '261238c01ab19bc1db29bae078b0035ad7ab00c764ce01fdbca6eae60d66b410': 'http://www.exposay.com/celebrity-photos/julie-benz-man-of-the-year-los-angeles-premiere-0VW7HO.jpg',\n",
       " '6325e8eb5818534874adddfc48b89f898e21fbd528fb990cca1f997224e6551d': 'http://www.theplace2.ru/archive/julie_benz/img/41173_julie_benz_E_E.jpg',\n",
       " '4a6297656889645df85b2474acb12b994b483b1d8e122b7f40c74801fe93be61': 'http://plasticsurgerystar.com/images/measurements2/julie-benz-body-height-weight-bra-size/julie-benz-height.jpg',\n",
       " '93a6b9dca13992b6a9fdc81763e5d0b64a3915c7d0d1e724cb55ab66a96a8613': 'http://images1.fanpop.com/images/photos/2400000/Julie-julie-benz-2412952-1024-1275.jpg',\n",
       " 'd5e5bd75797817dae60e4db1d762c386d9730263cef1a958d7af0ce59c38456c': 'http://www.theplace2.ru/archive/julie_benz/img/Julie_Benz_61st_Prim.jpg',\n",
       " '9aaca5895e70934989d3de742883db1ab5c4c6cf92a963b4c9f4a7ba39b1d8b6': 'http://sillykhan.files.wordpress.com/2011/01/julie-benz-2-1-4-2011.jpg',\n",
       " 'f93ec5985ec662fe7cb47ddf939a6f81e7d829375ca84dc0478f514d8eaec419': 'http://en.academic.ru/pictures/enwiki/74/JulieBenz_BoosterBash04.jpg',\n",
       " '36a40c1248887189f8f217a2dc4c2052669153562c6a114343e154599be32a9a': 'http://www.scienceandsupermodels.com/http://www.scienceandsupermodels.com/pictures//2010/10/Julie-Benz-11.jpg',\n",
       " '573ff4b34a12de1f9a6f19b91f87edb00a9df080c3dc29d6dfbc062b976fbb75': 'http://www.examiner.com/images/blog/EXID5967/images/juliebenz.jpg',\n",
       " 'c37489fda2373a387dd96a4ebcd774da976a2bd430c74f40907229a497bc9593': 'http://becksmithhollywood.com/wp-content/uploads/2009/07/julie_benz-1-rambo.jpg',\n",
       " 'f60ad29f646f30063d844ec11e5f06362b33370c980b73a5f3f6d05da4270dc4': 'http://www.1920x1200.net/posts/wp-content/uploads/2009/09/julie_benz_1280_800_sep112009.jpg',\n",
       " 'be5796ad2937d7538fc7573a308869416da07d32374185ddc83fdcea2e87dfe9': 'http://images4.fanpop.com/image/photos/23100000/2011-Women-In-Film-Crystal-Lucy-Awards-06-16-11-julie-benz-23178878-667-1000.jpg',\n",
       " '0ba7f4af65a99c1403f4a6303b41cf50e9140ed1b23a78477a4405ba4bf63c83': 'http://topnews.in/files/images/Julie-Benz6.jpg',\n",
       " 'f20820939002c3c6d896317bc5f48e1b108b1da8fe9010596a09e7d858bd6a20': 'http://topnews.in/files/images/Julie-Benz2.jpg',\n",
       " '9fbefcc5857125b3580d581032d9c2ecf391a3dc2660948e016b89e8add27668': 'http://images6.fanpop.com/image/photos/32300000/Julie-Benz-julie-benz-32325102-1024-768.jpg',\n",
       " 'f5bace77fb729198f783df389081f9f2f60ca5f6e286dc2154f2df6b77d56831': 'http://cdn01.cdn.justjared.com/wp-content/uploads/2010/07/benz-comic-con/julie-benz-comic-con-no-ordinary-family-01.jpg',\n",
       " '4df1b6fa23126917c2f46c3562d6807d11d98fc3589bf19d366d4af497b020a1': 'http://www.thewallpapers.org/photo/5118/Julie_Benz-002.jpg',\n",
       " '475b8262b42b52f397895b1879e380d5ed895bda5371ed52a318d13c65bdce80': 'http://www.topnews.in/files/images/Julie-Benz1.jpg',\n",
       " '0990bed9355841baae6c4a02083f24a8d5f71335d340c31653c2c68438d1255c': 'http://images2.fanpop.com/image/photos/10900000/Julie-Benz-Angel-Magazine-July-August-2004-julie-benz-10913747-1139-1556.jpg',\n",
       " 'd9463f7f6f313a56825c119204b72d3cc4d35b7b8360fffdd6cc4d624cc0cdea': 'http://ucesy-sk.happyhair.sk/celebrity_img/benz1m410.jpg',\n",
       " '3199be9f3d9f014e9eeafe4364f3d9fc4e94e3e8313dbb3758fc68b32ae68156': 'http://www.scienceandsupermodels.com/http://www.scienceandsupermodels.com/pictures//2010/10/Julie-Benz-19.jpeg',\n",
       " '71f0402413b88f0d8cbf9a73d96109f8d754c643f0a0b629f3e764044a4e235a': 'http://www.beyondhollywood.com/stillsx/2007/11/julie-benz-punisher-3.jpg',\n",
       " '8ff28cf91a9cd2f649c3f9411b94b4e882e45c5dbb0120f47a2a1ca992203c1c': 'http://media-cache-ak0.pinimg.com/236x/f8/28/8a/f8288aba6e6dd41865be2f264ef1c3b1.jpg',\n",
       " '59c0e5edf67a66c1b04832aa08b96caf75939cf54e085799f9710b14c514e679': 'http://3.bp.blogspot.com/-FQ8cQAK3dKs/TwWqZic1cvI/AAAAAAAAB7U/q0NUFn_dinU/s400/Julie%25252BBenz%25252Bbiography.jpg',\n",
       " 'd67569423a6c99598ba4e0398ce8436b40223d90b57a3901e1b7d8946329f694': 'http://images2.fanpop.com/images/photos/8200000/Julie-2009-Emmys-julie-benz-8252207-1759-2560.jpg',\n",
       " 'f371b59b735d09bb55a266304acf4a20c2cd41a3e8aac82f379c16df13022978': 'http://www.scienceandsupermodels.com/http://www.scienceandsupermodels.com/pictures//2010/10/Julie-Benz-22.jpg',\n",
       " 'af5fd5114349ca1fab0cdbec9404714c8a20207739b05681635efbda27ff4ddc': 'http://www.whedon.info/IMG/jpg/julie-benz-no-ordinary-family-panel-summer-tca-tour-2010-hq-01.jpg',\n",
       " 'fd6c7133fa84779ad19c769ceea67d6a3204e6fc1ae7ed54fb54cc3641dce3ee': 'http://www.whedon.info/IMG/jpg/julie-benz-2010-american-music-awards-hq-05.jpg',\n",
       " '86276300a858a89f418910ec2cc05dff9c121f6ba7ad298f380cfd98bd28c3b8': 'http://static.tvtropes.org/pmwiki/pub/images/julie_benz-3634634.jpg',\n",
       " '4d7333ff502cd6f855fdb3f74924827f1d6464bff09e5d3208df63d464f6bbe6': 'http://www.whedon.info/IMG/jpg/julie-benz-2010-american-music-awards-hq-02.jpg',\n",
       " '09dcf278d1e471f6dabc86ee46bb65025a208499b05861bc6569abe0dd3e7ddf': 'http://www.gotceleb.com/wp-content/uploads/pics/julie-benz/cbs-cw-and-showtime-press-tour-party-in-los-angeles/julie-benz-cbs-cw-and-showtime-press-tour-party-in-los-angeles-01.jpg',\n",
       " 'e2b1fe83d1404b4dc2fc35b3b89133dac5c56342d5c526b192499fe807148367': 'http://images1.fanpop.com/images/photos/2400000/Julie-julie-benz-2413011-1713-2100.jpg',\n",
       " '572ebb4dc611d17aeeafd803906132b5801816cb712e8c2a20aee1a769e6c821': 'http://www.whedon.info/IMG/jpg/julie-benz-screen-actors-guild-awards-2010-hq-10.jpg',\n",
       " 'c73a0be3d93f1bd31c356d9eec90137ca648e25085b5b972bf8474e9dbba4863': 'http://www.gotceleb.com/wp-content/uploads/celebrities/julie-benz/regard-magazine-june-2013/Julie-Benz---REGARD-Magazine-%28June-2013%29-13.jpg',\n",
       " '23748def9215c7c21cb4ad4fc19966431d0cd40895cbdcb2ce1f16c29fbe507d': 'http://www.wallpapers-photos.net/wp-content/uploads/2013/03/new-Julie-Benz-photo.jpg',\n",
       " '80bc3caff55fa37d11aab7a5124a191934bc94d6598bddf1611d62bf6b8c2bc0': 'http://www2.pictures.stylebistro.com/gi/Julie%252BBenz%252BLong%252BHairstyles%252BLong%252BWavy%252BCut%252BQQ3TQ7zNUTbx.jpg',\n",
       " '684d7a646dd9b1103cc5c39f843292ec573ddb6b36e89d84a97c610c7283b991': 'http://images2.fanpop.com/images/photos/8200000/Julie-2009-Emmys-julie-benz-8252126-1589-2560.jpg',\n",
       " 'b6b3023af656a81682409b5345a45ec064630cde425807e496a6bd6adb4e1a1d': 'http://images1.fanpop.com/images/photos/2300000/Julie-julie-benz-2388610-800-600.jpg',\n",
       " '60f5e3f682e1aef69053b8dc799c93d49a9507eb508569db34ffeafa38e6a9bf': 'http://www.whedon.info/IMG/jpg/julie-benz-showtime-2009-golden-globes-after-party-hq-01.jpg',\n",
       " 'b7db2684cc3c2fa655141966b8eee3b57bbbcb198c44696a22d36de14dfe744d': 'http://www.contactmusic.com/pics/lf/w_magazine_and_guess_arrivals_7_090113/julie-benz-w-magazine-and-guess-celebrate_20048163.jpg',\n",
       " 'abc8cf8aeb5965c4b7384e28e01162353dc234adcc4e5941ba25df8f7410378c': 'http://www.contactmusic.com/pics/lf/w_magazine_and_guess_arrivals_090113/julie-benz-w-magazine-and-guess-celebrate_20046029.jpg',\n",
       " 'f693d6453238320046cd8375932335428143878c0b3c94e79b266dbc694636a7': 'http://www.theplace2.ru/archive/julie_benz/img/Benz_Julie_040.jpg',\n",
       " '09517e37e7ffe3267647bcbba307e456784d613cb7abd1d517d766d225323b7d': 'http://www.whedon.info/IMG/jpg/julie-benz-shower-photoshoot-gq-03.jpg',\n",
       " 'd5334151630f4792a737921f90ae49151cf7f2d68e12d696b2c79d5849c168e9': 'http://cdn02.cdn.justjared.com/wp-content/uploads/2010/07/benz-comic-con/julie-benz-comic-con-no-ordinary-family-05.jpg',\n",
       " '735e6589e13065f0b57cc0461a04b8b75c44ee175b26056a4e9a51de8b0e91fa': 'http://4.bp.blogspot.com/-sI5JkudO_A0/UPsCt2kXXcI/AAAAAAAAWG0/UKjxTnx_SlE/s640/julie.jpg',\n",
       " 'e26abd665c14d742aaa4ee26ed294142e34aa67773ec2cd5e6168d103ac0133c': 'http://wallpoper.com/images/00/34/47/15/julie-benz_00344715.jpg',\n",
       " '9c119019c9fa21a46adb0215452dbd0ac11ff81644746090e9ed5d885fbf84fe': 'http://static.cinemagia.ro/img/db/actor/01/64/30/julie-benz-923396l.jpg',\n",
       " '9e0a883831dd0541e320b3ce466ff3fe20dc2ad44931b22a3441a476f7219b87': 'http://images4.fanpop.com/image/photos/17300000/TV-Guide-Magazine-s-2010-Hot-List-Party-11-08-10-julie-benz-17373154-692-1000.jpg',\n",
       " 'd9b8ea0ab4644c2436a9ce3a9ac273aa2c81a8251e829be64f7b1ac476a5cf2f': 'http://www2.pictures.zimbio.com/fp/Guests%252BArriving%252BSpike%252BTV%252B2009%252BScream%252BAwards%252BYkme6SCe1xRl.jpg',\n",
       " '4e374bfc97ad8618ed6fc2516c42027bf1a4f2efbc6136091a78a509e0a25735': 'http://thumbs.dreamstime.com/z/julie-benz-los-angeles-august-arrive-s-abc-summer-press-tour-party-beverly-hilton-hotel-august-beverly-hills-ca-32458468.jpg',\n",
       " '9abf368c202fdd4dbc1624cf8550d892983b0fcccb71540b16dc10e4ed5b2b62': 'http://cdn-media.hollywood.com/images/669x1000/2023917.jpg',\n",
       " '55d770d5aaf0adef317e2ac3a7976adf0281af82c404fdc2323c45ef5804bfc4': 'http://www.hawtcelebs.com/wp-content/uploads/2012/09/JULIE-BENZ-at-Cloud-Atlas-Premiere-at-Toronto-Film-Fest-3.jpg',\n",
       " '2648875ddd5add6d426d186f49c26be70ad2c2b3a3356986834ebbed1bed22a4': 'http://www.scienceandsupermodels.com/http://www.scienceandsupermodels.com/pictures//2010/10/Julie-Benz-2.jpg',\n",
       " 'b9300a0145e9c0741ae749b25bb257b6ce37c9033b9c3da56d4c1c93b476fe16': 'http://www.contactmusic.com/pics/lf/w_magazine_and_guess_arrivals_090113/julie-benz-w-magazine-and-guess-celebrate_20046030.jpg',\n",
       " 'ae18bfd1d47f7fd086747de0f25a1699b964bad231aa74c98ece85f314a7ed4d': 'http://wallpoper.com/images/00/20/05/28/julie-benz_00200528.jpg',\n",
       " '8b2f8725ca5d2c1650b6c89e418a950c7deb255fa07bbf3ba25af0253f99ddd0': 'http://images4.fanpop.com/image/photos/17300000/TV-Guide-Magazine-s-2010-Hot-List-Party-11-08-10-julie-benz-17373153-665-1000.jpg',\n",
       " 'db4ed6721525ae811bd4470251d91babd6966e29e440a19aec35b1cadbdc8345': 'http://cdn01.cdn.justjared.com/wp-content/uploads/2010/08/benz-panel/julie-benz-no-ordinary-family-panel-10.jpg',\n",
       " 'ee30fc271e91acfc638966f65fc3a17dfca960b413320587f2f4caebaf0059bd': 'http://www3.pictures.zimbio.com/fp/Julie%252BBenz%252B62nd%252BAnnual%252BPrimetime%252BEmmy%252BAwards%252Bc5EWg60r7K4l.jpg',\n",
       " '313b03e2f99dad236d7061a95c49ad97f19d9b4fc297c3b84ed0409059ffdb60': 'http://3.bp.blogspot.com/-xDghE-LhyM0/Ueu4SRfnBHI/AAAAAAAAPlw/d8-eL_mq080/s1600/julie_benz_0001.jpg',\n",
       " '2314f9ceb40958b71cd9e32d87d881284c815d4afd7d70811392132580e018a1': 'http://popminute.com/photo/1/julie_benz_lingerie_dhw5.jpg',\n",
       " '83a850f97857f46bcd59f76d47f255e9b76263ef4a21f2fff2ac6fdeb21fff1b': 'http://www.whedon.info/IMG/jpg/julie-benz-dexter-tv-series-promos-season-2-hq-01-1500.jpg',\n",
       " '80327fcf4248e8df2bba4df2b90f11a781cc6922d5e34d06d08f77535f243253': 'http://www.1920x1200.net/posts/wp-content/uploads/2009/05/julie_benz_1280_800_may012009.jpg',\n",
       " '6a9f94f30a9efb045d309c7257349538687a3bddaea5ed0cadc534d5ccbd05c6': 'http://www2.pictures.stylebistro.com/gi/Julie%252BBenz%252BLong%252BHairstyles%252BLong%252BWavy%252BCut%252BQQ3TQ7zNUTbl.jpg',\n",
       " '1a1b434d70b86167b565fe620e5759ebdfc3d8debe77c5aa0224f8eff6395d86': 'http://www.topnews.in/light/files/Julie-Benz.jpg',\n",
       " '7bd0b396500ddfca6dc5de4c436e9aa2e8bd1839cc21495683f93fde7fc05da8': 'http://www.sawfirst.com/wp-content/uploads/2013/06/Julie-Benz-at-Dexter-Season-8-Premiere-in-Hollywood-9.jpg',\n",
       " 'b6416c5cefa9744899781dbd96c255adad44dc1499fbeee33f3de193f9e2a376': 'http://luspot.com/photos/download/21636/Julie-Benz-Wallpaper-5.jpg',\n",
       " 'e59ff547646d10e63dbb83b297b1a5cfc016c3ce9f4d4853fe7006c47e2507f3': 'http://images2.fanpop.com/image/photos/10900000/Julie-Benz-January-2010-Brunette-Headshots-julie-benz-10908021-1931-2560.jpg',\n",
       " '5387ec1b3ba60cbded8f2095f09115b471e825b68e317ac33019e3811c8cc664': 'http://images1.fanpop.com/images/photos/2300000/Julie-julie-benz-2388595-1024-768.jpg',\n",
       " '633dbd9e71b18d42c3674bc7c0863ee7856daf618d96d58a07fe27452cd9dd87': 'http://images5.fanpop.com/image/photos/26400000/Julie-Benz-julie-benz-26486585-1024-768.jpg',\n",
       " '49d9ab1564800cfe34d46082733a9e325d59f2f22c1394e4a44a9f41bbd63f66': 'http://images5.fanpop.com/image/photos/25800000/Julie-Benz-as-Layla-Rourke-in-Supernatural-1x12-Faith-julie-benz-25882426-1360-768.jpg',\n",
       " '345dace98283ce89fec47e44056c4f4e25c1c57b003ec6e26afa1f8b17fa4128': 'http://luspot.com/photos/download/21621/julie-benz-photo-.jpg',\n",
       " 'cb58e022cd799d31255af1e6a34e0c45190e24fb85d9aa60ea7956c07208ee3d': 'http://www.mediamikes.com/wp-content/uploads/2011/11/04/julie-benz.jpg',\n",
       " '78332b4815ebf8a54c1cb3d9f8a5c4811bddacabb757f288bdffcdaaff01ed49': 'http://www.contactmusic.com/pics/lf/w_magazine_and_guess_arrivals_3_090113/julie-benz-w-magazine-and-guess-celebrate_20046399.jpg',\n",
       " 'ab1ac3b7b9e2737d6725f79b7b62bf2a4aebe079f46f81e87a90d9c2bb35ed5a': 'http://images1.fanpop.com/images/photos/2300000/Julie-julie-benz-2388775-1024-768.jpg',\n",
       " 'a0f61e40a69b132fc615420856320d1115363ca042003cba2387f3de99705308': 'http://www.hawtcelebs.com/wp-content/uploads/2012/01/Julie-Benz-at-Audi-Celebrates-The-2012-Golden-Globe-Awards-in-West-Hollywood-1.jpg',\n",
       " 'e475fea581ac182c99068b8f818e0891541761587460b22fec1f474f2b8e498e': 'http://www2.pictures.stylebistro.com/gi/Julie%252BBenz%252BLong%252BHairstyles%252BLong%252BBraided%252BHairstyle%252BA7rIdWUltaHl.jpg',\n",
       " 'f62e03f8d61b7db87e7d083a44cdf0a67815798ad3d06e67ebb72f2653d778f4': 'http://www.hawtcelebs.com/wp-content/uploads/2012/01/Julie-Benz-at-Audi-Celebrates-The-2012-Golden-Globe-Awards-in-West-Hollywood-2.jpg',\n",
       " '8cfc22206b348a48b873001e8c4e460a6787c00d72b868921c84ae16bbae9500': 'http://cdn03.cdn.justjared.com/wp-content/uploads/2010/07/benz-comic-con/julie-benz-comic-con-no-ordinary-family-03.jpg',\n",
       " '2baadf6abf76f0f8a8829098f4a49ebcbf3cdb35282962d35d4282b982c8593d': 'http://im01.thewallpapers.org/photo/5113/Julie_Benz-007.jpg',\n",
       " '9874287589e8b82d8f3378eef8093736581d749a10ebd56908296b9cff4278b7': 'http://www.herinterest.com/wp-content/uploads/2013/11/Julie-Benz-2013.jpg',\n",
       " '2e43dcff1c97e3dc06d6f556b89fc5ed518c56dbeb5ce991aa272ca58394cdc0': 'http://www.whedon.info/IMG/jpg/julie-benz-no-ordinary-family-tv-series-season-1-promo-photoshoot-hq-04.jpg',\n",
       " '247875b214b776ee00bb8b9a67c44ad8c9f5638e4af791f461bf85d71b9d24f2': 'http://img2.timeinc.net/people/i/2011/stylewatch/gallery/night-beauty/110404/julie-benz-435.jpg',\n",
       " '664dc78af87f2f4cde116a1fa49eaaa572a2419c1b71bae1134e455716dbf42c': 'http://www.gotceleb.com/wp-content/uploads/celebrities/julie-benz/regard-magazine-june-2013/Julie-Benz---REGARD-Magazine-%28June-2013%29-02.jpg',\n",
       " 'e3ceab060f3d8f2048d64460c32e50da1388388332cb4f1420d9c05f4cf82e61': 'http://4.bp.blogspot.com/-l5nmStAHlNc/UYQ1zEXlZmI/AAAAAAAAWxI/D6OC07xL7AM/s1600/Julie-julie-benz-2389455-1754-2560.jpg',\n",
       " '84a544a8dccbbe9042ca73449b5a37218a3b1f2e93939acd97a1f5676011368a': 'http://images2.fanpop.com/images/photos/8200000/Julie-Photo-Shoot-julie-benz-8251503-640-427.jpg',\n",
       " 'c564b9dd8a813889b79384f4b74407c8b6ee967407f92073e2961bf0d2220676': 'http://deskofbrian.com/wp-content/uploads/Julie-Benz-Dexter-Rita.jpg',\n",
       " 'd906c4fdefb110f2f87ec8dd26a72589fe6129f81dc797b927485b8bac9b64f2': 'http://1.bp.blogspot.com/-4Or2XUoHId4/UGO934FuixI/AAAAAAAAAb0/VFSs8qq7vyo/s1600/Julie-Benz-at-Benefit-Gala-043.jpeg',\n",
       " 'b470a7a2b981a7ca48813a558494441b038c8bbf95ed93219114352196909f5f': 'http://images2.fanpop.com/images/photos/8200000/Julie-2009-Emmys-julie-benz-8252189-1686-2560.jpg',\n",
       " '62605667c992d0c584bf4dfc19416e5e0c0b6bc739ca348ea27ccd788a35641e': 'http://hairstylespic.files.wordpress.com/2011/08/julie-benz-formal-hairstyle-chignon-bun-hairstyle.jpg',\n",
       " '4c158585b35169012ea086c67e973273b5a441ba7ba008a97fee5bbd0748c015': 'http://s.wallpaperhere.com/thumbnails/detail/20110627/Julie-Benz.jpg',\n",
       " '393ba8889ccde3cd36570e3a70f65ba7abd2bb958eb7a6f169f4f2544574822c': 'http://images2.wikia.nocookie.net/__cb20080407062021/marvelmovies/images/2/2d/Julie_Benz.jpg',\n",
       " 'e4278569e0fe13a9ee5b044133cb8b87b6a3433486aa51b12944563007dc37ae': 'http://www2.pictures.stylebistro.com/gi/Julie%252BBenz%252BLong%252BHairstyles%252BLayered%252BCut%252BO0qgF9b99o1l.jpg',\n",
       " '2bb5dac9d9e68d18739fa671e848b5b7124238dc12d12abe9b22de2cf8979e53': 'http://images1.fanpop.com/images/photos/2300000/Julie-julie-benz-2388655-800-600.jpg',\n",
       " '19c05b3fd4723be1ba634360ede3cedc346bad654d740fb854e01810291c5338': 'http://www.wallsforpc.com/wallpapers/2012/12/Julie-benz-480x320.jpg',\n",
       " '102d53f08d88b2662ff039825b55b271ae84c1eabf03e50ed88eafa6afb95c48': 'http://1.bp.blogspot.com/-cn2mcMttaYM/Ub4_6RXxOpI/AAAAAAAAcN0/laBB1DMMtCU/s1600/Julie%2525252BBenz%2525252BStars%2525252BDexter%2525252BSeries%2525252BFinale%2525252BSeason%2525252BSveevO885JWx.jpg',\n",
       " '4db7e3b5b055c1000f2460d765f55aab46399f91184345a6f227f0cfdba68691': 'http://www.contactmusic.com/pics/lf/w_magazine_and_guess_arrivals_6_090113/julie-benz-w-magazine-and-guess-celebrate_20047569.jpg',\n",
       " '481b452e282c7e0674d97d3fbc058bdd571b170d5d380815eae8f047c1a77e43': 'http://www.workingauthor.com/wp-content/uploads/answers-to-nothing-2011-julie-benz.jpg',\n",
       " '0cf0b86cf495c958c7ccb87c5eb377deed367e93bc672243f6bd818cc34b56a2': 'http://www1.pictures.zimbio.com/gi/Julie%252BBenz%252BNBCUniversal%252B2013%252BWinter%252BTCA%252BTour%252Bnl6kNqPvbmXl.jpg',\n",
       " '89a9fc96c645a70a057f4269ae9e28758df3344f7456e9a85abcb91204a08b79': 'http://www.feetmagazine.com/images-pub/julie_benz/Julie_Benz_Feet_On_Display.jpg',\n",
       " '8662313d90e119b006bbc6958cf088e411c9418028f2943d4759f4a95c883175': 'http://www.scifistream.com/wp-content/uploads/julie-benz.jpg',\n",
       " '75c3bd8c5c44944c3f4cec5fca41f57645b1ddce3fefd73797734d67960919f2': 'http://www.scienceandsupermodels.com/http://www.scienceandsupermodels.com/pictures//2010/10/Julie-Benz-20.jpg',\n",
       " 'c19f2a607270942a8010fa28fd12dd2fdbf1605623b71a25f620a1d30a50b7d1': 'http://ll-media.extratv.com/2012/05/06/julie-benz-450x600.jpg',\n",
       " 'fa1bdf533d88ec98c4a2d8fce91d6ef558e277a5437393f18d0520cbbbd1bbb8': 'http://images2.fanpop.com/images/photos/8200000/Julie-Photo-Shoot-julie-benz-8251501-640-427.jpg',\n",
       " '112cb0bce6f4597c4a926c52d9be1a6724de99f170a2b803a6a608788d0b40a6': 'http://starsmedia.ign.com/stars/image/article/845/845474/julie-benz-20080114042239118_640w.jpg',\n",
       " '31b0cc4f35befe598805f3488f81fff6cabd62291fe997a9e6a65fb38a4964f6': 'http://www.exposay.com/celebrity-photos/julie-benz-15th-screen-actors-guild-awards-1zLjcH.jpg',\n",
       " '775128e56e8600d5c9c392a7a191ac72742ede7d312d3b9edec70fc86ed93cda': 'http://www.thewallpapers.org/photo/55553/Julie-Benz-at-Benefit-Gala-044.jpg',\n",
       " '03959736443c077ae27f6d63c0e9de48cd2aff16117932606a8f793ccda52950': 'http://www.theplace2.ru/archive/candice_bergen/img/candice_bergen_55.jpg',\n",
       " 'f14ab99ede4c220f50dfb84bb9bb8413d8c3c8ed0cd982a56239751ba63ef04e': 'http://www.nndb.com/people/723/000022657/bergen.jpg',\n",
       " '826eb91415d70d8644fb37778ec598a3620d2d587f01e3a097daffd67e7eb03f': 'http://www3.pictures.zimbio.com/gi/Candice%252BBergen%252BdCxLX8Fv4nZm.jpg',\n",
       " '27e5088f400cd6fbbd1bfd5d995d828f5c2e94bb631b4208fcfb97eaa3791b0e': 'http://www.theplace2.ru/archive/candice_bergen/img/79442a79a126.jpg',\n",
       " '38f0e04023b7fe9e1bd8bf010d7516b0b948d556db5e2a523030e4d1af9012fc': 'http://boston-legal.org/big/big-candicebergen-cu-8-14-2006.jpg',\n",
       " '0f7e0b0e65f9f373d3a352962ccd81ebb84169d980153850f2f52ee08fb8b76d': 'http://3.bp.blogspot.com/_A3pUsRlHOIs/TTOTmf-MTXI/AAAAAAAABlI/qtzSPKI-aLo/s1600/candice%25252Bbergen%25252B4.jpg',\n",
       " 'd30687cb82a92ab3236584d95078a9641d75a47a083a3a009247c0d96092b5af': 'http://4.bp.blogspot.com/-RSraFo9fYmY/T6qb7bVvGSI/AAAAAAAAEr0/YfepbpGrLrk/s1600/2123787_fed60751-25c3-428a-afd0-679f8411c2dd-candicebergen2hj2.jpg',\n",
       " '93a307a074a30bcfb667acc5ad7b916b65693c57017516ef717f0c11e32ad76a': 'http://a.abcnews.go.com/images/Entertainment/gty_candice_bergen_ll_120329_wblog.jpg',\n",
       " '0deb38ffcb2a11ec96384607774b09a12ba64916a4536dd24462d1288b20e7b6': 'http://www.theplace2.ru/archive/candice_bergen/img/366323377_603_123_92-1.jpg',\n",
       " '1038d2f564da4c3e698da0f6d3f1a8e602f1671d7bfa0638ac08f71b04e55fd5': 'http://www.showbiz411.com/wp-content/uploads/2013/02/candice-bergen.jpg',\n",
       " 'e87f227e4a4c5e58ca626dd94df955f41b9395612ff2e1e4aee1e0313e5dd48c': 'http://images2.fanpop.com/images/photos/8100000/Candice-Bergen-candice-bergen-8194404-500-652.jpg',\n",
       " '0de2d7ff52dd62eb43438401b1ab03d6a50d803091ed4a9c5b796a05c65e6ca5': 'http://25.media.tumblr.com/tumblr_me6gjvmuDX1qbdwm8o1_500.jpg',\n",
       " '85384391b0de862913e04cbf9f2859843a4d770f9a0349360a0d05170af0af64': 'http://www2.pictures.zimbio.com/gi/Candice%252BBergen%252BNew%252BYork%252BPremiere%252BJust%252B45%252BMinutes%252BqLLsnwUPR_cl.jpg',\n",
       " '64ebf4f993e3a24995f96ec8f4825f7c6adf41ebebb216db8e61afcccb02fff5': 'http://24.media.tumblr.com/1a1dd822c986866d76f02b89db4cf092/tumblr_myjaayI66h1rs727lo1_500.jpg',\n",
       " '280c184e0f11511c175dd2dbd13726580b5fe406b024223d0e241f2212c21d9e': 'http://drhousefansite.files.wordpress.com/2010/12/candice_bergenhousemdspoiler.jpg',\n",
       " '6ad263861891fb9ec24dcc8cfc7a06e3e0260a97d83380c7e6c8aa61be0c81b2': 'http://2.bp.blogspot.com/-guMW2CF84I8/Ty2OpL584kI/AAAAAAAAAPA/MYQcJj69s0E/s1600/candy%252Bbergen%252B4b.jpg',\n",
       " 'e5d600c59a7013b09b7ce0a60750e506e2219e76ca08ce4a97aa46a6c7a2dfb3': 'http://img2.timeinc.net/instyle/images/2011/transformation/1998-candice-bergen-400.jpg',\n",
       " '04b0e4f8b932c9af84e3da12e026a428aa4b72c339ffceb6c8d1d5b590034538': 'http://www3.pictures.zimbio.com/gi/Twelfth%252BNight%252B2009%252BShakespeare%252BPark%252BOpening%252BnvXhQ0GXL5Ll.jpg',\n",
       " '783f09e6eec49e8c8ee782de5f2e10b5f639ec85ce9c98952baca476ba7790d9': 'http://2.bp.blogspot.com/_ykrBQt5fyNs/SY-LELMUSNI/AAAAAAAABBQ/D4w1dZKh-kg/s400/Candice-bergen.jpg',\n",
       " '5be3521ffff5f1ce92459469c5b10b28171711204dedb373805072d74b08aa9c': 'http://4.bp.blogspot.com/-DO9hI_6RLKc/Tcftt_mmWEI/AAAAAAAABE0/Wrj4wdBp2z8/s1600/9%252BBergen.jpg',\n",
       " '76800a348d636d7dab2e5e7e6f446c5fa7ba9cd13cd57165c2d3f94c913083df': 'http://content9.flixster.com/photo/12/17/08/12170811_ori.jpg',\n",
       " '922da9a1cf5a640bd728a3a61aae664afec7c685123a84f3f158eb643811b21e': 'http://www.theplace2.ru/archive/candice_bergen/img/3-81.jpg',\n",
       " 'e75b3c236d9492ceb5a9ff789eb928474b4f3026adfafbb796d416857e871586': 'http://content7.flixster.com/rtactor/40/32/40325_pro.jpg',\n",
       " 'aeca7e9e5527807e148aa20c2304b01feeadfb10547418580b1290dc2c4341a9': 'http://www.contactmusic.com/pics/lf/tony_awards_arrivals_140612/candice-bergen-the-66th-annual-tony-awards_3943007.jpg',\n",
       " 'b4296b8cdf6efa19a092c6b08dc7fdbac005d62c78d374aeb183384843e0ea9b': 'http://img2.timeinc.net/instyle/images/2011/transformation/2006-candice-bergen-400.jpg',\n",
       " '31c735fdafc3333f9998c70e39fa5c1551b905ad13176615c0512350fb2ba27b': 'http://4.bp.blogspot.com/_A3pUsRlHOIs/TTOTlrsQ9rI/AAAAAAAABko/eugTF2dSKe8/s1600/candice%25252Bbergen%25252B5.jpg',\n",
       " 'e9d5c910ec301646bfdb0e0c8cf8d633f0c52acc9044f000362a14d3cf70c235': 'http://img2.timeinc.net/instyle/images/2011/transformation/2011-candice-bergen-400.jpg',\n",
       " '0604f2f447bc4a1d2c1748e5f01429e0b125b2c856450bd60cb2daf7a01d6347': 'http://images2.fanpop.com/images/photos/8100000/Candice-Bergen-candice-bergen-8194463-433-652.jpg',\n",
       " '29311894b8c409cd324a622bc12ae288df6eb6b758ac686aabe58bc9fc61fdad': 'http://www.theplace2.ru/archive/candice_bergen/img/candice_Bergen_75967.jpg',\n",
       " '21f02818c3b47b34c14f5d2951f7952971a1fdd36d345844aeea183ab7dd47d0': 'http://indulgy.net/YA/w9/A1/15621929927292409mhAdWhPrc.jpg',\n",
       " '11dd0b53836ec79a5b7b3d4e68a45d913c1711e4c4f2e57b6b7c9f8ce26dd28f': 'http://iv1.lisimg.com/image/3767854/600full-candice-bergen.jpg',\n",
       " 'ee44b15b5b3f1cee348f3e2ca59a1fe12b32500ac91ee30c1877938defbb35ea': 'http://www.contactmusic.com/pics/la/women_premiere_6_050908/candice_bergen_2059340.jpg',\n",
       " 'a38856299e49af3312bc9eeaf79bb8adce8f90fde09c9887b2f0e0e39f23ed26': 'http://www.contactmusic.com/pics/lf/tony_awards_arrivals_140612/candice-bergen-the-66th-annual-tony-awards_3943005.jpg',\n",
       " 'ff048b46ff148aca7e09095d71a8eb526c2705469ca23673f48a318366baede8': 'http://4.bp.blogspot.com/-WlVO8n1b78o/T6qcLPp6i-I/AAAAAAAAEsU/rYsb9dpomks/s1600/candice-bergen.jpg',\n",
       " 'e6e2b2e1107791b573c1466bcd4f7021455a84983e6d05a1ed77541f131ca068': 'http://images2.fanpop.com/images/photos/8100000/Candice-Bergen-candice-bergen-8194403-516-652.jpg',\n",
       " '89e401c0ebca24316ebd90a88ac3662454e34e3932ae163ced77cda7fb0618cb': 'http://img.timeinc.net/time/magazine/archive/covers/1992/1101920921_400.jpg',\n",
       " 'a71ddd0a7cfa82b7dc1191d47527ca0afc7b464488ec310d2ec53511faeb3be2': 'http://img2.timeinc.net/people/i/2006/news/061016/frances_bergen.jpg',\n",
       " '45ad1c16d86fffe014e7169629077e57ac8e430a950bba0830d68862efa84dc3': 'http://www.theplace2.ru/archive/candice_bergen/img/Candice2,_durante_es.jpg',\n",
       " '4d587722efee36d7f15361bb975664ef3b7d4a291ffa978ce727f874dd76681f': 'http://images2.fanpop.com/images/photos/8100000/Candice-Bergen-People-Magazine-candice-bergen-8194343-600-794.jpg',\n",
       " 'c6482b6db0cbfb2b002f9c17b7f58a3001c943aaa76957c7d477e7173c99ef36': 'http://3.bp.blogspot.com/_pp1D0xV0y2o/TJyHzvZiiaI/AAAAAAAAKpM/j45fNhANwFg/s1600/SKMBT_C20310092409510.jpg',\n",
       " 'add5a6318c4452b2a60e0ecd009bc4a60cff0e7dec28cf6449c3206cdf95f316': 'http://www.theplace2.ru/archive/candice_bergen/img/6-21.jpg',\n",
       " 'ee9e0abf415c10191d593c24c90b9ad17d5b976b87f166cdb7bbd91c1e219e3a': 'http://www.filmfestivals.com/files/images/CandiceBergen.preview.jpg',\n",
       " '7057e63c8ab381f7e657473e93a50a3d1ba03da3d4fa3f8066e0454dea62b5ff': 'http://mediamass.net/jdd/public/documents/celebrities/4882.jpg',\n",
       " '2866e26d431e0897aaec169e2b94c531a1b5113fe070ad6d060d3f79c7b65529': 'http://cdn.sheknows.com/articles/2012/09/candice-bergen-now.jpg',\n",
       " 'bf0b5c64d6a9eb16784dc5f6ebd022e969c5d286ad3f8691238f124bd8871e9d': 'http://www.theplace2.ru/archive/candice_bergen/img/1-109.jpg',\n",
       " 'f78069f8e3360ad3d812880ddd4dc07631b090ed11b053a264193ef74bf9d2af': 'http://glenwj.files.wordpress.com/2012/03/candice-bergen-photo.jpg',\n",
       " '3aeba7ea15496e28ccfb66163805f633df08ed0c868d16826302c3b3388b5581': 'http://cdn.sheknows.com/articles/2012/03/candice-bergen-2006-stroke.jpg',\n",
       " '005e42cc76b60645c4a84c1b962a0e2cab0bb04daeae068338033d1ad09672a3': 'http://www.blogcdn.com/www.aoltv.com/media/2010/09/candice-bergen-getty-250.jpg',\n",
       " '684ee091091802a5dda3c7fa606f13556a1f6f33ac6f48bd6f88171742762316': 'http://4.bp.blogspot.com/-scx71aTkB34/TfXEjAKIk2I/AAAAAAAAHdA/Cz2G5mJduQY/s800/candice-bergen%25252Bmakeup.jpg',\n",
       " 'e913292d2d52ab2b733d89ea4ce8ec8e7c93f2f9f4e4c22b6e968b1dd634a361': 'http://media.zenfs.com/en_us/tv_show/TV/candice-bergen-35032.jpg',\n",
       " '2d6dbfcd722929cf5d80d99f13bda0144ee65ee3225c5f8f3a56183d58c84a40': 'http://www.contactmusic.com/pics/lf/best_man_press_conference_010212/candice-bergen-press-conference-for-the-broadway_5788114.jpg',\n",
       " 'f7fc7463d7c0ff3f1cd238326c347e8923a6b6f20e1d69ff1c10e0a2e8ed2b4a': 'http://i.usatoday.net/communitymanager/_photos/lifeline-live/2010/09/30/bergenx-large.jpg',\n",
       " '277c493300874a1bd2dd2b0566f8721d71eead554beb29c24da4ac06581ba4c1': 'http://www.theplace2.ru/archive/candice_bergen/img/image016bis.jpg',\n",
       " '9a02bbb0b144a983307e19247eeafb27ec35620a60c9c49e284aa7266d43db7d': 'http://img2.timeinc.net/instyle/images/2011/transformation/1985-candice-bergen-400.jpg',\n",
       " 'b2a977df02722bb4cf226891dd8470c919d750640c424f424f994b96c8ceee3b': 'http://www2.pictures.zimbio.com/gi/Candice%252BBergen%252BTwelfth%252BNight%252B2009%252BShakespeare%252BYObbs5Mk6L0l.jpg',\n",
       " '42d00b002df0368ebaa23835a3a3ac08f839e25318de4f69ebecaeb36294b62c': 'http://www.theplace2.ru/archive/candice_bergen/img/4-154.jpg',\n",
       " '1c266f25787ececed632f1817a55f486f589cf79bddc190e446d8335676c426a': 'http://2.bp.blogspot.com/-6Ex-68z8V2E/TVyRRcvzG4I/AAAAAAAAAfA/n9VtzgXJbKA/s1600/candice-bergen-sand-pebbles.jpg',\n",
       " '9e6fdef9e5d66abbf3b18e2297b906aad0d93390633d8cc2e448e141227d052c': 'http://3.bp.blogspot.com/-HM972iMM1Cs/TeKMdd0pPgI/AAAAAAAAAuo/7eGOYZzK1-s/s400/candice_bergen_with_mask.jpg',\n",
       " '31c3e3b0da8eed17ceb868022caf12daf244d3a72c7b59b60cf71f6f9550c7a6': 'http://www.theplace2.ru/archive/candice_bergen/img/4446436656_28348d752.jpg',\n",
       " 'e58c609dd0b484365c46ca74ce1ece205594d7309a4eac407b6e2fb7f871881b': 'http://crimsonkimono.com/wp-content/uploads/2012/04/candice_bergen_015.jpg',\n",
       " '1c8ed3215a811370f3487aaa0ac63cad58c1eb93f4b2cf01d64488415bdc72e4': 'http://i.usatoday.net/life/_photos/2011/01/17/cc-monday-bergenx.jpg',\n",
       " '1cfa7985e786220ffc8a5429243106fc240c3800b8a639658161f123d5d91cdb': 'http://www1.pictures.zimbio.com/gi/Candice%252BBergen%252B66th%252BAnnual%252BTony%252BAwards%252BArrivals%252B1yYRLrYEUCVl.jpg',\n",
       " 'c8abb0e7f0b666090f1b68dcd762b61c39d5b618ab11d94d1e5ace785660ace3': 'http://24.media.tumblr.com/tumblr_lfamao9WVe1qb8ugro1_500.jpg',\n",
       " 'f12377f3c5c37817b4cac85cc1fe653d60fcc0a97dc3849e36c49e144afed979': 'http://img2.timeinc.net/instyle/images/2011/transformation/1996-candice-bergen-400.jpg',\n",
       " '18f9ba595bb68cb76718f03c56d0df8717938a5667a94c0c35787540529c4577': 'http://2.bp.blogspot.com/-pwB4dOtA1SQ/TcfEz8TVxjI/AAAAAAAAL1Y/Kdr40dsAw8c/s1600/hair-Candice-Bergen.jpg',\n",
       " '7d08a1a12eb349d0886d8d7185f5a3c274de0ed01bfbbfca76f72745acb470c8': 'http://24.media.tumblr.com/tumblr_mapohd5hVG1qjehcpo1_500.jpg',\n",
       " '46345c5f4a3183185d294070d731d12b74edefcbdf63dc4b6776a344cc35cd5b': 'http://i.usatoday.net/communitymanager/_photos/lifeline-live/2012/03/29/bergenx-large.jpg',\n",
       " '4d1d2d1ad36c8af0b3896e9bf6b76bbd8e34005ee7955b5039d4b1f0b64d9a65': 'http://1.bp.blogspot.com/-ZMOq6xfmZgk/UNmtnp1Br8I/AAAAAAAAK98/w-B1tsO7gp4/s1600/25%252BBergen.png',\n",
       " 'd48a9f440e443f1dcf1a7cc0c57693e6e6ca255f93a0c43d5f6076961075290d': 'http://2.bp.blogspot.com/_ZZ-CqtHjAnk/TEXonLHSyEI/AAAAAAAB5vQ/QQ4UxUvd9fs/s1600/Candice%252BBergen.jpg',\n",
       " 'd81a5b48aca14672aa590b87994866a001e98e5804528ac23e9753deda666607': 'http://images2.fanpop.com/images/photos/8100000/Candice-Bergen-candice-bergen-8194408-447-652.jpg',\n",
       " '41bc44bb4df600352da8c9da749d77b9528dd7004306b50e21e77994c97b9829': 'http://cache2.artprintimages.com/LRG/37/3777/Z6GIF00Z.jpg',\n",
       " 'c340cbefc12125bbb81df3f060196c5c6980a2123dae21930e03379fb2c6e6b7': 'http://www3.pictures.zimbio.com/gi/Candice%252BBergen%252B10th%252BAnnual%252BTV%252BLand%252BAwards%252B6coK1Oj7d4sl.jpg',\n",
       " 'cf8c878c41c0b5056e742823ca42180040182b039f07e590f500a3a9464d04e9': 'http://images2.fanpop.com/images/photos/8100000/Candice-Bergen-candice-bergen-8194301-575-517.jpg',\n",
       " '8193f1968d6d2093cc0d7617ded3e7733856f19e38feb1ff15a2d4ccb75be5a3': 'http://24.media.tumblr.com/77b66b4a971f4cd29abffe1d21df6750/tumblr_mm3nmpJKZ71qzdzwdo1_500.jpg',\n",
       " '00070d3423653cd532ae241d480f288e84d013bf91bf454f23670dda5ea4c5cc': 'http://www.contactmusic.com/pics/lf/best_man_press_conference_010212/candice-bergen-press-conference-for-the-broadway_5788115.jpg',\n",
       " 'cf94d7cc432757988be28f8902eaf92a540156ec2b24d5ad1bc68fd3cd4a3838': 'http://www4.pictures.zimbio.com/gi/Candice%252BBergen%252B2011%252BWriters%252BGuild%252BAwards%252BPress%252BJt1cYHqq9Gml.jpg',\n",
       " 'b98964c5df56d465cd8fe6b131e10fed451cd998262574802c851ce2af2ebb06': 'http://www1.pictures.zimbio.com/gi/2009%252BWhitney%252BMuseum%252BGala%252BArrivals%252Bqimhi7f0mFUl.jpg',\n",
       " '676a2e607bbc26f464d7d85e7f436908266c686d1924b215325a737cfe3eaf39': 'http://images2.fanpop.com/images/photos/8100000/Candice-Bergen-candice-bergen-8194401-439-652.jpg',\n",
       " '4dff4390d91a98d88219e7fa35f3a1beab00ff215db49fe9428f4f7e142bd08e': 'http://4.bp.blogspot.com/_RkdN7kEoRcE/S96rXnHxMaI/AAAAAAAAGW0/Wn6hIkWwhi0/s1600/candice.jpg',\n",
       " '8a4b3bd8af3c4ca844e3a915e597fa54fdcb4126638944ae1e2e1cfcb2795d7d': 'http://image.xyface.com/image/c/artist-candice-bergen/candice-bergen-105593.jpg',\n",
       " '9a6613a7dde67a4844ac33c21d5fee449e54680d51e0997e47f3d76807ea5f64': 'http://big.assets.huffingtonpost.com/candice.jpg',\n",
       " 'c218edd334e2c9807c63ffac5e8e8644069e1aae8f99d380a9106e0b41cd9821': 'http://img2.timeinc.net/instyle/images/2011/transformation/1989-candice-bergen-400.jpg',\n",
       " '5ccf9e23b00b28846732c9fa9ea8f575826ff779bc74ea02e6ff704f757cb0e6': 'http://img2.timeinc.net/instyle/images/2011/transformation/1977-candice-bergen-400.jpg',\n",
       " 'c3b09f86a99aac33b5009df0dbe258199d451d63dc28003c2115c0942c498e26': 'http://blogdokalifa.files.wordpress.com/2010/03/candice-bergen.jpg',\n",
       " '0c2c3e3a2f2968c3862ed9382d4969da23ba544d032808ac1e36c50adaf02f84': 'http://images5.fanpop.com/image/photos/25400000/The-Romantics-candice-bergen-25431874-720-540.jpg',\n",
       " 'db16e9896fac401e4152e31cc0e587e1ec3cc4eed56b7da4f2865f7d54fc0628': 'http://www.contactmusic.com/pics/lf/best_man_press_conference_010212/candice-bergen-press-conference-for-the-broadway_5788091.jpg',\n",
       " '80d77e428f383d50dc29ba3c869dd3f792836c4c6922bc904f52797f3997e9c3': 'http://images2.fanpop.com/images/photos/8100000/Candice-Bergen-candice-bergen-8194307-338-450.jpg',\n",
       " '6834312fbcda5027be4363f536cce3544aac7a9b2d755cc5097dc8a58ac75d7f': 'http://oldlifemagazines.com/media/catalog/product/cache/1/image/9df78eab33525d08d6e5fb8d27136e95/c/v/cv072470.jpg',\n",
       " '8bf11118f1429316b7d93dd9b4990b66969d8de6d7fe540285fd15196489f421': 'http://25.media.tumblr.com/tumblr_lrurc0JEhI1qg03pro1_500.jpg',\n",
       " '384cc1d61eefc61cd14ab94517719483134c6618fda4d175563a241acd8f23cd': 'http://4.bp.blogspot.com/-9r3OHIephl0/UGQICou5uyI/AAAAAAAAFbY/ghXV8tfVzHc/s1600/Candice%252BBergen%252BStarting%252BOver.JPG',\n",
       " 'f1cf456624b6bbbfb13322686a773042a8cf89e179c413f67cddc414542f220c': 'http://feedlol.com/wp-content/uploads/2012/07/pint-candice-bergen-charlie-mccarthy.jpg',\n",
       " '3431b6f1fc7946bfd609b610d0839550c258a5a41eb86c4c3d664c7c2be8f4d6': 'http://www.wma.com/candice_bergen/imgs/candice_bergen_1.jpg',\n",
       " 'e5a052b45f3ffc87902018bb46c9eca7ceac7116217c99ad192aebfb7ec89772': 'http://www4.pictures.zimbio.com/gi/Candice%252BBergen%252B2011%252BWriters%252BGuild%252BAwards%252BShow%252B5qTly_r4XcIl.jpg',\n",
       " '5252f7d1f7892785c63ce28c423ee5561d2d4bb06bc930f953a1c7e81b58f254': 'http://a.abcnews.go.com/images/Entertainment/gty_candice_bergen_ll_120329_wg.jpg',\n",
       " '26eb23430cf106c69f1e9fc1cd35d2d88febbc32aaa302b1b278b912b43a6dc0': 'http://www.theplace2.ru/archive/candice_bergen/img/4775362749_c54bfa778.jpg',\n",
       " 'da17dbd0d44f5fe7c9804fb550ebfe3bc6d34ca3565f0020bfd79e26812c6dcb': 'http://www.contactmusic.com/pics/lb/ellis_island_awards_190509/candice_bergen_2424663.jpg',\n",
       " 'c86210e070c3ba01b02ea0e79be25ad67edbbce6e2e78e70eeaad92ff071d5eb': 'http://media.tumblr.com/tumblr_m40pqimp3W1qar9dd.jpg',\n",
       " '6c36d88a1873119abda10bd81c536da7e6d912f7f8c32d09cb222613b51ded49': 'http://www.contactmusic.com/pics/lf/best_man_press_conference_010212/candice-bergen-press-conference-for-the-broadway_5788086.jpg',\n",
       " 'e1422481d1267531c648bc812a3998060df12027923533dd5833ae9520ebc812': 'http://www1.pictures.zimbio.com/gi/Candice%252BBergen%252B2011%252BWriters%252BGuild%252BAwards%252BShow%252BTdOl293f7FUl.jpg',\n",
       " '1caa2150ff52f879a2b3ccac5bbdba857eebebc8837006851096963d2e46c9ed': 'http://www.theepochtimes.com/n2/images/stories/large/2010/09/30/candice_bergen_95907552_medium.jpg',\n",
       " '7725b92c75665eb4749fbffc66ba7ea55af2dfde5cb20e8e63d7cfb5c3a2fe65': 'http://i59.photobucket.com/albums/g290/mikisu/Candice-bergen-008_0_thumb_585x795.jpg',\n",
       " 'f059419c6eeb648d00e90237bd75006eb011e3941c5e9f891b725dc22df62da9': 'http://3.bp.blogspot.com/_Xsw-kvfyoTA/S9zuMeyHJHI/AAAAAAAABQ0/DZpDGA8EavY/s400/candice_album.png',\n",
       " '3f23eba9e3e4d9e3417e901722a150de324c9bece9d75eb047c33681a9b42766': 'http://content9.flixster.com/photo/12/17/08/12170819_ori.jpg',\n",
       " '068c5441c4e6af72e08528eedce305a6d62b152fe9a132ff2c0b0b84fd6b51b2': 'http://images2.fanpop.com/images/photos/8100000/Candice-Bergen-Boston-Legal-screencaps-candice-bergen-8194212-624-352.jpg',\n",
       " 'a3d3f8d09ef00c0338e015e0d5aaf0b5eb13723596918933ac42fa186e82f3a6': 'http://www3.pictures.gi.zimbio.com/Candice%252BBergen%252BPremiere%252BPicturehouse%252BWomen%252BITbkJjgaIDzl.jpg',\n",
       " 'f2b218da0b4f75b6410a099359f58290d22492f3a7604925dcd8060953752e28': 'http://www.theepochtimes.com/n2/images/stories/large/2010/09/16/candice_bergen_h_101964491_medium.jpg',\n",
       " '4f1e802ad5a5dacce21c08d9a52d9bceb708231e6774d229876d301f1e18a7b0': 'http://www.exposay.com/celebrity-photos/candice-bergen-58th-annual-primetime-emmy-awards-pressroom-0R01LA.jpg',\n",
       " 'aea379c850c6e3e5bd01838abcc3300836da2abd00d739db8afb64da0d6af7d2': 'http://www2.pictures.zimbio.com/gi/Candice%252BBergen%252BMurphy%252BBrown%252B25th%252BAnniversary%252Bnava4dHtWejl.jpg',\n",
       " 'e75e5b66b20fc991ff04b0aca75fe2fe106ebf33a875389ee98608dc4c3b1472': 'http://www2.pictures.zimbio.com/gi/Candice%252BBergen%252BWeinstein%252BCompany%252BExcellency%252BJ87kTickDfal.jpg',\n",
       " '5d23f931ca94b68152526de12d3fbd5ece7034846075f13913973389b59549f8': 'http://www.contactmusic.com/pics/mf/best_man_press_conference_010212/candice-bergen-press-conference-for-the-broadway_5788086.jpg',\n",
       " 'f1b1207010e37371e53c15dbb679f14e4bda978822d63b999df2356e7da24bd5': 'http://1.bp.blogspot.com/-CZrNOAKZMhA/TcfE4-rIWlI/AAAAAAAAL1g/UJxILaJeBoQ/s1600/hair-Candice-Bergen1.jpg',\n",
       " '5f4e640011cddabd52e7f562151732d894c7a8237843e786b1b54f2efe4cc809': 'http://lh4.ggpht.com/_JXCWMQY9mf8/SxCd0o5dOxI/AAAAAAAAAto/WDsK-3U33B4/candice-bergen-2.jpg',\n",
       " 'ad5635879f6ff92e1a830f9a374042e7c22f9344e2f6111211b3b5cf31946db9': 'http://www.theepochtimes.com/n2/images/stories/large/2010/09/30/candice_bergen_95907552.jpg',\n",
       " '07148c994ac87f03244ea1c45fd1834f53c19977cb48a5ef2e567a4e9b0103ea': 'http://images4.fanpop.com/image/photos/15800000/Candy-__-candice-bergen-15810685-300-460.jpg',\n",
       " '3502532814f4e87aac576034a81d5644998f22bb8753e5695d8f6b3d3604a2fa': 'http://image.xyface.com/image/c/artist-candice-bergen/candice-bergen-105545.jpg',\n",
       " '3b51170d4709ee9fe8a763512d622d333288038d1c369efc728de9d7db617194': 'http://www.contactmusic.com/pics/la/women_premiere_050908/candice_bergen_2058926.jpg',\n",
       " '65372f974225d76b025fb5b584171d8bd42ca1da028849d4a67e5c8dc9cbffc9': 'http://image.xyface.com/image/c/artist-candice-bergen/candice-bergen-105570.jpg',\n",
       " 'de3f0a80e1a71d489a62b2a2e36b1d27f10b450cd9589330eeecb728b72ea34a': 'http://www.morethings.com/fan/saturday_night_live/snl_photos/candice_bergen1987anne_boleyn04.jpg',\n",
       " '235ab9dbe8d4faf8f816a93d890d8f1a4ed908fde6291cc29c6967bbb3b7a19e': 'http://www.latenightwithjimmyfallon.com/assets_c/2011/01/CandiceBergen_350wide-thumb-350xauto-16648.jpg',\n",
       " '783225ce77459d26e7bb47213c5b0caf45819a646699fe6259e0203450b3f022': 'http://www.series-80.net/acteurs/candice-bergen/acteur_candice-bergen_5_1141998505.jpg',\n",
       " '0ce29ea763bfb1cfc9c98f40ca26d18a69ae88f4ecd7996c33df4cc112210253': 'http://i.huffpost.com/gen/1294996/thumbs/o-CANDICE-BERGEN-HORIZONTAL-570.jpg',\n",
       " '3d7ac3b840019018c16956d9d572a11ff6d212f527c6faad4256d81b186b1e1b': 'http://theateradvisorblog.com/wp-content/uploads/2012/06/candace-bergen.jpg',\n",
       " '963890ff0e529a2c526181b4df8f5894be00d07d6ce2607976f952a522bfc416': 'http://www.contactmusic.com/pics/la/women_premiere_6_050908/candice_bergen_2059344.jpg',\n",
       " '8bbc452ac0310da84d3f330784faa6fcac471126fec429d017d6a627d04187dc': 'http://images2.fanpop.com/images/photos/8100000/Candice-Bergen-candice-bergen-8194396-431-652.jpg',\n",
       " 'f8506761dcb4e536efac129ac05a7654a32d2742f1bd694071c578a8cf391d9c': 'http://3.bp.blogspot.com/-ipKMVHV3cBM/UdXv7AGV7wI/AAAAAAAAMuU/_6Jlg4MjaOE/s1600/%252BBert%252BStern%252B-%252BRaquel%252BWelch-Candice%252BBergen%252BVogue%252B1969-4.jpg',\n",
       " 'd27937b5b95724f60fee5a92937a32f1375264759561ee6fba12d9dc5e2237fd': 'http://willmckinley.files.wordpress.com/2013/12/candice-bergen.jpg',\n",
       " '4b466f34b8fe0f5c14886f1388853239d0c3cf9143623020cfbee3639f08c5e7': 'http://image.xyface.com/image/c/artist-candice-bergen/candice-bergen-105580.jpg',\n",
       " 'ffb666c23f06ca401bd3687dcbfa3eb417086699609f113d91e665ff5e2c29fe': 'http://actor-images.celebritizer.com/actor/125109/Candice-Bergen.jpg',\n",
       " '7e5d9ee79284ef46cd37e791d0f2bc2e276b3fabe1994b6aebc665439e4ec9e1': 'http://www.cbc.ca/gfx/topvideo/2014/pnp-candice-bergen-140116_lead_media_image_1.jpg',\n",
       " 'aa9b2e04218bfcf00404093e0dfec91b41dcd57189e0332e2d05f99d7828d291': 'http://4.bp.blogspot.com/-HwMjzJlp2GU/UmzSnUxNPGI/AAAAAAAAlpU/iNnzNRTk0Vw/s1600/Candice%252BBergen%252Bsimpkysassy%252B54667.jpg',\n",
       " '1ed5891cff390518c2b3b34ba04035aee5260fe8804c5b05c84ffee3131a7745': 'http://www1.pictures.zimbio.com/gi/Candace%252BBergen%252BTwentieth%252BCentury%252BFox%252BScreening%252BpwNJfhzhVO5l.jpg',\n",
       " '22c00f86b82d7df5560502c30f28a42940fdd9cb2bd3f22c0b8ae4e84a2de5da': 'http://blog.postcardgallery.net/i/pics/candice-bergen-1970.jpg',\n",
       " '9975ee2dcc786742399a1f93e778396c7ec3ecb3fd5edf6add688742905154c8': 'http://www3.pictures.zimbio.com/bg/Candice%252BBergen%252BWomen%252BLA%252BPremiere%252BlPZHWJal-hJl.jpg',\n",
       " 'e12739bdc734941b1542b892ddd3313c9d331e28039cd8c8110f6808a110fa9f': 'http://image.xyface.com/image/c/artist-candice-bergen/candice-bergen-105618.jpg',\n",
       " 'e1393e9ac0ab230b1b2dea7f217f6c79afa92c6a79175656af5d7f18c5540755': 'http://images5.fanpop.com/image/photos/25400000/The-Romantics-candice-bergen-25431818-720-540.jpg',\n",
       " 'c83c9a31adf4b4d9c96225abfff929fafdce6719ca3bee0f9058a0be6a957fe6': 'http://images4.fanpop.com/image/photos/15800000/Candy-__-candice-bergen-15810675-343-500.jpg',\n",
       " 'fbb26cd20f3bd296c902a7e351d76accbc73524aa83d63507f9d8966ab1a7eef': 'http://www.contactmusic.com/pics/ld/TV_hall_of_fame_induction_210110/candice_bergen_2717685.jpg',\n",
       " '73d3d8751da87f2536ce491d3b8530ee3156bc73f379e5b72b27cc661ba80292': 'http://iv1.lisimg.com/image/6019090/600full-candice-bergen.jpg',\n",
       " '45fb91dfca3983e56b8829ad3bf26a370585cdd0f278ede4d504533873919079': 'http://images2.fanpop.com/images/photos/8100000/Candice-Bergen-Boston-Legal-screencaps-candice-bergen-8194210-624-352.jpg',\n",
       " 'c484c5f28411c54d982201d9e83523b4a7d3bed55fe213fc61a8f5503ae5756e': 'http://i.huffpost.com/gen/973345/thumbs/r-CANDICE-BERGEN-large570.jpg',\n",
       " '9e58a3d3e01703621de7c02f9c327986e336823949194d3605894fa7dfbebcac': 'http://img.youtube.com/vi/oOyEXrL7M7Y/hqdefault.jpg',\n",
       " '1431ee41643c92f2c6bdf494f44511b92e73d12e318f50710d632429501491eb': 'http://static4.wikia.nocookie.net/__cb20120418205709/disney/images/f/f1/Neve_Campbell.jpg',\n",
       " 'fd5f42c8246a5222ea6a4f18e985c5b7be06f9b3330e0ea7eb2206579680a010': 'http://ucesy-sk.happyhair.sk/celebrity_img/campbell1m111.jpg',\n",
       " '80fef93b64d6ac3793b79e893ec0ca5b5b15837622583c93c36f5b00668a837e': 'http://www.nndb.com/people/749/000025674/neve3-red.jpg',\n",
       " '523c00c4c6982eeb1aa9b5cf6de932ca1f3dd0d2f058dbcd06ca90f38b8dcbca': 'http://images4.fanpop.com/image/photos/20100000/Neve-Campbell-neve-campbell-20155699-1685-2560.jpg',\n",
       " '34281b4112fc8bcf536862f594dbfb37bd3cd1282ad64a8306b5893b2ad14311': 'http://www.theplace2.ru/archive/neve_campbell/img/Neve_Campbell_Inglou.jpg',\n",
       " '1c8970bd343edac548379a031343956c66de1c4df8c4a2ce7c2d91182fa59af5': 'http://images.fanpop.com/images/image_uploads/Neve-Campbell-neve-campbell-225500_1600_1200.jpg',\n",
       " '61c68d0cd2a0816293daa7a79d0e42ac16ce42ec1137f8d951a43eb9811c612e': 'http://images.fanpop.com/images/image_uploads/Neve-Campbell-neve-campbell-225478_1024_768.jpg',\n",
       " '4b8179e7b8b0b385a73581ed85946c45bca07a495a9338daf9214f6de12527a2': 'http://4.bp.blogspot.com/-Q_oIryvpc4Y/T0EL4ZkvlqI/AAAAAAAAMgQ/GOTZh5prdyk/s1600/Neve-Campbell%252B12.jpg',\n",
       " 'b1d3d69ac27d5337b64077711fffab733a2ace3724086f37e6d6e811da7c38a6': 'http://numbersbykrista.files.wordpress.com/2011/08/nevecampbellredlipstick.jpg',\n",
       " '6286ccfebe913f5c9abf489649032ffd897bcdf1dcd513d98e1cb59d9eabd07e': 'http://hairstyles.thehairstyler.com/hairstyle_views/front_view_images/942/original/2045_Neve-Campbell.jpg',\n",
       " 'f0a06571bfe948668b0d6dd7afd9e502069b9302b52a2dcef88d01e51cd55ed8': 'http://images.contactmusic.com/newsimages/neve_campbell_1211792.jpg',\n",
       " 'eb8495006bac51322105286b3caf8039a241d63bf8391cb35cbbd51e0b46b193': 'http://thebaubshow.files.wordpress.com/2011/10/neve-campbell-128-08.jpg',\n",
       " '913a18a1b8e3acf57cfe924632e3516a59f1fb9ca129746f9a656cb78fdb1695': 'http://25.media.tumblr.com/tumblr_ld6kh0jLGc1qb6yqdo1_500.jpg',\n",
       " '2c7f77d73a263ada1dbebde4e4f51df2897dd78189139418c94be14f60d88859': 'http://images5.fanpop.com/image/photos/32000000/Rankin-Photoshoot-neve-campbell-32015842-2110-2560.jpg',\n",
       " 'a5d38c7553d2941abd9f575f24a778db53cde3ac2be6d084cc1b451d3e1ae723': 'http://images4.fanpop.com/image/photos/20100000/Neve-Campbell-neve-campbell-20156312-1638-2560.jpg',\n",
       " '43a9168b6e829f836c679af55899c4a5b7d9dc483842fdd201ebd36e0b9ac468': 'http://www.1920x1200.net/posts/wp-content/uploads/2009/04/neve_campbell_1920_1200_apr102009.jpg',\n",
       " '502519768054efe64c49c56dd10b0a61e8a279bb89149f7ee6a6bbf01c58bc43': 'http://images.fanpop.com/images/image_uploads/Magazine-Covers-neve-campbell-221581_1312_1640.jpg',\n",
       " '854427199f9c3e64fd522583cda40d7a1f729cc5e7f4d235774cec65aa7ec5c4': 'http://images.fanpop.com/images/image_uploads/Neve-Campbell-neve-campbell-225382_1280_800.jpg',\n",
       " '1eb83b732eda87d05d023171989e56bcbd2d1e964cf5b79be1cc88ee8274411a': 'http://images6.fanpop.com/image/photos/34200000/Matt-Holyoaks-Photoshoot-neve-campbell-34267737-3736-4623.jpg',\n",
       " '3fad34b23b8c590f6ecfa46528c06fb7c050340ff571c6b30f4b2f758f02e136': 'http://images5.fanpop.com/image/photos/32000000/3rd-Annual-Ten-Fashion-Show-neve-campbell-32015263-1400-2093.jpg',\n",
       " '7f973473337ea4e52202993ef2318267380128ff909dbddc47ecd93f72d4131b': 'http://www.digitalminx.com/photos/actresses/c/campbell_neve/campbell0002.jpg',\n",
       " 'd1d67a0a36a963fafe7b423318da302f3f64ca1a699f152a8bae70ea59cca5ee': 'http://images6.fanpop.com/image/photos/34200000/Neve-Campbell-neve-campbell-34267911-479-600.jpg',\n",
       " '5a825c80709c001fd58546e489d7c25de1799d82c6b3058bdcac391ca2313d59': 'http://iv1.lisimg.com/image/433232/600full-neve-campbell.jpg',\n",
       " 'dcc90d5f0a984aba7b2edfbd4bec6896cdef32bab43838dea1c83e8226045165': 'http://images6.fanpop.com/image/photos/34200000/Neve-Campbell-neve-campbell-34267912-480-600.jpg',\n",
       " '55b997cac3a6a9b09dcbe6411b0e1e2d4b414c98570bcb742f87de55ebee0a2f': 'http://images6.fanpop.com/image/photos/34200000/Neve-Campbell-neve-campbell-34267880-1500-1189.jpg',\n",
       " '80f68f7b11058b3a542889a6a73172daed47550f756c375e872daaf77e13ecb4': 'http://www.exposay.com/celebrity-photos/neve-campbell-showtime-tca-press-tour-party-arrivals-wiHQYz.jpg',\n",
       " '1b99a9bce6433b75d8d035f41710fca010114a344486adef7f04f03c45b87336': 'http://www.nabou.com/celebrities/neve_campbell/photo_galleries/favorite_photos/neve_campbell_photo_19.jpg',\n",
       " 'e840a187ab83def380158c68e2b6e496bf9a80a37226e42dd56e83450af07e04': 'http://www.1920x1200.net/posts/wp-content/uploads/2009/03/neve_campbell_1920_1200_mar032009.jpg',\n",
       " '5e6dd9e89be33a15adcde5e33b276cff6472d18f6a5da7aa14e4ef7bf82bbf99': 'http://images5.fanpop.com/image/photos/32000000/Omar-Sharif-Backgammon-Tournament-neve-campbell-32015208-1707-2560.jpg',\n",
       " 'dbfad5c062d00725ed590c97e29578f6e12f5db1bc074a35efb0aee93f27318b': 'http://images5.fanpop.com/image/photos/32000000/Barry-Hollywood-photoshoot-for-FHM-neve-campbell-32015239-1987-2560.jpg',\n",
       " 'e59573022f95ae0976111506cbde267d80b20eec5b180af9e0cd424926f9ec15': 'http://images5.fanpop.com/image/photos/32000000/Rankin-Photoshoot-neve-campbell-32015807-2087-2560.jpg',\n",
       " 'd8e52391c5766f36206ba9482bbb1477e6110b85cb36e83c62b3974edf4d949a': 'http://my-autographs.de/images/Neve_Campbell.jpg',\n",
       " 'a6f612d89dd6aebfd0c87ccd37bf8db872d802037d6a9e776228d4ccb14680e2': 'http://images5.fanpop.com/image/photos/32000000/Naomi-Kaltman-photoshoot-neve-campbell-32016013-1200-1645.jpg',\n",
       " '83f308cca48c87a1c25a3da675b1f9f00562e65e3ea7741f451507c8e4c201a3': 'http://www.vidiot.com/Po5/images/Po5-NeveCampbell-1.jpg',\n",
       " '7173e7181419f094888d72e9ed9a54b9528948cfa805b38536b6a2a51d11d9ac': 'http://cdn01.cdn.justjared.com/wp-content/uploads/2011/04/neve-marilyn/neve-campbell-marilyn-denis-show-01.jpg',\n",
       " '4a515b45129419ebe570822f34583f0257560996d098d818831fc94afa98af62': 'http://iv1.lisimg.com/image/1892691/600full-neve-campbell.jpg',\n",
       " 'd5b47ae933f6a1976834411b40a974f5174df6133c72b5cebc5b12ba4f5fb337': 'http://images.fanpop.com/images/image_uploads/Neve-Campbell-neve-campbell-225499_1024_768.jpg',\n",
       " '73d42f40d6f36140ee6fa7d2db3bd7a439791bedd6eb86ca1afc5a2510f222fb': 'http://images6.fanpop.com/image/photos/34200000/Neve-Campbell-neve-campbell-34267909-487-600.jpg',\n",
       " '640e542b5111db9682d492686b09c2debdd6e9d5f50574dcfbca4d2bcc622f4a': 'http://iv1.lisimg.com/image/1111778/600full-neve-campbell.jpg',\n",
       " '168aca1dfbee91ca613b2d5a6aca24dd3f1ae079eee037e8f16decf612b787d3': 'http://images4.fanpop.com/image/photos/20100000/Neve-Campbell-neve-campbell-20156343-2045-2560.jpg',\n",
       " '6ec7c628082bcc0aa1d26d711e48ab5eacbf01ee8b0aad6e3abad817dee3a8d1': 'http://www.topnews.in/files/images/Neve-Campbell4.jpg',\n",
       " '6226595466aab829cf04d0d0b96cd9c00515380e235121acb3e081e8b6f24821': 'http://images6.fanpop.com/image/photos/34200000/Neve-Campbell-neve-campbell-34267937-488-600.jpg',\n",
       " '9cc398df7691f174f7ac5146fba63d20df0342429a976d041d61a244389ecf8e': 'http://www.therichest.com/wp-content/uploads/Neve-Campbell.jpg',\n",
       " '7dcb60c2ac1f5fce04e52674b8199975892bbedddbece8c91a5660abd3c6d369': 'http://totallydriventv.files.wordpress.com/2012/06/neve-campbell-0910.jpg',\n",
       " '5f2c7cbf57c29c9307a717eb1bb851ee143c3ece6f7556c342a231e703768af4': 'http://images5.fanpop.com/image/photos/32000000/3rd-Annual-Ten-Fashion-Show-neve-campbell-32015285-1400-1997.jpg',\n",
       " '4895538b170db4ad19df653ba4cb895985e4972eeaa7b9fe55bc9fda2e8c54d9': 'http://chockblock.files.wordpress.com/2009/08/neve-campbell-20041004-11350.jpg',\n",
       " 'fc2fcae6f0720423e5143ee9da6f6008522fdbb688459e9c1e283e7ac6b2f0d9': 'http://images4.fanpop.com/image/photos/20100000/Neve-Campbell-neve-campbell-20155799-1888-2560.jpg',\n",
       " '576c925c0f4f03657a96e487fd732df74726e51a23df3903e487a954a43e0caa': 'http://images.fanpop.com/images/image_uploads/Neve-Campbell-neve-campbell-225475_1024_768.jpg',\n",
       " 'd58012dbb4ac32c13c7a44315973eb05727d2551ce07d93631118df70537ed99': 'http://images.fanpop.com/images/image_uploads/Neve-Campbell-neve-campbell-225426_1280_800.jpg',\n",
       " '23cec19a7eef48af958d1276f76d4b1a2a7622ab624be22f65c775d1cdcd5a78': 'http://images.fanpop.com/images/image_uploads/Neve-Campbell-neve-campbell-225376_1280_800.jpg',\n",
       " 'af8dce9b083e5a3f76ea485097d1b5c2b8632491d9e3ad3bc95172c9bde26924': 'http://zombiegrrlz.com/wp-content/uploads/2010/02/campbell70.jpg',\n",
       " 'db47476ae3527818f2214b07a3947aef8654c49866161e1a791c982b70c28d5b': 'http://images.fanpop.com/images/image_uploads/Neve-Campbell-neve-campbell-225509_1280_800.jpg',\n",
       " '5d989b9a1e14faf120edeb56b1283b042c60fcfda42424aa50c40355e8b27d84': 'http://www.bestcelebwallpapers.com/wallpapers/20455-neve-campbell-1024x768.jpg',\n",
       " '1e9c247d534310b2c6e3e3b57212f63c50bed37ad91cb7a6d7c91d2c388d49ff': 'http://3.bp.blogspot.com/-7qbROeLtYNk/UB1GtNPlAeI/AAAAAAAADFA/4tsUwt6Rj0g/s1600/Neve-Campbell-Mii.jpg',\n",
       " '5d62cc0266fd38f27c52ab1d305ebb8b7b12b502936259a2e2e515a4a92723fc': 'http://www.nabou.com/celebrities/neve_campbell/photo_galleries/miscellaneous_photos/neve_campbell_picture_1.jpg',\n",
       " 'da02ebedcd5ce3cf719f6293a8cd359c36839e2ce3a8c96d2822a6cd4f6eeee3': 'http://images4.fanpop.com/image/photos/20100000/Neve-Campbell-neve-campbell-20156010-2530-2560.jpg',\n",
       " '00c0ff58189aa725401f1b08ef25fcd2e7271afa3749ec2ec091955eaac0f127': 'http://www.nabou.com/celebrities/neve_campbell/wallpaper/images/neve_campbell_8_1024x768.jpg',\n",
       " '62e1672345e1702d4d26481db21f6a0e019f5de24bb016405956b81cd11aa412': 'http://images6.fanpop.com/image/photos/34200000/Neve-Campbell-neve-campbell-34267832-1233-1500.jpg',\n",
       " '7f656af3a4242e59507747be9837b6f3c98ef8b53cf3ca8f402b1e91697a2309': 'http://www1.pictures.zimbio.com/fp/Neve%252BCampbell%252BScream%252B4%252BWorld%252BPremiere%252BArrivals%252BmZDKMTVAafvl.jpg',\n",
       " '3fc22293e89a8bb666d0619582324de1fae01aa21164b3717ff3bb783ae899f8': 'http://fcbahistory.pbworks.com/w/file/fetch/34850699/Neve-Campbell-08.jpg',\n",
       " '0327ed48aac35cc06ab411409d7f00bf76df2e1faaf776643e96f19cfea9ea8b': 'http://img1.liveinternet.ru/images/attach/c/0/38/632/38632418_1232813457_Neve_CampbellSPX010858.jpg',\n",
       " '438adf07949ef81d98c010c3aa4b48aa5d304c2356e1a65d05a40e8739660e49': 'http://3.bp.blogspot.com/-J7wrTzTxL38/TarxFL4acwI/AAAAAAAAFRs/T6b4x7Bvk4k/s1600/936full-neve-campbell.jpg',\n",
       " 'c5516570117238ab448cfec02622db7484eeb4eb9654a48002833af8e7d15fc1': 'http://images5.fanpop.com/image/photos/32000000/The-Cartier-International-Polo-Day-neve-campbell-32015306-1306-2200.jpg',\n",
       " '6df885199b60ce3a4bc343a4740f42c9baa9f3c5fd2dfaee683a01fe4570e141': 'http://www.freewallpapershq.com/wallpapers/Neve_Campbell_4522.jpg',\n",
       " '889ac4627c3f92f8e301eed6238c019a1c8038dd2cc98e66603e073b25c3aebf': 'http://images6.fanpop.com/image/photos/34200000/Neve-Campbell-neve-campbell-34267890-1230-1500.jpg',\n",
       " 'd79acc28889a1032dc59852e21f698366f60d333f27459ee8d25b4d512fbc957': 'http://images.fanpop.com/images/image_uploads/Neve-Campbell-neve-campbell-712887_1280_1024.jpg',\n",
       " '116aa754183d5bc08d77ddd1ed865a06cc1a949c94905bbc4e0b54b7bc5d4798': 'http://www.collider.com/uploads/imageGallery/Neve_Campbell/neve_campbell_image__2_.jpg',\n",
       " 'c73565191f92b637a499c8990b0c7d14e5bd7d17a14bb5845a327b7012a85038': 'http://iv1.lisimg.com/image/1802053/600full-neve-campbell.jpg',\n",
       " '46d1a37c4d9fdf84a84604295a5776681abda47a8557af10197d2a63c89959a4': 'http://www.nabou.com/celebrities/neve_campbell/wallpaper/images/neve_campbell_6_1024x768.jpg',\n",
       " '2fca439c97616c2281aed3415ddd110d59d3a926a99bdcc2bb0a618ca80cffc3': 'http://images.askmen.com/galleries/actress/neve-campbell/pictures/neve-campbell-picture-1.jpg',\n",
       " '02a8bdfe6da562a0aa3d5486d3517fd4ffa229467c1e979d8d19f32174b83d99': 'http://www4.pictures.zimbio.com/pc/Neve%252BCampbell%252BBAFTA%252BAfterparty%252BLondon%252BGrosvenor%252BX7TnpDuG_oul.jpg',\n",
       " '59ac3d8c6a54c6861e629bddee4261bb3739c31120ee834655e19209df24d041': 'http://static.tvfanatic.com/files/neve-campbell-pic_404x598.jpg',\n",
       " '53084c41f75b4a58ee7dc801f7d2855d0e298ff859023126f7e8890b6c8c7ebc': 'http://images.fanpop.com/images/image_uploads/Neve-Campbell-neve-campbell-225522_1280_800.jpg',\n",
       " 'aa82f73bfd02c962f98b0f9c5642ac94b116aecd51b38531b1e30d395c4f486c': 'http://images4.fanpop.com/image/photos/20100000/Neve-Campbell-neve-campbell-20156353-2064-2560.jpg',\n",
       " '9d2f6d0bb71c330bba49c3729553f43d67c8f793363c0a0f9550457de6095364': 'http://images6.fanpop.com/image/photos/34200000/Neve-Campbell-neve-campbell-34267873-1232-1500.jpg',\n",
       " '8b1a4e4fbb23bec97e6739225900710ecc2a8c37c36d97f5aed873d874f813d8': 'http://images.fanpop.com/images/image_uploads/Neve-Campbell-neve-campbell-225507_1600_1200.jpg',\n",
       " '1e85b7b19f1e089b628d9fbccbc611c98d057616790fa42dc4d11aa83033c732': 'http://images6.fanpop.com/image/photos/34200000/Neve-Campbell-neve-campbell-34267824-1234-1500.jpg',\n",
       " '9041f3c378678d1eaf82bc92732dbc1b15e319c58f1d0e86b702e6b03014c5dc': 'http://www.nabou.com/celebrities/neve_campbell/photo_galleries/miscellaneous_photos/neve_campbell_picture_4.jpg',\n",
       " 'd2963cd029becbbb49d02f3b9694704e9625710b5b42e1b2f44d148c71e67f73': 'http://images.fanpop.com/images/image_uploads/Neve-Campbell-neve-campbell-225401_1280_800.jpg',\n",
       " '51c0267d3ebed449efa00b6888668419b1ef0e3eaa60b6bedd32010df003d0c0': 'http://images6.fanpop.com/image/photos/34200000/Neve-Campbell-neve-campbell-34267841-1203-1500.jpg',\n",
       " '8ab1c37c035791ee5ebd56cfb063bb5142e8ed707d585780f0a85dca44578636': 'http://4.bp.blogspot.com/_kx5e3GvgzpA/TUAif-6yQkI/AAAAAAAABsQ/Xq8qnYDhJmE/s1600/Neve_Campbell_4521.jpg',\n",
       " '5d6436e74433692b01fcd86fd80f46c2ea80719c110b1c0a2d205fb6c963ad54': 'http://www.nabou.com/celebrities/neve_campbell/photo_galleries/in_print_photos/neve_campbell_print_40.jpg',\n",
       " '307c412dfd88cd4b968eb7dd916cf9794ce6a30098b8eeaef9f7dbe47df5f707': 'http://images.fanpop.com/images/image_uploads/Neve-Campbell-neve-campbell-225506_1600_1200.jpg',\n",
       " '2a768c50d28cce35e7369c3e99f6856eb76f2fdde15f6fc620a9cfa8bb10f190': 'http://images6.fanpop.com/image/photos/34200000/Neve-Campbell-neve-campbell-34267927-489-600.jpg',\n",
       " '9a6818cae88e304441dade2cd295487d3e25d26939af1e8f2221604f47f90ca6': 'http://images6.fanpop.com/image/photos/34200000/Neve-Campbell-neve-campbell-34267828-1222-1500.jpg',\n",
       " '8b09b36bb393634853297864f4b6ec62d0fb40927db8d3ffa956efb97f947138': 'http://images6.fanpop.com/image/photos/34200000/Neve-Campbell-neve-campbell-34267942-493-600.jpg',\n",
       " '07df07acb0b48c8853692fc479a7541d9af5984b58d1407e65e26e9660fd8b47': 'http://www.1920x1200.net/posts/wp-content/uploads/2009/12/neve_campbell_1920_1200_dec112009.jpg',\n",
       " '5fde2f453bd715a31078c53613386ab884a609b75d53d7ccfebbbe8c666b8858': 'http://images4.fanpop.com/image/photos/20100000/Neve-Campbell-neve-campbell-20155667-1639-2560.jpg',\n",
       " '2e9e1aa11c6ad2950b02c2788b3677dbc5616c7464d0fffaa9e939bfc30398b7': 'http://images5.fanpop.com/image/photos/32000000/TAG-Heuer-British-Formula-1-Photographs-Exhibition-party-in-London-neve-campbell-32015483-1487-2560.jpg',\n",
       " '69a193a1369196b48477f0f44e9b8eae12892c5e0346174a43cae4510c90cab7': 'http://images4.fanpop.com/image/photos/20100000/Neve-Campbell-neve-campbell-20155900-2541-2560.jpg',\n",
       " 'ac69c31849f31defb62e6c3b33d86477c6192c9eb0a1402dca21ee24b29766dc': 'http://images5.fanpop.com/image/photos/32000000/Barry-Hollywood-photoshoot-for-FHM-neve-campbell-32015236-2111-2560.jpg',\n",
       " '20bb70c41171759ca55164f379b2acaf2b51250991ce15f97b13c590c8d45e68': 'http://www.1920x1200.net/posts/wp-content/uploads/2010/11/neve_campbell_1920_1200_nov212010.jpg',\n",
       " '7c3643c38bc56a98f23759b43db506e8d977cf084cf4027a6dbd4667c388e3d2': 'http://images6.fanpop.com/image/photos/34200000/Neve-Campbell-neve-campbell-34267920-490-600.jpg',\n",
       " '824657d63224f474246acbc7412e60298facec8db3416d188cb6b557e5aeadf9': 'http://images6.fanpop.com/image/photos/34200000/Neve-Campbell-neve-campbell-34267863-1214-1500.jpg',\n",
       " 'dece3d50f1d2b04640d574cd0d4643aaa010c00746e48dc032967cb9325ab895': 'http://en.gtwallpaper.com/fondecran/neve_campbell/neve_campbell_06.jpg',\n",
       " 'c56b422132dcf05c307645596602e79e4f4ab39c335650767ebf11b33dd8b131': 'http://images.fanpop.com/images/image_uploads/Neve-Campbell-neve-campbell-225476_1024_768.jpg',\n",
       " 'e68ea7598eda6d312c3a686f6a583e0ca1070f599d1d8306d0d3bf74f6e0fc02': 'http://images6.fanpop.com/image/photos/34200000/Neve-Campbell-neve-campbell-34267923-492-600.jpg',\n",
       " '967996ec24a7d36753dba8d2770e04eb1d3e8e268f6723fe2e66d695b7740228': 'http://images6.fanpop.com/image/photos/34200000/Neve-Campbell-neve-campbell-34267940-487-600.jpg',\n",
       " '59bb80d587b316ab62bc929c4d330066b92a77ea668ff8a0fab90c4869eb1ecf': 'http://i.huffpost.com/gen/886292/thumbs/r-NEVE-CAMPBELL-large570.jpg',\n",
       " 'aeb9ae104d230be659a6e54f08881b3127e96c5db9aa9e7740fb77d9cbef5da6': 'http://theaterofmine.files.wordpress.com/2009/06/neve-campbell-01.jpg',\n",
       " 'aa47ed5dc10d81ac26f8834650c887038bdc463ed361a676a10b057dd51bfb58': 'http://www3.pictures.zimbio.com/pc/Neve%252BCampbell%252BHollywood%252BPremiere%252BScream%252B4%252BPBqAAuS1KRJl.jpg',\n",
       " '44d33d015e200da9627478fb55743753ca948c24d07a116b72b5e2ad7ada13c0': 'http://www.myconfinedspace.com/wp-content/uploads/tdomf/64919/neve-campbell-16.jpg',\n",
       " 'dbb6b8ee8bbd2811cbad22149b9ac86c974e3d593c39a8a21b306978f9864240': 'http://en.gtwallpaper.com/fondecran/neve_campbell/neve_campbell_01.jpg',\n",
       " '8a07c7edd765d8a6810416587f1001df0a38fcd945b8760ec51def3f23f2417c': 'http://wallpoper.com/images/00/20/53/35/neve-campbell_00205335.jpg',\n",
       " '802851fd3e83148ec4f227dbd98158b04d99314dc3d657de9245516e0ac3efc2': 'http://ennvy.com/wp-content/uploads/Neve-Campbell-Hairstyle-Photos.jpg',\n",
       " '9b38e43461ba18322fafd8e9716bc43e6b84ee8f983a6b0e673f05e26b857c5e': 'http://images5.fanpop.com/image/photos/25500000/Neve-Campbell-neve-campbell-25574773-1709-2560.jpg',\n",
       " 'c6b61400e92dd0ac53c020e0117701fd45d5fa56e2ac65206e2c108d77143d58': 'http://www.exposay.com/celebrity-photos/neve-campbell-the-bourne-ultimatum-uk-premiere-in-leicester-square-0jfEbt.jpg',\n",
       " '905b81439c350917993473ff1c4691936aff4ab3dc89082d40b5fd0f6cafb3f6': 'http://images4.fanpop.com/image/photos/20100000/Neve-Campbell-neve-campbell-20155966-2544-2560.jpg',\n",
       " '67cbc2201d6c099f464ef743cb1c90115d8d5a4c1566ed02c9f73275633c5fa3': 'http://images.tvfanatic.com/iu/t_xlarge_p/v1380021841/attachment/neve-campbell-pic.jpg',\n",
       " 'bbbe512eb2ff50a80193b8ec25e242d2406a687b8b1c07c07b2f4c6373d7ca2d': 'http://www.celebrific.com/wp-content/uploads/2009/09/neve-campbell-230x300.jpg',\n",
       " 'cd0141fce727d6ffb4d17a99a9020256bf3413ee3906c64203778b2e84bd2715': 'http://images.fanpop.com/images/image_uploads/Neve-Campbell-neve-campbell-225321_1280_800.jpg',\n",
       " '62f8b54cda9b0cdab832d4db9df6f85aeaf81de6e7c1b08209298461d2a5ef96': 'http://thumbs.dreamstime.com/z/danny-de-vito-debi-mazar-jamie-lee-curtis-neve-campbell-feb-actress-world-premiere-los-angeles-drowning-mona-which-36047377.jpg',\n",
       " '413e087b15273e150a8ba1348796f1482b20783e51244918eab48ecf279a6246': 'http://topnews.in/files/images/Neve-Campbell.jpg',\n",
       " '64911381675c84fb1d934720f4a8fe45e1477f763c4754850fa332d7e6eab1d7': 'http://www.contactmusic.com/pics/le/bafta_arrivals_14_140211/neve_campbell_3207655.jpg',\n",
       " 'fe0f8be6248da05f31bb81bc43a0de1eaf3771ac0be50882d1fa0dad1585fc32': 'http://www.perfectlocks.com/wordpress/wp-content/uploads/2010/09/neve-campbell.jpg',\n",
       " '6df19966f25079fa9babbbf6594dd4744025d16f9502ae9d80a0905883dca687': 'http://4.bp.blogspot.com/-_BqgpqoKQgU/UKIbSwKIm6I/AAAAAAAADTk/e9PPLYv-cys/s1600/neve-campbell-hair.jpg',\n",
       " '050ec8e1d825a3a3cf4e74f94429976e901efe03cf86e67c26d4aabbcf7a67c6': 'http://www.1920x1200.net/posts/wp-content/uploads/2010/10/neve_campbell_1920_1200_oct302010.jpg',\n",
       " '9d78a74a5ef19bc5af56001675f42dc456e67b363158eaaccaae563d4df810a5': 'http://www.jigneshbapna.com/wp-content/uploads/2011/05/neve-campbell.jpg',\n",
       " '667e280023c959f215194b446d9b3c074057d360738a38bbd76c6ba7bda34e7f': 'http://www.nabou.com/celebrities/neve_campbell/wallpaper/images/neve_campbell_5_1024x768.jpg',\n",
       " 'f168f6784df372e4dbf01762b38a0553e0b8ecbe3c7c9f87d37cff64225d468e': 'http://www.contactmusic.com/pics/le/neve_campbell_310311/neve-campbell_5630720.jpg',\n",
       " '39c8ae5aac73bce9a898b9f2ff7c7c4da323a6ccc923b5fd57490c241700f27a': 'http://www.contactmusic.com/pics/le/bafta_awards_press_room_130211/neve_campbell_3206288.jpg',\n",
       " '6b4980c676bbe85709259390ccfe9ee51f09065823b2512b2a0fa16e223a3048': 'http://images5.fanpop.com/image/photos/25500000/Neve-Campbell-neve-campbell-25574644-334-500.jpg',\n",
       " '7136167b37e2b39417023ed7c55c1449567ef6df0bbae21a97d8da904cd07ee7': 'http://www.butterflyeyes.com/media/faces/neve-campbell.jpg',\n",
       " 'ac10223301e1a3cb7bdff9a21d4c7e463ed4ef8f24a4aff3c51d2237d9469d0f': 'http://images5.fanpop.com/image/photos/32000000/Rankin-Photoshoot-neve-campbell-32015782-2102-2560.jpg',\n",
       " '292e0caa09070c14f6f153f763ac34275b12af86652df29f070cb07dcfa3c664': 'http://3.bp.blogspot.com/-7-cszaenO7k/T583sJq3aPI/AAAAAAAAFSg/wd-SxUCGBz8/s1600/neve-campbell-1995-dating.jpg',\n",
       " '7851ccc26eac10badfaf07ea39e433a19a0d7dbb5a8a65f166aefce1887cf50b': 'http://media.salon.com/2001/05/neve_campbell-293x307.jpg',\n",
       " '2d0f97c941fe58573ce419304c20d822f4e0db57d221614c7bea9b3232e304eb': 'http://images4.fanpop.com/image/photos/20100000/Neve-Campbell-neve-campbell-20156300-2111-2560.jpg',\n",
       " '757783affeadf7d93daedbb941b868766136a011314e2cedefd0e4c768978e46': 'http://static0.therichestimages.com/cdn/288/357/90/c/wp-content/uploads/Neve-Campbell1.jpg',\n",
       " 'a165772ba0d0532a95f4ea825e61ea64a1cee50b0bd131965113c8e385c9f18e': 'http://i.dailymail.co.uk/i/pix/2012/10/25/article-2223274-15AF8553000005DC-556_634x797.jpg',\n",
       " '952c685f9b294560012dd2c1043117423fa64f0741736fcb84a62499d4929566': 'http://i5.photobucket.com/albums/y186/burrakan/autografos/actrices/NeveCampbell.jpg',\n",
       " 'e8a92ec874d7b25937fa466940b05aca8f59aeaa51dabd64303032bef5a9b3c6': 'http://www.hellomagazine.com/imagenes/profiles//neve-campbell/5331-neve-campbell.jpg',\n",
       " 'a6a556a38e2332e314877dfe15655ca68304207f918e80632ba8803a28520fa2': 'http://liveforfilms.files.wordpress.com/2009/09/neve_campbell.jpg',\n",
       " '5e03bdc7d9d549ea61a9c6452e6f65b829ad67c4d5f432c500764844aada9524': 'http://wallpapersus.com/wallpapers/2012/01/neve-campbell-hollywood-films-480x320.jpg',\n",
       " 'd20e0fbaf7903c33f30a0cdf651176c1c7f4437d6064f8500ada32c686de74f2': 'http://www.bestcelebwallpapers.com/wallpapers/22348-neve-campbell-1400x1050.jpg',\n",
       " 'c17f6fdd6e2a27a2561c3214876e4720ad2ef62bfa387cda4d98b614dca8b455': 'http://farm1.staticflickr.com/92/210977774_70d892ab6b_o.jpg',\n",
       " '61920761e42a9106c69de7b91d1118a1fe32fe29c311a90d971c65384fb1ae47': 'http://wallpapersus.com/wallpapers/2012/11/Neve-Campbell-Actress-768x1024.jpg',\n",
       " 'bfb52ffce7fc823f9f6bf920f2caafc7b454622dc0b2a662c6223f8d1e0c9095': 'http://www.medpagetoday.com/images/blogMedia/celebritydiagnosis/Kristin_Chenoweth.jpg',\n",
       " '56894d813b61cc31a8241b379dcae3489bb7c8e700001817c5203922d2b45fcc': 'http://www.blogcdn.com/www.luxist.com/media/2010/01/95807530.jpg',\n",
       " 'c8e337bee9be0b581ad81776fa20232006aa86c52182ac9bc5b9292606d3d109': 'http://cdn01.cdn.justjared.com/wp-content/uploads/2008/02/chenoweth-ocsars/krisitn-chenoweth-oscars-2008-13.jpg',\n",
       " 'cf17156fd1481a4585b0677f3102ce6f930150a3eba3f2f80fb76b5f6ba84abc': 'http://www.royalcaribbeanblog.com/sites/default/files/kristen-chenoweth.jpg',\n",
       " '797b7f2acc30bbf44d13fa97a7354a1554fbe037e82108cfaabccad61264ec81': 'http://images.askmen.com/galleries/singer/kristin-chenoweth/pictures/kristin-chenoweth-picture-2.jpg',\n",
       " 'db7709e6f2ea6f46786d9fe38704d7a28beebdfffe86d12e92f6f04c25533ec8': 'http://images1.fanpop.com/images/photos/1300000/The-Apple-Tree-Promo-kristin-chenoweth-1379978-1920-2560.jpg',\n",
       " '950628519d3314c28694dac2651c9297fff1efe649fd9c0b58bdd3ce473c2567': 'http://ucesy-sk.happyhair.sk/celebrity_img/chenoweth1sep1508.jpg',\n",
       " 'ccfc68cb9c7bf1fb8f7507f247f2dc27468354e270820fc22d531f5594a52211': 'http://ucesy-sk.happyhair.sk/celebrity_img/chenoweth1sep908.jpg',\n",
       " '797505aee95e608128c4dc2f57e31187e2c9e883c098836228190892ad61ba1c': 'http://images.askmen.com/galleries/singer/kristin-chenoweth/pictures/kristin-chenoweth-picture-1.jpg',\n",
       " 'ef7808a0e27e6bf6f436fbfdea36807254a8b9603811ef5fe11f55051f4e37ce': 'http://a.abcnews.com/images/Social_Climber/GTY_kristen_chenoweth_jef_130823_16x9t_384.jpg',\n",
       " '4acb39a882ab231826090ae818ea4d5d9c57e129ba633689311bbfe70b56ed32': 'http://www3.pictures.zimbio.com/pc/Kristin%252BChenoweth%252BKathy%252BGriffin%252Bjokingly%252Bjostle%252BC2blJUDQwBul.jpg',\n",
       " '953048a806c8698cff85ad45408383ef8720577ad7353bde2b2d89405e207983': 'http://i.huffpost.com/gen/1026179/thumbs/o-KRISTIN-CHENOWETH-facebook.jpg',\n",
       " '04c9e831e756005c76c5e92d04f65ab2cd1f9fc33762f4bf93ac2e7aca26515c': 'http://cdn01.cdn.justjared.com/wp-content/uploads/2008/02/chenoweth-ocsars/krisitn-chenoweth-oscars-2008-06.jpg',\n",
       " '01865f85a12a1875907b8b200116c4e46990f8124ed6f0749b319015b28aff45': 'http://images1.fanpop.com/images/photos/1300000/The-Apple-Tree-Promo-kristin-chenoweth-1379979-1728-2560.jpg',\n",
       " 'cba44da11412df13656ae598607af324e494e7c362b696b902f968ac62136d05': 'http://cdn02.cdn.justjared.com/wp-content/uploads/2010/06/chenoweth-boyfriend/kristin-chenoweth-boyfriend-07.jpg',\n",
       " '8e8fb794f176a11f74e7bb4552ca091773def0b0734097f882cea187f22f0f06': 'http://cdn03.cdn.justjared.com/wp-content/uploads/2009/09/emmys-chenoweth/kristin-chenoweth-emmy-awards-2009-05.jpg',\n",
       " '18de85be20cd36466980d5ce902bf96f0c33e4333e5cc975272529d6fc05307d': 'http://www4.pictures.gi.zimbio.com/Kristin%252BChenoweth%252BSony%252BPictures%252BPremiere%252BR%252BXQqI1qxUnI1l.jpg',\n",
       " 'f14532a3b6959169e3ac453208b19c0e7638c152959cf598dc4dad4cbcbb1047': 'http://artandseek.net/wp-content/uploads/2011/11/kristin-chenoweth.jpg',\n",
       " 'eca2c40c09ed9373f11ce3bcb4c97e40e095d5e7c3f9baafd5ccc847ac0e3313': 'http://www1.pictures.zimbio.com/gi/Kristin%252BChenoweth%252BFIJI%252BWater%252BNanette%252BLepore%252BZmZCBUcRTCll.jpg',\n",
       " '7abeaefe0be0b3a374dfbd6844310ad5fd38707173607135597536a6a919ddc7': 'http://cdn03.cdn.justjared.com/wp-content/uploads/headlines/2013/10/kristin-chenoweth-debuts-new-pixie-haircut.jpg',\n",
       " 'c93d80de974e8d4b2020ed2e55e73c735f0176c358772825bfa36a6a331dd51c': 'http://caitiechristine.files.wordpress.com/2010/08/oscars-2007-kristin-chenoweth-809226_822_1222.jpg',\n",
       " '801b619d1bcd63bad94a622600e7517577b84c5f11c82566f9f50e3d3dedcbc3': 'http://cdn03.cdn.justjared.com/wp-content/uploads/2012/10/chenoweth-dog/kristin-chenoweth-dog-awards-12.jpg',\n",
       " 'f932b3dbdf2b7d010f35f3ae90f5082f17d0345c7cd8dd9d80bff0607e65c8a1': 'http://img2.timeinc.net/instyle/images/2008/emmys/092508_cheoweth_400X400.jpg',\n",
       " '5065903fddcd7a90c2058eaf098a4ddcd833194f28646381298160c410ce434b': 'http://charmcityadvisor.files.wordpress.com/2012/06/kristinchenoweth.jpg',\n",
       " 'ff047c51ef2f6e20c17c45b17bfe734943a381999004c6461a240fa2cd2ff156': 'http://fc05.deviantart.net/fs71/f/2012/291/e/e/kristin_chenoweth_by_darosigu-d5i7a7j.jpg',\n",
       " '6cb0d02cf12d253a17a90df4a3550d98169c534f43eda3524beaba96da6ed9e4': 'http://cdn04.cdn.justjared.com/wp-content/uploads/2012/10/chenoweth-dog/kristin-chenoweth-dog-awards-07.jpg',\n",
       " 'a24e6f44f61cf821af1db8a0c431b0ab2aaf5a19d18d22a434f360be08e8fc8c': 'http://cdn03.cdn.justjared.com/wp-content/uploads/2008/02/chenoweth-ocsars/krisitn-chenoweth-oscars-2008-12.jpg',\n",
       " '79b19c4c0305571a3ae4e43281b5160f6eb788a92122a6325243ef773e3b5680': 'http://cdn01.cdn.justjared.com/wp-content/uploads/2011/09/chenoweth-now/kristin-chenoweth-some-lessons-learned-in-stores-now-09.jpg',\n",
       " 'bd758d584742e515e021418f413b7b7aff061fbbd9ccf9b9aaf90d91cf1b1df1': 'http://i.huffpost.com/gen/992362/thumbs/o-KRISTIN-CHENOWETH-GAY-VALENTINE-facebook.jpg',\n",
       " 'f927b5d3e6e842a837293a67399caca2194669ca5b0ba56a260edbcd0dfac136': 'http://www.keysbase.com/wallpaper/kristin-chenoweth/kristin-chenoweth-88018.jpg',\n",
       " '2cb7e2f1aa095baf7659429407c1207b39dab23b8b10939de51ce3d2ef020a57': 'http://hairstyles.thehairstyler.com/hairstyle_views/left_view_images/5177/original/Kristin-Chenoweth.jpg',\n",
       " '6d859cc50e3c7ae6422027268ea04a7b0c89cda6f74b6cad2919a84ed18ac01f': 'http://cdn02.cdn.justjared.com/wp-content/uploads/2013/02/chenoweth-oscarscarpet/kristin-chenoweth-oscars-2013-red-carpet-04.jpg',\n",
       " '3fbc418133e3a71885dbcda31cdded6c8de554bf6accd931ee50c5744e6b13cd': 'http://images.teamsugar.com/files/upl0/2/20652/08_2008/kchenoweth.xxlarge.jpg',\n",
       " 'b58cf992bdeb9cd8d27ca82760c31601ed22ae9c2ba8e8cff43b73f82462480d': 'http://www.trbimg.com/img-5020255d/turbine/hc-honoree-kristin-chenoweth-not-attending-goo-001/600&',\n",
       " '4254676671c5b2d6bd41ad01bcf8cc802a068bb88291a4ef8e5d8a5a31c63532': 'http://3.bp.blogspot.com/-N7EjKrxRKWo/TuBVrn7PsII/AAAAAAAAakM/kuWcork6FCg/s1600/kristin_chenoweth_0008.jpg',\n",
       " '9d65931b76a6dd1d6788bef738e387de32ed13204a4c8b176f8ddb8d0f59717d': 'http://countrymusictattletale.com/wp-content/uploads/2011/05/kristin_chenoweth.jpg',\n",
       " '4f07d6401e530b971bc2c24ebfb19b4143bc0e15972d3adcee9ce7013ab122d1': 'http://cdn04.cdn.justjared.com/wp-content/uploads/2012/12/cheno-acas/kristin-chenoweth-scotty-mccreery-acas-2012-red-carpet-02.jpg',\n",
       " 'faa37a8d8682d897acb3357c594da501310b11849e68e75138dbb79fba582b19': 'http://images2.fanpop.com/images/photos/3200000/Ahh-My-Eyes-Are-Bleeding-kristin-chenoweth-3217530-400-300.jpg',\n",
       " '63eb7c466e210a17e16fe2dafb0303ffbdbeb439cf3630c68d6bfb4272eb4b7e': 'http://cdn02.cdn.justjared.com/wp-content/uploads/2011/07/chenoweth-bafta/kristin-chenoweth-bafta-brits-to-watch-gala-04.jpg',\n",
       " 'c26f104907ca7d6305fb292080e3796f677b212021ade7353f9e9df51febc2c1': 'http://img2-3.timeinc.net/people/i/2010/cbb/blog/kristin-chenoweth-240.jpg',\n",
       " '18b330f85966de02dcd04236319197c86b567ca0efd1d359ead1c0aa8a7b111a': 'http://cdn01.cdn.justjared.com/wp-content/uploads/2012/02/chenoweth-minkoff/kristin-chenoweth-nikki-reed-fashion-week-02.jpg',\n",
       " '6020aef5381434284ca624c4b4116ec0cef01c0d4eeb2e25f8ea0c81fedde33e': 'http://img2.timeinc.net/people/i/2011/news/110627/kristin-chenoweth-240.jpg',\n",
       " '4248a44e48b9a87c95f7628cffeb43f542104c2339a26a86123b7d53a4da3d24': 'http://www.contactmusic.com/pics/lf/drama_league_gaga_070212/kristin-chenoweth-the-2012-drama-league-gala_3715614.jpg',\n",
       " '438adae270f2e19e9725fb8fd9b8807f45c4629d31c7b4678c7604d03dece640': 'http://i460.photobucket.com/albums/qq323/mangalindo/Kristin_ChenowethI.jpg',\n",
       " '81e4eef43a2171e02c70f563a3d5ece7dfbf91206d2a62b1a366d8d1298165f5': 'http://img01.mr-static.com/photo/KristinChenoweth/KristinChenoweth-03-big.jpg',\n",
       " 'ff226158712fbd2c58d1ec713a3a738a70b2ba2669fcf4bca743ef221a99d397': 'http://hairstyles.thehairstyler.com/hairstyle_views/front_view_images/267/original/9118_Kristin-Chenoweth_copy_2.jpg',\n",
       " '7df2f1a70bb50c1cc2ded2e2cafc8dd4d6c2bdd384dd85d617a5495881c5905a': 'http://www.examiner.com/images/blog/EXID2108/images/kristin-chenoweth-ap.jpg',\n",
       " 'b0c288067b955b02f6af78bffaea246c37a3590bf9d4a322b968b0c7fdebbe78': 'http://www1.pictures.zimbio.com/gi/Kristin%252BChenoweth%252B2010%252BCreative%252BArts%252BEmmy%252BiUHGSS1pw6rl.jpg',\n",
       " '0efdeecacc2a8a64ac683716f1e54d60af58680dd0ffebcae4341048a14f038c': 'http://www.thundertreats.com/wp-content/uploads/2010/04/Kristin_Chenoweth-3.jpg',\n",
       " '582168f99a6b9a8f945152010cfa8a8e2dbf97d8fd9c62bdc2f38720648fcfce': 'http://mediad.publicbroadcasting.net/p/demowgbh/files/201312/kristin_0.png',\n",
       " '86ac19b28db659290d733acf5e8cb4c8d10eb24841ca4d1755643910584d2dae': 'http://cdn04.cdn.justjared.com/wp-content/uploads/2013/02/chenoweth-vanity/kristin-chenoweth-vanity-fair-oscars-party-2013-02.jpg',\n",
       " '7d95327fd56edc7c6edb7d75ec07663913b7ab3542aa2dab6b96770ae9a5c3a4': 'http://img2.timeinc.net/people/i/2013/stylewatch/blog/131118/kristin-chenoweth-300x400.jpg',\n",
       " '02222b60daff841bb4986aff5dc78fa5b922242034cf7e8bdb437a66158a9674': 'http://www4.pictures.zimbio.com/pc/Kristin%252BChenowith%252BKristin%252BChenoweth%252BArrives%252BWdpWnT9nWAwl.jpg',\n",
       " '67b920ec380f5b09240a705ce86e94dffdd89f2145d0de2de2110554f77b5497': 'http://cdn03.cdn.justjared.com/wp-content/uploads/2011/12/chenoweth-acas/kristin-chenoweth-acas-06.jpg',\n",
       " '377801bde4e3c497a8a21a4b4f7a05f98b6628aab4a58b4c25f42a0785f71410': 'http://3.bp.blogspot.com/-eowVfgA_Ps4/UA_xZ7BlkWI/AAAAAAAAM-I/S3zCsUPOufU/s1600/kristin-chenoweth-1379978-1920-2560.jpg',\n",
       " '382fa82f06458e74717117569c6e1d8ab4f1380de53727783ce1daacb3da6173': 'http://www.hawtcelebs.com/wp-content/uploads/2011/12/Kristin-Chenoweth-at-American-Country-Awards-in-Las-Vegas-9.jpg',\n",
       " '94bd71c01a5f6f5349c9f2530b6dfd253d01afbca64a75e1d3347ec5e595a3a6': 'http://images4.wikia.nocookie.net/__cb20120206202103/goodchristianbelles/images/f/f5/N_Kristin-Chenoweth2_51330.jpg',\n",
       " '58bf7b9d1836a78feabcebcbddbcb47fa2b13d67821e3431025f35ea5ebbb9a9': 'http://images1.fanpop.com/images/photos/1300000/The-Apple-Tree-Promo-kristin-chenoweth-1379970-1920-2560.jpg',\n",
       " 'd1ee14014e7d183d2b15f9309bbd808ab04e1f17e529696f11f83c8c8adc89ba': 'http://images1.fanpop.com/images/photos/1300000/The-Apple-Tree-Promo-kristin-chenoweth-1379964-1920-2560.jpg',\n",
       " '9043ae6bba282631b7afbca77802a6ee33813002e5be6e4595b6c03d11699a9c': 'https://pbs.twimg.com/profile_images/423621395440873473/lqTr1REG.jpeg',\n",
       " '8b5c10db0b1b377d68b1dbd4d52896514161728a0e4b115ae354625bb88adef2': 'http://cdn02.cdn.justjared.com/wp-content/uploads/2011/07/chenoweth-bafta/kristin-chenoweth-bafta-brits-to-watch-gala-02.jpg',\n",
       " 'e4db4acad65d3f0bf2380aa756e06b8c3124505c3cbfc235afac3784dbb74563': 'http://cdn04.cdn.justjared.com/wp-content/uploads/2013/02/chenoweth-oscarscarpet/kristin-chenoweth-oscars-2013-red-carpet-02.jpg',\n",
       " 'd93caef337b4c41dae37b3a839deb38372d43102cb8617a5aee5829ddd9dba25': 'http://images1.fanpop.com/images/photos/1300000/Pushing-Daisies-Promo-kristin-chenoweth-1379955-1922-2560.jpg',\n",
       " '9c00ac328d8eed3b6d9b3e0becfb8b4a2947b1afb19a73ace8ece27e38fcfefd': 'http://www.sawfirst.com/wp-content/uploads/2013/04/Kristin-Chenoweth-19.jpg',\n",
       " '382badf62de6e818c2b3380cb97fe6cb92759b52de8b1d88f12ce8db79164058': 'http://www.barking-moonbat.com/images/uploads/Kristin_Chenoweth.jpg',\n",
       " 'fdb74d5ac90832c799c9ac94353c620b935787ecf78a1c4433f01e4c57bd39f0': 'http://cdn03.cdn.justjared.com/wp-content/uploads/2013/11/kristin-josh/kristin-chenoweth-joshua-bowman-breeders-cup-2013-04.jpg',\n",
       " 'a88e5c304f848162c60e241f899aa709979364023133474857accead5dfa1d3b': 'http://1.bp.blogspot.com/_zQHrzpNCNf8/TMxSqlchzsI/AAAAAAAAAOY/JSTpquWumrI/s1600/chenoweth.jpg',\n",
       " '160977de21c19f818e7e5f0b21a7fbbfbfdf0ad5f41a7d62c1b81d96fabe38de': 'http://wallpapersus.com/wallpapers/2012/07/Kristin-Chenoweth-wallpaper-768x1024.jpg',\n",
       " 'a47007c7547420790de41d2a1f7fb6e62592aec4a83ec0b02e11d4957f6fa9d9': 'http://img2.timeinc.net/instyle/images/2008/oscars/022408_chenoweth_400X400.jpg',\n",
       " '7276e33fe7f326949f962ec1dd52788a7a2a7a69c4731c13a7016ec57ab31c0d': 'http://www.keysbase.com/wallpaper/kristin-chenoweth/kristin-chenoweth-88023.jpg',\n",
       " 'ec154019935436f9089812a947266631d58103ae74144e3701cfc78b5284742b': 'http://ll-media.tmz.com/2013/01/31/0131-kristin-chenoweth-american-airlines-4.jpg',\n",
       " '07de2ee89fa7e4cc432427f49f7810d247c1ee0c6f79e9049df7dbed43ad9b62': 'http://i2.cdnds.net/12/40/618x929/showbiz_kristin_chenoweth.jpg',\n",
       " '167e79eaa3f883c4fa7bc53d23f2346b8018c600e2a782e9ffa8aa199771fc88': 'http://cdn01.cdn.justjared.com/wp-content/uploads/2011/08/chenoweth-dawson/kristin-chenoweth-rosario-dawson-g-star-gals-07.jpg',\n",
       " '20913f946d1e2d091d32a86833dc8fefa341247727347d82ef389ca1e8db8e57': 'http://cinematicpassions.wordpress.com/files/2009/08/kristin-chenoweth-running-with-scissors-world-premiere-1knkwy.jpg',\n",
       " 'd01513914abd557c74ded5ba1a759eb0398e73d49cafc610be00e33b1fe163b2': 'http://static5.businessinsider.com/image/51f939846bb3f7dd7200002e/kristin-chenoweth-roasts-anthony-weiner-in-popular-parody-song.jpg',\n",
       " 'f558124ec7dd80c1f13cfbe097401cb72a4ae698aeb112a9b7b0e07d6540d0dc': 'http://hairstylesweekly.com/images/2013/09/Kristin-Chenoweth.jpg',\n",
       " 'b9f91b10fa06cff9785a81cbecfbb3e857ba3d65875f63c3da8a83b9604bbc87': 'http://cdn03.cdn.justjared.com/wp-content/uploads/2010/12/chenoweth-bomer-storytelling/kristin-chenoweth-matt-bomer-storytelling-04.jpg',\n",
       " '879b601e08e578276fb5105f6ab1851007814d85d084729ea9b0d1b37f9841ec': 'http://cdn.glamcheck.com/entertainment/files/2011/12/Kristin-Chenoweth-ACA-2-011.jpg',\n",
       " '45f4454d560d434758866ca87694a0bf23480245fc134c948cc517c09d6ee364': 'http://www.keysbase.com/wallpaper/kristin-chenoweth/kristin-chenoweth-88025.jpg',\n",
       " '1a3889002b2cd9cc0e21b71d187c8ac58c574dd2ef0787921216e779828d14c8': 'http://d1p2ydm3tiy6cn.cloudfront.net/connect/wp-content/uploads/2013/02/KristinChenowethQuantumoftheSeas.png',\n",
       " 'aca0b9332caf48397899eed9a8e0b7d67b568b0f576db982fe58860b25e0d814': 'http://wallpapersus.com/wallpapers/2012/07/Kristin-Chenoweth-wallpaper-854x960.jpg',\n",
       " '2a92458d26d6f81a1ff7a957b31f7dda9af5301e56bbe12f58903cf4751c2605': 'http://wallpapersus.com/wallpapers/2012/07/Kristin-Chenoweth-3-1024x1024.jpg',\n",
       " 'd169c9d9708a5a339f8cf31067d20862699343f71740244bf093d5fde0037898': 'http://static2.wikia.nocookie.net/__cb20130814045153/princessdisney/images/f/f2/Kristin_Chenoweth_-_cropped.jpg',\n",
       " '8063bf6812d1eba302ba328a5f5f088fc418ff0bd442d0422fa1d26bbd6d13a9': 'http://img2.timeinc.net/people/i/2011/pets/news/110829/kristin-chenoweth-300.jpg',\n",
       " '7c4e2ab867b3c2f7ded254d9972805c9041e1b6df63e34a7c3b17c81e23bea43': 'http://1.bp.blogspot.com/-RMbRSETpVb0/T1yVGTZv-UI/AAAAAAAACTE/jKnVq1rMR9w/s1600/Kristin%252BChenoweth1.jpg',\n",
       " '0d9acf74db76fbf08e027080d21304a8a60c0a838bd16e2b1daed31320a1e5e5': 'http://cdn01.cdn.justjared.com/wp-content/uploads/2010/12/chenoweth-bomer-storytelling/kristin-chenoweth-matt-bomer-storytelling-09.jpg',\n",
       " '751d7a249486b600b2e27cf4ca55a3852912bd5151ff81c7666d99f6dee7389a': 'http://1.bp.blogspot.com/_2QKeIynwxaA/S9mbavZHamI/AAAAAAAABSA/wUL8CzucNCo/s1600/Kristin_Chenoweth_001_221008.jpg',\n",
       " 'f6eb330c7249a4a19c336630253f3a8a9067638d5f37bda899164231ccc4cbc3': 'http://cdn03.cdn.justjared.com/wp-content/uploads/2012/12/chenoweth-trevor/kristin-chenoweth-anna-kendrick-trevor-live-2012-05.jpg',\n",
       " '6a73321eb2971610ce60cda02a27b961f57a3b37eb3faffe79052a247e5f0c35': 'http://www.gotceleb.com/wp-content/uploads/celebrities/kristin-chenoweth/bikini-ps-at-the-st-regis-punta-mita-resort-in-mexico/Kristin-Chenoweth---Bikini-Photoshoot-24.jpg',\n",
       " 'd6bd48cc248fb265b7e7547d9dd07317a28504fc2a8b3e17c9988892ca50eb86': 'http://wallpoper.com/images/00/44/21/45/kristin-chenoweth-2_00442145.jpg',\n",
       " 'f201446ed81454c1b1ccd8f86b3bd97bf4403b17900d31439fb77cf08a9da84d': 'http://cdn04.cdn.justjared.com/wp-content/uploads/2013/02/chenoweth-vanity/kristin-chenoweth-vanity-fair-oscars-party-2013-04.jpg',\n",
       " 'eafaeead6373ad47db88667b09e7bc12c0428ec7cbe07b89cf2ef1d8d94b62c6': 'http://www2.pictures.zimbio.com/gi/Kristin%252BChenoweth%252BMilly%252BMichelle%252BSmith%252BFront%252BoXF_dbqPDsPl.jpg',\n",
       " 'cfa857f33cd88d633d2b7665b1855153141115d73e9e2ee957ed2f7f92793163': 'http://d3rm69wky8vagu.cloudfront.net/article-photos/large/1.160493.jpg',\n",
       " '1e4f1b6897b42e8060c8615e3e4382b47cca166914ff47b1b026241920e95d4e': 'http://wallpapersus.com/wallpapers/2012/07/Kristin-Chenoweth-4-1136x640.jpg',\n",
       " '86a60191878c282b44d756a093947126206aa4f004aa5db8fbe7f162f0b710a4': 'http://ll-media.extratv.com/2012/07/12/kristen-chenoweth-450x600.jpg',\n",
       " 'ef57fa74385548922de033d832af2c3e73b9e00f2cc28dc64e2d1e76552085ff': 'http://www.blogcdn.com/www.aoltv.com/media/2009/09/kristin_chenoweth_2244275.jpg',\n",
       " 'd21863f210f934781d0ad7862648b192a3e3101e8610bae6fc4d1ec8a54c28c3': 'http://www.keysbase.com/wallpaper/kristin-chenoweth/kristin-chenoweth-88038.jpg',\n",
       " 'f15d873716808bc97caf53046dc705cdac4620b0b840269193a7259ad699f3d5': 'http://cdn04.cdn.justjared.com/wp-content/uploads/2011/09/chenoweth-now/kristin-chenoweth-some-lessons-learned-in-stores-now-11.jpg',\n",
       " '3cda03f52d91a767e233f49c571178fc5d2fa8e3105d2e521653d9107f107508': 'http://www.gotceleb.com/wp-content/uploads/pics/kristin-chenoweth/space-chimps-premiere-in-los-angeles/kristin-chenoweth-space-chimps-premiere-in-los-angeles-01.jpg',\n",
       " '15bf172bd5c9933cc5012c49e03bde7550477213f711f38efb2f53702c1b3d29': 'http://www.gotceleb.com/wp-content/uploads/pics/kristin-chenoweth/4th-annual-a-fine-romance/kristin-chenoweth-4th-annual-a-fine-romance-01.jpg',\n",
       " '06d0b0080553f7ee9f4e673e54fc500ddee392b021d8826c5aaf048433649c87': 'http://cdn04.cdn.justjared.com/wp-content/uploads/2012/06/cheno-good/kristin-chenoweth-good-wife-hit-run-trailer-04.jpg',\n",
       " '5736ecf752da7b99a4906e8a54d54078dd9940c48c896d9a96198e81ac4eb5fd': 'http://l.yimg.com/os/251/2012/08/16/84052236-jpg_235012.jpg',\n",
       " '9096039fe781d3b9f21970b48ec6c3ce1aa5eb17d79f547c23edba0a4c83c3f2': 'http://www.1920x1200.net/posts/wp-content/uploads/2012/09/kristin_chenoweth_1920_1200_sep222012.jpg',\n",
       " '8da1c0a100b4125af81121633d897ccfe0e07ca8f4b9d1114fac49a67c8941c8': 'http://images2.fanpop.com/image/photos/10700000/Kristen-Chenoweth-best-glinda-ever-wicked-10719726-378-600.jpg',\n",
       " 'c237460ba3b498814c361ce17a82756ac2b6c58e49178932ae409f638b6b79cb': 'http://www.examiner.com/images/blog/wysiwyg/image/Kristin_Chenoweth.jpg',\n",
       " '773839909f5977efa61700e26f48300f29fa66b795c94589565b3d8f6e213c86': 'http://cdn02.cdn.justjared.com/wp-content/uploads/2010/12/chenoweth-sugar/kristin-chenoweth-sugar-factory-fun-04.jpg',\n",
       " '9e0845de916640323262face8b0cc1b439e3786fe0e614fcefd93ed3c6afe0cd': 'http://www.gotceleb.com/wp-content/uploads/celebrities/kristin-chenoweth/85th-academy-awards/Kristin-Chenoweth---Oscar-2013--02.jpg',\n",
       " '08349947b087f7c109fd0e42f0cd145b8a72aa544355b167dacc32880025baf4': 'http://delay-ad.org/estro/base/kristin-chenoweth-2.jpg',\n",
       " '2ac0c6b3e6e7a7f2f90f51346226335a58b59c4f73f965cdf8085da5336e2878': 'http://cdn04.cdn.justjared.com/wp-content/uploads/2012/02/chenoweth-jonas/kristin-chenoweth-nick-jonas-drama-benefit-03.jpg',\n",
       " 'f8e4957fdeb152ec422d5480dbd660673817cb1516b38a828e5cb933b9c41117': 'http://cdn04.cdn.justjared.com/wp-content/uploads/2012/10/chenoweth-dog/kristin-chenoweth-dog-awards-02.jpg',\n",
       " '5d98afbed2da1f45f58e82d2cce075cf24b6ff5c8f6f5ebfdce3102bef64a3f3': 'http://images.tvfanatic.com/iu/t_large/v1371093694/kristin-chenoweth-photograph.png',\n",
       " '04905139bc47ed8883d70c575132932bb2e338ecbc786c846e08130c9cd62a62': 'http://www.gotceleb.com/wp-content/uploads/celebrities/kristin-chenoweth/85th-academy-awards/Kristin-Chenoweth---Oscar-2013--02-560x804.jpg',\n",
       " '96eb1b8c565a21c7908e4219874c32af60ea42a18dde42e0763b5ea06b236025': 'http://www4.pictures.stylebistro.com/gi/Kristin%252BChenoweth%252BShort%252BHairstyles%252BShort%252BStraight%252B7ouCzz-8OiOl.jpg',\n",
       " '5293795aa50e69ec5dbc8e048b36d00f47b7dc2c4c5481e3f65565c5d3f06f10': 'http://www4.pictures.zimbio.com/gi/Kristin%252BChenoweth%252BVh1%252BSave%252BMusic%252BFoundation%252BYSj-2ZCvhThl.jpg',\n",
       " 'd5dad7f6edbfbd545ab3246e64a4680a69f6ee98d8f9ef075861bf73491cbe18': 'http://cdn02.cdn.justjared.com/wp-content/uploads/2013/01/chenoweth-riviera/kristin-chenoweth-genlux-riviera-31-celebration-06.jpg',\n",
       " '0d16001542fc0d930369494c780dda4151204c14469a90adb692536e01ffa733': 'http://cdn.partyearth.com/photos/091943140e760cf7152d6be2fabe3f2d/kristin-chenoweth_s345x230.jpg',\n",
       " '0b3167955f927156f47c1560ea7b35491512002417ff11bda47789a635c6e3f0': 'http://cdn04.cdn.justjared.com/wp-content/uploads/2010/12/chenoweth-bomer-storytelling/kristin-chenoweth-matt-bomer-storytelling-10.jpg',\n",
       " '9aedea0fdfc6a31d942f0abbf3f5e556b2eb523b1b937e5635e6bfeb339bb338': 'http://www.royalcaribbeanpresscenter.com/media_photos/low_1361752238_kristin-chenoweth-headshot.jpg',\n",
       " '4a2a6b34d894c1a6b8f7c342ad5874bfcd45b96a7ea5c4a9a246abba8667035c': 'http://img2.timeinc.net/people/i/2012/stylewatch/blog/120102/kristin-chenoweth-300x400.jpg',\n",
       " 'a938b9862ba1ddbc984ee8266adf94e1cd5e64cffad00a41eb8e63a96867a212': 'http://cdn03.cdn.justjared.com/wp-content/uploads/2012/03/chenoweth-oncebway/kristin-chenoweth-once-broadway-opening-02.jpg',\n",
       " '24f805767b0d65e7525ab6fae1fe60a37f0146b565009de112a953954d4b63d1': 'http://3.bp.blogspot.com/_nAByPV5zgnQ/TEcYmHF9J9I/AAAAAAAAAq8/piskDZ-9zuU/s1600/KristenChenoweth.jpg',\n",
       " '2888120fc4b6900a4badb28d8781a6ffdcfec5061498d8a6e7baacb95c7f5b00': 'http://cdn03.cdn.justjared.com/wp-content/uploads/2013/03/cheno-family/kristin-chenoweth-oleysa-rulin-family-weekend-premiere-16.jpg',\n",
       " 'c9aeceab04be5fcfb3f390695534dfb51c5477a4bd3d3cb7cc23bf8c6aee8fb3': 'http://thumbs.dreamstime.com/z/kristin-chenoweth-22515758.jpg',\n",
       " '79bc5f5f1e031f4801f62c87f4f12ee320fab4a01083af7ec07223831742500e': 'http://www.contactmusic.com/pics/lf/once_arrivals_190312/kristin-chenoweth-from-the-tv-show-gcb_3785714.jpg',\n",
       " '47ce66413865a6c32b149b0002e641be98fdd7d1f3b3744d16c64910d1999ba6': 'http://wallpapersus.com/wallpapers/2012/07/Kristin-Chenoweth-3-854x960.jpg',\n",
       " 'd26e75e78799fff2766462c4c75e280f7d17db24ce2d1c17a9b593b0c90ab99f': 'http://www.timeoutchicago.com/sites/timeoutchicago.com/files/imagecache/timeout_492x330/365.vod.ft.toi.KristinChenoweth2.jpg',\n",
       " '431eef889b417be155d3c2b1a3e5388fc0bc96f00514c6e143dfd0c6e32af1f8': 'http://www.tvfanatic.com/files/kristin-chenoweth_276x394.jpg',\n",
       " '01414cd0d7c11593c1e530af22b9cc8c186a906ceb0ebb1c74b9cba3a413d9a3': 'http://hairstylesweekly.com/images/2013/03/Kristin-Chenoweth-Long-Hairstyles.jpg',\n",
       " '52ed18dcc0f36f08f234d885cb4e06f7da1b80f8407632bfb5db91b7401ef52a': 'http://media4.onsugar.com/files/ons1/192/1922153/38_2009/9dcf3ec1b1b6ae43_Krist/i/Photo-Kristin-Chenoweth-2009-Primetime-Emmy-Awards-2009-09-20-183240.jpg',\n",
       " 'aa40740ff1529ba0bcb9b0a0ecc8d87c747e6c52c14ef01c2736afc29f068382': 'http://i.huffpost.com/gen/516280/thumbs/r-KRISTIN-CHENOWETH-large570.jpg',\n",
       " '3d99b26056abf2272a8e28a09709b01c602f2ae55f8cb9fc3d2fccc325348119': 'http://i.dailymail.co.uk/i/pix/2013/03/30/article-2301433-19007236000005DC-907_634x380.jpg',\n",
       " 'ad2db1f6807e3c9337f68d11efcf6f7ba5e009d280ac9eb80185f28ea3b4e828': 'http://media1.onsugar.com/files/2010/01/02/5/192/1922564/7a0ab2e7a66849d4_Kristen-Chenoweth.jpg',\n",
       " '8df7333aa9402cad4c26fa8b8499745de007c38d7423c8bc57e381926c2effb3': 'http://www.contactmusic.com/pics/mn/20130225/250213_vanity_fair_oscar_party_32/kristin-chenoweth-vanity-fair-oscar-party_3528289.jpg',\n",
       " '0e96289c54b90ef55f8b20f26bc3e5734f519ac5e4e30bdcd85fa0c535014617': 'http://3.bp.blogspot.com/-_vc2MK3ApCs/Ueui1zWOeNI/AAAAAAAAMFM/_RejZl2LE78/s1600/Kristin-Chenoweth-Wallpaper-14.jpg',\n",
       " '1efcf98fcf53fd866e4eb7f29a73a4fa1d0208b874d883837bc17d20391db08c': 'http://wallpapersus.com/wallpapers/2012/07/Kristin-Chenoweth-12-900x1440.jpg',\n",
       " '25fee1a4a3d60eaf77525815db8758729e6594d5cff3595ff130dbae619530e8': 'http://cdn01.cdn.justjared.com/wp-content/uploads/2012/09/lochte-minkoff/ryan-lochte-kristin-chenoweth-rebecca-minkoff-show-01.jpg',\n",
       " '2df57c05ab00f348d25eb9e18cdf18810583f1856401584224d702944ec4f9da': 'http://wallpapersus.com/wallpapers/2012/07/Kristin-Chenoweth-3-900x1600.jpg',\n",
       " 'daf65d6f2cc39ddc45c52a645a5a1983566efc69b0f27f2d23a9715db728c2e9': 'http://images.fanpop.com/images/image_uploads/Kristen-kristen-chenoweth-477547_485_635.jpg',\n",
       " 'abf9598c665b7bde6eb1036cf03b1d3986133fa4c6e55e12f3be3a8b89b6b397': 'http://i2.cdnds.net/12/40/618x406/showbiz_kristin_chenoweth.jpg',\n",
       " '1a3fe2f520edea350dc18d0fe24fbd5517574181eb4fe5ecfac1f5ad21941a14': 'http://www2.pictures.zimbio.com/gi/Kristin%252BChenoweth%252BRebecca%252BMinkoff%252BBackstage%252BJQtNox0lle5l.jpg',\n",
       " '86439fd57b4083d3805a1f50b3a1aa978e3fb38fe2d9f2c657409a3caef52295': 'http://www.theplace2.ru/archive/kristin_chenoweth/img/kristin_chenoweth_em.jpg',\n",
       " '4e6ea1d0885ef3be41c7525400ee9b75ff1bcc76c47b6a91668a16eb4190c798': 'http://abcnews.go.com/images/Entertainment/ht_kristin_chenoweth_haircut_sr_131031_ssh.jpg',\n",
       " '72e38116f44d1ca85b6ac83ef0ea29ada6fff30934ddeddad07912fb17352463': 'http://media4.onsugar.com/files/2011/11/46/5/192/1922153/f0a3625c4658c50c_Kristin-Chenoweth.xxlarge/i/Kristin-Chenoweth-Shares-Her-Beauty-Secrets.jpg',\n",
       " ...}"
      ]
     },
     "execution_count": 14,
     "metadata": {},
     "output_type": "execute_result"
    }
   ],
   "source": [
    "actress_images"
   ]
  },
  {
   "cell_type": "markdown",
   "id": "2kigFEYk8cyQ",
   "metadata": {
    "id": "2kigFEYk8cyQ"
   },
   "source": [
    "### PART - 1"
   ]
  },
  {
   "cell_type": "code",
   "execution_count": null,
   "id": "TPSl46A-pdAR",
   "metadata": {
    "colab": {
     "base_uri": "https://localhost:8080/"
    },
    "id": "TPSl46A-pdAR",
    "outputId": "9dee89bd-38b0-4664-d792-e7cf4c14d5c0"
   },
   "outputs": [
    {
     "name": "stdout",
     "output_type": "stream",
     "text": [
      "['richard wilson', 'paul cezanne', 'paul sandby', 'claude monet', 'peter paul rubens', 'canaletto', 'j. m. w. turner', 'paul gauguin', 'george romney', 'john robert cozens', 'rembrandt']\n",
      "[[0. 0. 0. ... 0. 0. 0.]\n",
      " [0. 0. 0. ... 0. 0. 0.]\n",
      " [0. 0. 0. ... 1. 0. 0.]\n",
      " ...\n",
      " [0. 0. 0. ... 0. 0. 0.]\n",
      " [0. 0. 0. ... 0. 0. 0.]\n",
      " [0. 0. 0. ... 0. 1. 0.]]\n"
     ]
    },
    {
     "name": "stderr",
     "output_type": "stream",
     "text": [
      "/usr/local/lib/python3.7/dist-packages/torch/utils/data/dataloader.py:566: UserWarning: This DataLoader will create 4 worker processes in total. Our suggested max number of worker in current system is 2, which is smaller than what this DataLoader is going to create. Please be aware that excessive worker creation might get DataLoader running slow or even freeze, lower the worker number to avoid potential slowness/freeze if necessary.\n",
      "  cpuset_checked))\n",
      "Epoch 0,phase: Training: 1it [00:00, 36472.21it/s, train_loss : ?, train_acc: ?]/content/drive/MyDrive/COLABS/02-convolutional_neural_network/comp541-hw2-starter-code/train.py:65: UserWarning: Implicit dimension choice for softmax has been deprecated. Change the call to include dim=X as an argument.\n",
      "  softmaxed_scores = self.softmax(logits)\n",
      "Epoch 1,phase: Training: 2it [00:07,  3.91s/it, val acc:  0.323,val loss:  2.367]  "
     ]
    },
    {
     "name": "stdout",
     "output_type": "stream",
     "text": [
      "New best loss, loss is:  2.3667938709259033 acc is:  0.34065934065934067\n"
     ]
    },
    {
     "name": "stderr",
     "output_type": "stream",
     "text": [
      "Epoch 2,phase: Training: 3it [00:08,  2.64s/it, val acc:  0.323,val loss:  2.246]  "
     ]
    },
    {
     "name": "stdout",
     "output_type": "stream",
     "text": [
      "New best loss, loss is:  2.246028741200765 acc is:  0.34065934065934067\n"
     ]
    },
    {
     "name": "stderr",
     "output_type": "stream",
     "text": [
      "Epoch 3,phase: Training: 4it [00:09,  1.98s/it, val acc:  0.323,val loss:  2.186]  "
     ]
    },
    {
     "name": "stdout",
     "output_type": "stream",
     "text": [
      "New best loss, loss is:  2.186363101005554 acc is:  0.34065934065934067\n"
     ]
    },
    {
     "name": "stderr",
     "output_type": "stream",
     "text": [
      "Epoch 4,phase: Training: 5it [00:10,  1.59s/it, val acc:  0.344,val loss:  2.175]  "
     ]
    },
    {
     "name": "stdout",
     "output_type": "stream",
     "text": [
      "New best loss, loss is:  2.175256848335266 acc is:  0.3626373626373626\n"
     ]
    },
    {
     "name": "stderr",
     "output_type": "stream",
     "text": [
      "Epoch 5,phase: Training: 6it [00:11,  1.35s/it, val acc:  0.365,val loss:  2.163]  "
     ]
    },
    {
     "name": "stdout",
     "output_type": "stream",
     "text": [
      "New best loss, loss is:  2.1633835633595786 acc is:  0.38461538461538464\n"
     ]
    },
    {
     "name": "stderr",
     "output_type": "stream",
     "text": [
      "Epoch 6,phase: Training: 7it [00:12,  1.20s/it, val acc:  0.365,val loss:  2.154]  "
     ]
    },
    {
     "name": "stdout",
     "output_type": "stream",
     "text": [
      "New best loss, loss is:  2.15433136622111 acc is:  0.38461538461538464\n"
     ]
    },
    {
     "name": "stderr",
     "output_type": "stream",
     "text": [
      "Epoch 7,phase: Training: 8it [00:13,  1.09s/it, val acc:  0.365,val loss:  2.148]  "
     ]
    },
    {
     "name": "stdout",
     "output_type": "stream",
     "text": [
      "New best loss, loss is:  2.1482286850611367 acc is:  0.38461538461538464\n"
     ]
    },
    {
     "name": "stderr",
     "output_type": "stream",
     "text": [
      "Epoch 8,phase: Training: 9it [00:13,  1.02s/it, val acc:  0.375,val loss:  2.130]  "
     ]
    },
    {
     "name": "stdout",
     "output_type": "stream",
     "text": [
      "New best loss, loss is:  2.1295151909192405 acc is:  0.3956043956043956\n"
     ]
    },
    {
     "name": "stderr",
     "output_type": "stream",
     "text": [
      "Epoch 9,phase: Training: 10it [00:14,  1.02it/s, val acc:  0.417,val loss:  2.111]  "
     ]
    },
    {
     "name": "stdout",
     "output_type": "stream",
     "text": [
      "New best loss, loss is:  2.1109034220377603 acc is:  0.43956043956043955\n"
     ]
    },
    {
     "name": "stderr",
     "output_type": "stream",
     "text": [
      "Epoch 10,phase: Training: 11it [00:15,  1.05it/s, val acc:  0.448,val loss:  2.114] "
     ]
    },
    {
     "name": "stdout",
     "output_type": "stream",
     "text": [
      "Not a better score\n"
     ]
    },
    {
     "name": "stderr",
     "output_type": "stream",
     "text": [
      "Epoch 11,phase: Training: 12it [00:16,  1.08it/s, val acc:  0.448,val loss:  2.097]  "
     ]
    },
    {
     "name": "stdout",
     "output_type": "stream",
     "text": [
      "New best loss, loss is:  2.0969110131263733 acc is:  0.4725274725274725\n"
     ]
    },
    {
     "name": "stderr",
     "output_type": "stream",
     "text": [
      "Epoch 12,phase: Training: 13it [00:17,  1.09it/s, val acc:  0.448,val loss:  2.099]  "
     ]
    },
    {
     "name": "stdout",
     "output_type": "stream",
     "text": [
      "Not a better score\n"
     ]
    },
    {
     "name": "stderr",
     "output_type": "stream",
     "text": [
      "Epoch 13,phase: Training: 14it [00:18,  1.11it/s, val acc:  0.427,val loss:  2.104]  "
     ]
    },
    {
     "name": "stdout",
     "output_type": "stream",
     "text": [
      "Not a better score\n"
     ]
    },
    {
     "name": "stderr",
     "output_type": "stream",
     "text": [
      "Epoch 14,phase: Training: 15it [00:19,  1.11it/s, val acc:  0.438,val loss:  2.089]  "
     ]
    },
    {
     "name": "stdout",
     "output_type": "stream",
     "text": [
      "New best loss, loss is:  2.0892046689987183 acc is:  0.46153846153846156\n"
     ]
    },
    {
     "name": "stderr",
     "output_type": "stream",
     "text": [
      "Epoch 15,phase: Training: 16it [00:20,  1.12it/s, val acc:  0.438,val loss:  2.086]  "
     ]
    },
    {
     "name": "stdout",
     "output_type": "stream",
     "text": [
      "New best loss, loss is:  2.085578123728434 acc is:  0.46153846153846156\n"
     ]
    },
    {
     "name": "stderr",
     "output_type": "stream",
     "text": [
      "Epoch 16,phase: Training: 17it [00:20,  1.13it/s, val acc:  0.458,val loss:  2.066]  "
     ]
    },
    {
     "name": "stdout",
     "output_type": "stream",
     "text": [
      "New best loss, loss is:  2.066051721572876 acc is:  0.4835164835164835\n"
     ]
    },
    {
     "name": "stderr",
     "output_type": "stream",
     "text": [
      "Epoch 17,phase: Training: 18it [00:21,  1.13it/s, val acc:  0.438,val loss:  2.085]  "
     ]
    },
    {
     "name": "stdout",
     "output_type": "stream",
     "text": [
      "Not a better score\n"
     ]
    },
    {
     "name": "stderr",
     "output_type": "stream",
     "text": [
      "Epoch 18,phase: Training: 19it [00:22,  1.13it/s, val acc:  0.458,val loss:  2.064]  "
     ]
    },
    {
     "name": "stdout",
     "output_type": "stream",
     "text": [
      "New best loss, loss is:  2.0643369356791177 acc is:  0.4835164835164835\n"
     ]
    },
    {
     "name": "stderr",
     "output_type": "stream",
     "text": [
      "Epoch 19,phase: Training: 20it [00:23,  1.13it/s, val acc:  0.469,val loss:  2.068]  "
     ]
    },
    {
     "name": "stdout",
     "output_type": "stream",
     "text": [
      "Not a better score\n"
     ]
    },
    {
     "name": "stderr",
     "output_type": "stream",
     "text": [
      "Epoch 20,phase: Training: 21it [00:24,  1.12it/s, val acc:  0.469,val loss:  2.052]  "
     ]
    },
    {
     "name": "stdout",
     "output_type": "stream",
     "text": [
      "New best loss, loss is:  2.051508148511251 acc is:  0.4945054945054945\n"
     ]
    },
    {
     "name": "stderr",
     "output_type": "stream",
     "text": [
      "Epoch 21,phase: Training: 22it [00:25,  1.13it/s, val acc:  0.500,val loss:  2.047]  "
     ]
    },
    {
     "name": "stdout",
     "output_type": "stream",
     "text": [
      "New best loss, loss is:  2.047407786051432 acc is:  0.5274725274725275\n"
     ]
    },
    {
     "name": "stderr",
     "output_type": "stream",
     "text": [
      "Epoch 22,phase: Training: 23it [00:26,  1.12it/s, val acc:  0.490,val loss:  2.044]  "
     ]
    },
    {
     "name": "stdout",
     "output_type": "stream",
     "text": [
      "New best loss, loss is:  2.0435296297073364 acc is:  0.5164835164835165\n"
     ]
    },
    {
     "name": "stderr",
     "output_type": "stream",
     "text": [
      "Epoch 23,phase: Training: 24it [00:27,  1.12it/s, val acc:  0.479,val loss:  2.051]  "
     ]
    },
    {
     "name": "stdout",
     "output_type": "stream",
     "text": [
      "Not a better score\n"
     ]
    },
    {
     "name": "stderr",
     "output_type": "stream",
     "text": [
      "Epoch 24,phase: Training: 25it [00:28,  1.12it/s, val acc:  0.490,val loss:  2.043]  "
     ]
    },
    {
     "name": "stdout",
     "output_type": "stream",
     "text": [
      "New best loss, loss is:  2.042909860610962 acc is:  0.5164835164835165\n"
     ]
    },
    {
     "name": "stderr",
     "output_type": "stream",
     "text": [
      "Epoch 25,phase: Training: 26it [00:28,  1.12it/s, val acc:  0.469,val loss:  2.037]  "
     ]
    },
    {
     "name": "stdout",
     "output_type": "stream",
     "text": [
      "New best loss, loss is:  2.037234365940094 acc is:  0.4945054945054945\n"
     ]
    },
    {
     "name": "stderr",
     "output_type": "stream",
     "text": [
      "Epoch 26,phase: Training: 27it [00:29,  1.12it/s, val acc:  0.479,val loss:  2.041]  "
     ]
    },
    {
     "name": "stdout",
     "output_type": "stream",
     "text": [
      "Not a better score\n"
     ]
    },
    {
     "name": "stderr",
     "output_type": "stream",
     "text": [
      "Epoch 27,phase: Training: 28it [00:30,  1.13it/s, val acc:  0.448,val loss:  2.041]  "
     ]
    },
    {
     "name": "stdout",
     "output_type": "stream",
     "text": [
      "Not a better score\n"
     ]
    },
    {
     "name": "stderr",
     "output_type": "stream",
     "text": [
      "Epoch 28,phase: Training: 29it [00:31,  1.13it/s, val acc:  0.458,val loss:  2.034]  "
     ]
    },
    {
     "name": "stdout",
     "output_type": "stream",
     "text": [
      "New best loss, loss is:  2.034455160299937 acc is:  0.4835164835164835\n"
     ]
    },
    {
     "name": "stderr",
     "output_type": "stream",
     "text": [
      "Epoch 29,phase: Training: 30it [00:32,  1.13it/s, val acc:  0.479,val loss:  2.040]  "
     ]
    },
    {
     "name": "stdout",
     "output_type": "stream",
     "text": [
      "Not a better score\n"
     ]
    },
    {
     "name": "stderr",
     "output_type": "stream",
     "text": [
      "Epoch 30,phase: Training: 31it [00:33,  1.14it/s, val acc:  0.469,val loss:  2.035]  "
     ]
    },
    {
     "name": "stdout",
     "output_type": "stream",
     "text": [
      "Not a better score\n"
     ]
    },
    {
     "name": "stderr",
     "output_type": "stream",
     "text": [
      "Epoch 31,phase: Training: 32it [00:34,  1.03it/s, val acc:  0.479,val loss:  2.042]  "
     ]
    },
    {
     "name": "stdout",
     "output_type": "stream",
     "text": [
      "Not a better score\n"
     ]
    },
    {
     "name": "stderr",
     "output_type": "stream",
     "text": [
      "Epoch 32,phase: Training: 33it [00:35,  1.11s/it, val acc:  0.479,val loss:  2.038]  "
     ]
    },
    {
     "name": "stdout",
     "output_type": "stream",
     "text": [
      "Not a better score\n"
     ]
    },
    {
     "name": "stderr",
     "output_type": "stream",
     "text": [
      "Epoch 33,phase: Training: 34it [00:37,  1.16s/it, val acc:  0.479,val loss:  2.048]  "
     ]
    },
    {
     "name": "stdout",
     "output_type": "stream",
     "text": [
      "Not a better score\n"
     ]
    },
    {
     "name": "stderr",
     "output_type": "stream",
     "text": [
      "Epoch 34,phase: Training: 35it [00:38,  1.20s/it, val acc:  0.490,val loss:  2.034]  "
     ]
    },
    {
     "name": "stdout",
     "output_type": "stream",
     "text": [
      "New best loss, loss is:  2.034157911936442 acc is:  0.5164835164835165\n"
     ]
    },
    {
     "name": "stderr",
     "output_type": "stream",
     "text": [
      "Epoch 35,phase: Training: 36it [00:39,  1.13s/it, val acc:  0.479,val loss:  2.050]  "
     ]
    },
    {
     "name": "stdout",
     "output_type": "stream",
     "text": [
      "Not a better score\n"
     ]
    },
    {
     "name": "stderr",
     "output_type": "stream",
     "text": [
      "Epoch 36,phase: Training: 37it [00:40,  1.09s/it, val acc:  0.479,val loss:  2.039]  "
     ]
    },
    {
     "name": "stdout",
     "output_type": "stream",
     "text": [
      "Not a better score\n"
     ]
    },
    {
     "name": "stderr",
     "output_type": "stream",
     "text": [
      "Epoch 37,phase: Training: 38it [00:41,  1.05s/it, val acc:  0.469,val loss:  2.045]  "
     ]
    },
    {
     "name": "stdout",
     "output_type": "stream",
     "text": [
      "Not a better score\n"
     ]
    },
    {
     "name": "stderr",
     "output_type": "stream",
     "text": [
      "Epoch 38,phase: Training: 39it [00:42,  1.01s/it, val acc:  0.479,val loss:  2.036]  "
     ]
    },
    {
     "name": "stdout",
     "output_type": "stream",
     "text": [
      "Not a better score\n"
     ]
    },
    {
     "name": "stderr",
     "output_type": "stream",
     "text": [
      "Epoch 39,phase: Training: 40it [00:43,  1.03it/s, val acc:  0.469,val loss:  2.062]  "
     ]
    },
    {
     "name": "stdout",
     "output_type": "stream",
     "text": [
      "Not a better score\n"
     ]
    },
    {
     "name": "stderr",
     "output_type": "stream",
     "text": [
      "Epoch 40,phase: Training: 41it [00:44,  1.06it/s, val acc:  0.479,val loss:  2.037]  "
     ]
    },
    {
     "name": "stdout",
     "output_type": "stream",
     "text": [
      "Not a better score\n"
     ]
    },
    {
     "name": "stderr",
     "output_type": "stream",
     "text": [
      "Epoch 41,phase: Training: 42it [00:45,  1.07it/s, val acc:  0.479,val loss:  2.067]  "
     ]
    },
    {
     "name": "stdout",
     "output_type": "stream",
     "text": [
      "Not a better score\n"
     ]
    },
    {
     "name": "stderr",
     "output_type": "stream",
     "text": [
      "Epoch 42,phase: Training: 43it [00:45,  1.08it/s, val acc:  0.469,val loss:  2.048]  "
     ]
    },
    {
     "name": "stdout",
     "output_type": "stream",
     "text": [
      "Not a better score\n"
     ]
    },
    {
     "name": "stderr",
     "output_type": "stream",
     "text": [
      "Epoch 43,phase: Training: 44it [00:46,  1.08it/s, val acc:  0.469,val loss:  2.046]  "
     ]
    },
    {
     "name": "stdout",
     "output_type": "stream",
     "text": [
      "Not a better score\n"
     ]
    },
    {
     "name": "stderr",
     "output_type": "stream",
     "text": [
      "Epoch 44,phase: Training: 45it [00:47,  1.08it/s, val acc:  0.479,val loss:  2.044]  "
     ]
    },
    {
     "name": "stdout",
     "output_type": "stream",
     "text": [
      "Not a better score\n"
     ]
    },
    {
     "name": "stderr",
     "output_type": "stream",
     "text": [
      "Epoch 45,phase: Training: 46it [00:48,  1.09it/s, val acc:  0.469,val loss:  2.048]  "
     ]
    },
    {
     "name": "stdout",
     "output_type": "stream",
     "text": [
      "Not a better score\n"
     ]
    },
    {
     "name": "stderr",
     "output_type": "stream",
     "text": [
      "Epoch 46,phase: Training: 47it [00:49,  1.09it/s, val acc:  0.448,val loss:  2.058]  "
     ]
    },
    {
     "name": "stdout",
     "output_type": "stream",
     "text": [
      "Not a better score\n"
     ]
    },
    {
     "name": "stderr",
     "output_type": "stream",
     "text": [
      "Epoch 47,phase: Training: 48it [00:50,  1.10it/s, val acc:  0.490,val loss:  2.048]  "
     ]
    },
    {
     "name": "stdout",
     "output_type": "stream",
     "text": [
      "Not a better score\n"
     ]
    },
    {
     "name": "stderr",
     "output_type": "stream",
     "text": [
      "Epoch 48,phase: Training: 49it [00:51,  1.10it/s, val acc:  0.490,val loss:  2.051]  "
     ]
    },
    {
     "name": "stdout",
     "output_type": "stream",
     "text": [
      "Not a better score\n"
     ]
    },
    {
     "name": "stderr",
     "output_type": "stream",
     "text": [
      "Epoch 49,phase: Training: 50it [00:52,  1.10it/s, val acc:  0.448,val loss:  2.060]  "
     ]
    },
    {
     "name": "stdout",
     "output_type": "stream",
     "text": [
      "Not a better score\n"
     ]
    },
    {
     "name": "stderr",
     "output_type": "stream",
     "text": [
      "Epoch 50,phase: Training: 51it [00:53,  1.08it/s, val acc:  0.458,val loss:  2.056]  "
     ]
    },
    {
     "name": "stdout",
     "output_type": "stream",
     "text": [
      "Not a better score\n"
     ]
    },
    {
     "name": "stderr",
     "output_type": "stream",
     "text": [
      "Epoch 51,phase: Training: 52it [00:54,  1.08it/s, val acc:  0.458,val loss:  2.050]  "
     ]
    },
    {
     "name": "stdout",
     "output_type": "stream",
     "text": [
      "Not a better score\n"
     ]
    },
    {
     "name": "stderr",
     "output_type": "stream",
     "text": [
      "Epoch 52,phase: Training: 53it [00:55,  1.08it/s, val acc:  0.427,val loss:  2.068]  "
     ]
    },
    {
     "name": "stdout",
     "output_type": "stream",
     "text": [
      "Not a better score\n"
     ]
    },
    {
     "name": "stderr",
     "output_type": "stream",
     "text": [
      "Epoch 53,phase: Training: 54it [00:56,  1.08it/s, val acc:  0.469,val loss:  2.062]  "
     ]
    },
    {
     "name": "stdout",
     "output_type": "stream",
     "text": [
      "Not a better score\n"
     ]
    },
    {
     "name": "stderr",
     "output_type": "stream",
     "text": [
      "Epoch 54,phase: Training: 55it [00:57,  1.07it/s, val acc:  0.438,val loss:  2.064]  "
     ]
    },
    {
     "name": "stdout",
     "output_type": "stream",
     "text": [
      "Not a better score\n"
     ]
    },
    {
     "name": "stderr",
     "output_type": "stream",
     "text": [
      "Epoch 55,phase: Training: 56it [00:57,  1.07it/s, val acc:  0.438,val loss:  2.049]  "
     ]
    },
    {
     "name": "stdout",
     "output_type": "stream",
     "text": [
      "Not a better score\n"
     ]
    },
    {
     "name": "stderr",
     "output_type": "stream",
     "text": [
      "Epoch 56,phase: Training: 57it [00:58,  1.07it/s, val acc:  0.448,val loss:  2.068]  "
     ]
    },
    {
     "name": "stdout",
     "output_type": "stream",
     "text": [
      "Not a better score\n"
     ]
    },
    {
     "name": "stderr",
     "output_type": "stream",
     "text": [
      "Epoch 57,phase: Training: 58it [00:59,  1.07it/s, val acc:  0.438,val loss:  2.062]  "
     ]
    },
    {
     "name": "stdout",
     "output_type": "stream",
     "text": [
      "Not a better score\n"
     ]
    },
    {
     "name": "stderr",
     "output_type": "stream",
     "text": [
      "Epoch 58,phase: Training: 59it [01:00,  1.08it/s, val acc:  0.448,val loss:  2.049]  "
     ]
    },
    {
     "name": "stdout",
     "output_type": "stream",
     "text": [
      "Not a better score\n"
     ]
    },
    {
     "name": "stderr",
     "output_type": "stream",
     "text": [
      "Epoch 59,phase: Training: 60it [01:01,  1.07it/s, val acc:  0.469,val loss:  2.060]  "
     ]
    },
    {
     "name": "stdout",
     "output_type": "stream",
     "text": [
      "Not a better score\n"
     ]
    },
    {
     "name": "stderr",
     "output_type": "stream",
     "text": [
      "Epoch 60,phase: Training: 61it [01:02,  1.08it/s, val acc:  0.448,val loss:  2.068]  "
     ]
    },
    {
     "name": "stdout",
     "output_type": "stream",
     "text": [
      "Not a better score\n"
     ]
    },
    {
     "name": "stderr",
     "output_type": "stream",
     "text": [
      "Epoch 61,phase: Training: 62it [01:03,  1.09it/s, val acc:  0.448,val loss:  2.069]  "
     ]
    },
    {
     "name": "stdout",
     "output_type": "stream",
     "text": [
      "Not a better score\n"
     ]
    },
    {
     "name": "stderr",
     "output_type": "stream",
     "text": [
      "Epoch 62,phase: Training: 63it [01:04,  1.09it/s, val acc:  0.438,val loss:  2.059]  "
     ]
    },
    {
     "name": "stdout",
     "output_type": "stream",
     "text": [
      "Not a better score\n"
     ]
    },
    {
     "name": "stderr",
     "output_type": "stream",
     "text": [
      "Epoch 63,phase: Training: 64it [01:05,  1.09it/s, val acc:  0.448,val loss:  2.065]  "
     ]
    },
    {
     "name": "stdout",
     "output_type": "stream",
     "text": [
      "Not a better score\n"
     ]
    },
    {
     "name": "stderr",
     "output_type": "stream",
     "text": [
      "Epoch 64,phase: Training: 65it [01:06,  1.10it/s, val acc:  0.448,val loss:  2.060]  "
     ]
    },
    {
     "name": "stdout",
     "output_type": "stream",
     "text": [
      "Not a better score\n"
     ]
    },
    {
     "name": "stderr",
     "output_type": "stream",
     "text": [
      "Epoch 65,phase: Training: 66it [01:07,  1.09it/s, val acc:  0.448,val loss:  2.058]  "
     ]
    },
    {
     "name": "stdout",
     "output_type": "stream",
     "text": [
      "Not a better score\n"
     ]
    },
    {
     "name": "stderr",
     "output_type": "stream",
     "text": [
      "Epoch 66,phase: Training: 67it [01:08,  1.10it/s, val acc:  0.417,val loss:  2.069]  "
     ]
    },
    {
     "name": "stdout",
     "output_type": "stream",
     "text": [
      "Not a better score\n"
     ]
    },
    {
     "name": "stderr",
     "output_type": "stream",
     "text": [
      "Epoch 67,phase: Training: 68it [01:08,  1.10it/s, val acc:  0.438,val loss:  2.065]  "
     ]
    },
    {
     "name": "stdout",
     "output_type": "stream",
     "text": [
      "Not a better score\n"
     ]
    },
    {
     "name": "stderr",
     "output_type": "stream",
     "text": [
      "Epoch 68,phase: Training: 69it [01:09,  1.09it/s, val acc:  0.448,val loss:  2.061]  "
     ]
    },
    {
     "name": "stdout",
     "output_type": "stream",
     "text": [
      "Not a better score\n"
     ]
    },
    {
     "name": "stderr",
     "output_type": "stream",
     "text": [
      "Epoch 69,phase: Training: 70it [01:10,  1.09it/s, val acc:  0.448,val loss:  2.064]  "
     ]
    },
    {
     "name": "stdout",
     "output_type": "stream",
     "text": [
      "Not a better score\n"
     ]
    },
    {
     "name": "stderr",
     "output_type": "stream",
     "text": [
      "Epoch 70,phase: Training: 71it [01:11,  1.10it/s, val acc:  0.438,val loss:  2.060]  "
     ]
    },
    {
     "name": "stdout",
     "output_type": "stream",
     "text": [
      "Not a better score\n"
     ]
    },
    {
     "name": "stderr",
     "output_type": "stream",
     "text": [
      "Epoch 71,phase: Training: 72it [01:12,  1.11it/s, val acc:  0.427,val loss:  2.072]  "
     ]
    },
    {
     "name": "stdout",
     "output_type": "stream",
     "text": [
      "Not a better score\n"
     ]
    },
    {
     "name": "stderr",
     "output_type": "stream",
     "text": [
      "Epoch 72,phase: Training: 73it [01:13,  1.11it/s, val acc:  0.438,val loss:  2.059]  "
     ]
    },
    {
     "name": "stdout",
     "output_type": "stream",
     "text": [
      "Not a better score\n"
     ]
    },
    {
     "name": "stderr",
     "output_type": "stream",
     "text": [
      "Epoch 73,phase: Training: 74it [01:14,  1.11it/s, val acc:  0.438,val loss:  2.067]  "
     ]
    },
    {
     "name": "stdout",
     "output_type": "stream",
     "text": [
      "Not a better score\n"
     ]
    },
    {
     "name": "stderr",
     "output_type": "stream",
     "text": [
      "Epoch 74,phase: Training: 75it [01:15,  1.11it/s, val acc:  0.438,val loss:  2.068]  "
     ]
    },
    {
     "name": "stdout",
     "output_type": "stream",
     "text": [
      "Not a better score\n"
     ]
    },
    {
     "name": "stderr",
     "output_type": "stream",
     "text": [
      "Epoch 75,phase: Training: 76it [01:16,  1.11it/s, val acc:  0.469,val loss:  2.075]  "
     ]
    },
    {
     "name": "stdout",
     "output_type": "stream",
     "text": [
      "Not a better score\n"
     ]
    },
    {
     "name": "stderr",
     "output_type": "stream",
     "text": [
      "Epoch 76,phase: Training: 77it [01:17,  1.11it/s, val acc:  0.448,val loss:  2.074]  "
     ]
    },
    {
     "name": "stdout",
     "output_type": "stream",
     "text": [
      "Not a better score\n"
     ]
    },
    {
     "name": "stderr",
     "output_type": "stream",
     "text": [
      "Epoch 77,phase: Training: 78it [01:17,  1.11it/s, val acc:  0.448,val loss:  2.072]  "
     ]
    },
    {
     "name": "stdout",
     "output_type": "stream",
     "text": [
      "Not a better score\n"
     ]
    },
    {
     "name": "stderr",
     "output_type": "stream",
     "text": [
      "Epoch 78,phase: Training: 79it [01:18,  1.11it/s, val acc:  0.448,val loss:  2.067]  "
     ]
    },
    {
     "name": "stdout",
     "output_type": "stream",
     "text": [
      "Not a better score\n"
     ]
    },
    {
     "name": "stderr",
     "output_type": "stream",
     "text": [
      "Epoch 79,phase: Training: 80it [01:19,  1.11it/s, val acc:  0.448,val loss:  2.060]  "
     ]
    },
    {
     "name": "stdout",
     "output_type": "stream",
     "text": [
      "Not a better score\n"
     ]
    },
    {
     "name": "stderr",
     "output_type": "stream",
     "text": [
      "Epoch 80,phase: Training: 81it [01:20,  1.11it/s, val acc:  0.438,val loss:  2.070]  "
     ]
    },
    {
     "name": "stdout",
     "output_type": "stream",
     "text": [
      "Not a better score\n"
     ]
    },
    {
     "name": "stderr",
     "output_type": "stream",
     "text": [
      "Epoch 81,phase: Training: 82it [01:21,  1.11it/s, val acc:  0.438,val loss:  2.057]  "
     ]
    },
    {
     "name": "stdout",
     "output_type": "stream",
     "text": [
      "Not a better score\n"
     ]
    },
    {
     "name": "stderr",
     "output_type": "stream",
     "text": [
      "Epoch 82,phase: Training: 83it [01:22,  1.09it/s, val acc:  0.438,val loss:  2.058]  "
     ]
    },
    {
     "name": "stdout",
     "output_type": "stream",
     "text": [
      "Not a better score\n"
     ]
    },
    {
     "name": "stderr",
     "output_type": "stream",
     "text": [
      "Epoch 83,phase: Training: 84it [01:23,  1.10it/s, val acc:  0.448,val loss:  2.062]  "
     ]
    },
    {
     "name": "stdout",
     "output_type": "stream",
     "text": [
      "Not a better score\n"
     ]
    },
    {
     "name": "stderr",
     "output_type": "stream",
     "text": [
      "Epoch 84,phase: Training: 85it [01:24,  1.10it/s, val acc:  0.448,val loss:  2.073]  "
     ]
    },
    {
     "name": "stdout",
     "output_type": "stream",
     "text": [
      "Not a better score\n"
     ]
    },
    {
     "name": "stderr",
     "output_type": "stream",
     "text": [
      "Epoch 85,phase: Training: 86it [01:25,  1.04it/s, val acc:  0.448,val loss:  2.063]  "
     ]
    },
    {
     "name": "stdout",
     "output_type": "stream",
     "text": [
      "Not a better score\n"
     ]
    },
    {
     "name": "stderr",
     "output_type": "stream",
     "text": [
      "Epoch 86,phase: Training: 87it [01:26,  1.09s/it, val acc:  0.438,val loss:  2.080]  "
     ]
    },
    {
     "name": "stdout",
     "output_type": "stream",
     "text": [
      "Not a better score\n"
     ]
    },
    {
     "name": "stderr",
     "output_type": "stream",
     "text": [
      "Epoch 87,phase: Training: 88it [01:28,  1.18s/it, val acc:  0.448,val loss:  2.079]  "
     ]
    },
    {
     "name": "stdout",
     "output_type": "stream",
     "text": [
      "Not a better score\n"
     ]
    },
    {
     "name": "stderr",
     "output_type": "stream",
     "text": [
      "Epoch 88,phase: Training: 89it [01:29,  1.17s/it, val acc:  0.448,val loss:  2.059]  "
     ]
    },
    {
     "name": "stdout",
     "output_type": "stream",
     "text": [
      "Not a better score\n"
     ]
    },
    {
     "name": "stderr",
     "output_type": "stream",
     "text": [
      "Epoch 89,phase: Training: 90it [01:30,  1.10s/it, val acc:  0.438,val loss:  2.095]  "
     ]
    },
    {
     "name": "stdout",
     "output_type": "stream",
     "text": [
      "Not a better score\n"
     ]
    },
    {
     "name": "stderr",
     "output_type": "stream",
     "text": [
      "Epoch 90,phase: Training: 91it [01:31,  1.05s/it, val acc:  0.469,val loss:  2.051]  "
     ]
    },
    {
     "name": "stdout",
     "output_type": "stream",
     "text": [
      "Not a better score\n"
     ]
    },
    {
     "name": "stderr",
     "output_type": "stream",
     "text": [
      "Epoch 91,phase: Training: 92it [01:32,  1.02s/it, val acc:  0.427,val loss:  2.070]  "
     ]
    },
    {
     "name": "stdout",
     "output_type": "stream",
     "text": [
      "Not a better score\n"
     ]
    },
    {
     "name": "stderr",
     "output_type": "stream",
     "text": [
      "Epoch 92,phase: Training: 93it [01:33,  1.01it/s, val acc:  0.438,val loss:  2.074]  "
     ]
    },
    {
     "name": "stdout",
     "output_type": "stream",
     "text": [
      "Not a better score\n"
     ]
    },
    {
     "name": "stderr",
     "output_type": "stream",
     "text": [
      "Epoch 93,phase: Training: 94it [01:34,  1.03it/s, val acc:  0.438,val loss:  2.079]  "
     ]
    },
    {
     "name": "stdout",
     "output_type": "stream",
     "text": [
      "Not a better score\n"
     ]
    },
    {
     "name": "stderr",
     "output_type": "stream",
     "text": [
      "Epoch 94,phase: Training: 95it [01:34,  1.04it/s, val acc:  0.448,val loss:  2.068]  "
     ]
    },
    {
     "name": "stdout",
     "output_type": "stream",
     "text": [
      "Not a better score\n"
     ]
    },
    {
     "name": "stderr",
     "output_type": "stream",
     "text": [
      "Epoch 95,phase: Training: 96it [01:35,  1.04it/s, val acc:  0.438,val loss:  2.059]  "
     ]
    },
    {
     "name": "stdout",
     "output_type": "stream",
     "text": [
      "Not a better score\n"
     ]
    },
    {
     "name": "stderr",
     "output_type": "stream",
     "text": [
      "Epoch 96,phase: Training: 97it [01:36,  1.04it/s, val acc:  0.438,val loss:  2.070]  "
     ]
    },
    {
     "name": "stdout",
     "output_type": "stream",
     "text": [
      "Not a better score\n"
     ]
    },
    {
     "name": "stderr",
     "output_type": "stream",
     "text": [
      "Epoch 97,phase: Training: 98it [01:37,  1.04it/s, val acc:  0.448,val loss:  2.074]  "
     ]
    },
    {
     "name": "stdout",
     "output_type": "stream",
     "text": [
      "Not a better score\n"
     ]
    },
    {
     "name": "stderr",
     "output_type": "stream",
     "text": [
      "Epoch 98,phase: Training: 99it [01:38,  1.05it/s, val acc:  0.438,val loss:  2.063]  "
     ]
    },
    {
     "name": "stdout",
     "output_type": "stream",
     "text": [
      "Not a better score\n"
     ]
    },
    {
     "name": "stderr",
     "output_type": "stream",
     "text": [
      "Epoch 99,phase: Training: 100it [01:39,  1.05it/s, val acc:  0.448,val loss:  2.055]  "
     ]
    },
    {
     "name": "stdout",
     "output_type": "stream",
     "text": [
      "Not a better score\n"
     ]
    },
    {
     "name": "stderr",
     "output_type": "stream",
     "text": [
      "Epoch 100,phase: Training: 101it [01:40,  1.05it/s, val acc:  0.448,val loss:  2.072] "
     ]
    },
    {
     "name": "stdout",
     "output_type": "stream",
     "text": [
      "Not a better score\n"
     ]
    },
    {
     "name": "stderr",
     "output_type": "stream",
     "text": [
      "Epoch 101,phase: Training: 102it [01:41,  1.05it/s, val acc:  0.448,val loss:  2.063]  "
     ]
    },
    {
     "name": "stdout",
     "output_type": "stream",
     "text": [
      "Not a better score\n"
     ]
    },
    {
     "name": "stderr",
     "output_type": "stream",
     "text": [
      "Epoch 102,phase: Training: 103it [01:42,  1.05it/s, val acc:  0.438,val loss:  2.064]  "
     ]
    },
    {
     "name": "stdout",
     "output_type": "stream",
     "text": [
      "Not a better score\n"
     ]
    },
    {
     "name": "stderr",
     "output_type": "stream",
     "text": [
      "Epoch 103,phase: Training: 104it [01:43,  1.06it/s, val acc:  0.448,val loss:  2.073]  "
     ]
    },
    {
     "name": "stdout",
     "output_type": "stream",
     "text": [
      "Not a better score\n"
     ]
    },
    {
     "name": "stderr",
     "output_type": "stream",
     "text": [
      "Epoch 104,phase: Training: 105it [01:44,  1.06it/s, val acc:  0.448,val loss:  2.075]  "
     ]
    },
    {
     "name": "stdout",
     "output_type": "stream",
     "text": [
      "Not a better score\n"
     ]
    },
    {
     "name": "stderr",
     "output_type": "stream",
     "text": [
      "Epoch 105,phase: Training: 106it [01:45,  1.06it/s, val acc:  0.448,val loss:  2.061]  "
     ]
    },
    {
     "name": "stdout",
     "output_type": "stream",
     "text": [
      "Not a better score\n"
     ]
    },
    {
     "name": "stderr",
     "output_type": "stream",
     "text": [
      "Epoch 106,phase: Training: 107it [01:46,  1.06it/s, val acc:  0.448,val loss:  2.041]  "
     ]
    },
    {
     "name": "stdout",
     "output_type": "stream",
     "text": [
      "Not a better score\n"
     ]
    },
    {
     "name": "stderr",
     "output_type": "stream",
     "text": [
      "Epoch 107,phase: Training: 108it [01:47,  1.07it/s, val acc:  0.448,val loss:  2.048]  "
     ]
    },
    {
     "name": "stdout",
     "output_type": "stream",
     "text": [
      "Not a better score\n"
     ]
    },
    {
     "name": "stderr",
     "output_type": "stream",
     "text": [
      "Epoch 108,phase: Training: 109it [01:48,  1.07it/s, val acc:  0.427,val loss:  2.070]  "
     ]
    },
    {
     "name": "stdout",
     "output_type": "stream",
     "text": [
      "Not a better score\n"
     ]
    },
    {
     "name": "stderr",
     "output_type": "stream",
     "text": [
      "Epoch 109,phase: Training: 110it [01:49,  1.07it/s, val acc:  0.448,val loss:  2.069]  "
     ]
    },
    {
     "name": "stdout",
     "output_type": "stream",
     "text": [
      "Not a better score\n"
     ]
    },
    {
     "name": "stderr",
     "output_type": "stream",
     "text": [
      "Epoch 110,phase: Training: 111it [01:50,  1.08it/s, val acc:  0.448,val loss:  2.071]  "
     ]
    },
    {
     "name": "stdout",
     "output_type": "stream",
     "text": [
      "Not a better score\n"
     ]
    },
    {
     "name": "stderr",
     "output_type": "stream",
     "text": [
      "Epoch 111,phase: Training: 112it [01:51,  1.07it/s, val acc:  0.448,val loss:  2.074]  "
     ]
    },
    {
     "name": "stdout",
     "output_type": "stream",
     "text": [
      "Not a better score\n"
     ]
    },
    {
     "name": "stderr",
     "output_type": "stream",
     "text": [
      "Epoch 112,phase: Training: 113it [01:51,  1.06it/s, val acc:  0.438,val loss:  2.073]  "
     ]
    },
    {
     "name": "stdout",
     "output_type": "stream",
     "text": [
      "Not a better score\n"
     ]
    },
    {
     "name": "stderr",
     "output_type": "stream",
     "text": [
      "Epoch 113,phase: Training: 114it [01:52,  1.06it/s, val acc:  0.438,val loss:  2.062]  "
     ]
    },
    {
     "name": "stdout",
     "output_type": "stream",
     "text": [
      "Not a better score\n"
     ]
    },
    {
     "name": "stderr",
     "output_type": "stream",
     "text": [
      "Epoch 114,phase: Training: 115it [01:53,  1.06it/s, val acc:  0.448,val loss:  2.059]  "
     ]
    },
    {
     "name": "stdout",
     "output_type": "stream",
     "text": [
      "Not a better score\n"
     ]
    },
    {
     "name": "stderr",
     "output_type": "stream",
     "text": [
      "Epoch 115,phase: Training: 116it [01:54,  1.05it/s, val acc:  0.448,val loss:  2.067]  "
     ]
    },
    {
     "name": "stdout",
     "output_type": "stream",
     "text": [
      "Not a better score\n"
     ]
    },
    {
     "name": "stderr",
     "output_type": "stream",
     "text": [
      "Epoch 116,phase: Training: 117it [01:55,  1.05it/s, val acc:  0.448,val loss:  2.063]  "
     ]
    },
    {
     "name": "stdout",
     "output_type": "stream",
     "text": [
      "Not a better score\n"
     ]
    },
    {
     "name": "stderr",
     "output_type": "stream",
     "text": [
      "Epoch 117,phase: Training: 118it [01:56,  1.05it/s, val acc:  0.427,val loss:  2.080]  "
     ]
    },
    {
     "name": "stdout",
     "output_type": "stream",
     "text": [
      "Not a better score\n"
     ]
    },
    {
     "name": "stderr",
     "output_type": "stream",
     "text": [
      "Epoch 118,phase: Training: 119it [01:57,  1.04it/s, val acc:  0.448,val loss:  2.074]  "
     ]
    },
    {
     "name": "stdout",
     "output_type": "stream",
     "text": [
      "Not a better score\n"
     ]
    },
    {
     "name": "stderr",
     "output_type": "stream",
     "text": [
      "Epoch 119,phase: Training: 120it [01:58,  1.04it/s, val acc:  0.448,val loss:  2.062]  "
     ]
    },
    {
     "name": "stdout",
     "output_type": "stream",
     "text": [
      "Not a better score\n"
     ]
    },
    {
     "name": "stderr",
     "output_type": "stream",
     "text": [
      "Epoch 120,phase: Training: 121it [01:59,  1.04it/s, val acc:  0.438,val loss:  2.083]  "
     ]
    },
    {
     "name": "stdout",
     "output_type": "stream",
     "text": [
      "Not a better score\n"
     ]
    },
    {
     "name": "stderr",
     "output_type": "stream",
     "text": [
      "Epoch 121,phase: Training: 122it [02:00,  1.05it/s, val acc:  0.448,val loss:  2.081]  "
     ]
    },
    {
     "name": "stdout",
     "output_type": "stream",
     "text": [
      "Not a better score\n"
     ]
    },
    {
     "name": "stderr",
     "output_type": "stream",
     "text": [
      "Epoch 122,phase: Training: 123it [02:01,  1.05it/s, val acc:  0.438,val loss:  2.070]  "
     ]
    },
    {
     "name": "stdout",
     "output_type": "stream",
     "text": [
      "Not a better score\n"
     ]
    },
    {
     "name": "stderr",
     "output_type": "stream",
     "text": [
      "Epoch 123,phase: Training: 124it [02:02,  1.05it/s, val acc:  0.448,val loss:  2.064]  "
     ]
    },
    {
     "name": "stdout",
     "output_type": "stream",
     "text": [
      "Not a better score\n"
     ]
    },
    {
     "name": "stderr",
     "output_type": "stream",
     "text": [
      "Epoch 124,phase: Training: 125it [02:03,  1.06it/s, val acc:  0.438,val loss:  2.071]  "
     ]
    },
    {
     "name": "stdout",
     "output_type": "stream",
     "text": [
      "Not a better score\n"
     ]
    },
    {
     "name": "stderr",
     "output_type": "stream",
     "text": [
      "Epoch 125,phase: Training: 126it [02:04,  1.06it/s, val acc:  0.438,val loss:  2.080]  "
     ]
    },
    {
     "name": "stdout",
     "output_type": "stream",
     "text": [
      "Not a better score\n"
     ]
    },
    {
     "name": "stderr",
     "output_type": "stream",
     "text": [
      "Epoch 126,phase: Training: 127it [02:05,  1.06it/s, val acc:  0.438,val loss:  2.067]  "
     ]
    },
    {
     "name": "stdout",
     "output_type": "stream",
     "text": [
      "Not a better score\n"
     ]
    },
    {
     "name": "stderr",
     "output_type": "stream",
     "text": [
      "Epoch 127,phase: Training: 128it [02:06,  1.05it/s, val acc:  0.448,val loss:  2.079]  "
     ]
    },
    {
     "name": "stdout",
     "output_type": "stream",
     "text": [
      "Not a better score\n"
     ]
    },
    {
     "name": "stderr",
     "output_type": "stream",
     "text": [
      "Epoch 128,phase: Training: 129it [02:07,  1.05it/s, val acc:  0.448,val loss:  2.083]  "
     ]
    },
    {
     "name": "stdout",
     "output_type": "stream",
     "text": [
      "Not a better score\n"
     ]
    },
    {
     "name": "stderr",
     "output_type": "stream",
     "text": [
      "Epoch 129,phase: Training: 130it [02:08,  1.06it/s, val acc:  0.438,val loss:  2.074]  "
     ]
    },
    {
     "name": "stdout",
     "output_type": "stream",
     "text": [
      "Not a better score\n"
     ]
    },
    {
     "name": "stderr",
     "output_type": "stream",
     "text": [
      "Epoch 130,phase: Training: 131it [02:09,  1.08s/it, val acc:  0.438,val loss:  2.083]  "
     ]
    },
    {
     "name": "stdout",
     "output_type": "stream",
     "text": [
      "Not a better score\n"
     ]
    },
    {
     "name": "stderr",
     "output_type": "stream",
     "text": [
      "Epoch 131,phase: Training: 132it [02:11,  1.20s/it, val acc:  0.448,val loss:  2.069]  "
     ]
    },
    {
     "name": "stdout",
     "output_type": "stream",
     "text": [
      "Not a better score\n"
     ]
    },
    {
     "name": "stderr",
     "output_type": "stream",
     "text": [
      "Epoch 132,phase: Training: 133it [02:12,  1.25s/it, val acc:  0.438,val loss:  2.078]  "
     ]
    },
    {
     "name": "stdout",
     "output_type": "stream",
     "text": [
      "Not a better score\n"
     ]
    },
    {
     "name": "stderr",
     "output_type": "stream",
     "text": [
      "Epoch 133,phase: Training: 134it [02:13,  1.19s/it, val acc:  0.438,val loss:  2.069]  "
     ]
    },
    {
     "name": "stdout",
     "output_type": "stream",
     "text": [
      "Not a better score\n"
     ]
    },
    {
     "name": "stderr",
     "output_type": "stream",
     "text": [
      "Epoch 134,phase: Training: 135it [02:14,  1.26s/it, val acc:  0.448,val loss:  2.088]  "
     ]
    },
    {
     "name": "stdout",
     "output_type": "stream",
     "text": [
      "Not a better score\n"
     ]
    },
    {
     "name": "stderr",
     "output_type": "stream",
     "text": [
      "Epoch 135,phase: Training: 136it [02:16,  1.29s/it, val acc:  0.448,val loss:  2.075]  "
     ]
    },
    {
     "name": "stdout",
     "output_type": "stream",
     "text": [
      "Not a better score\n"
     ]
    },
    {
     "name": "stderr",
     "output_type": "stream",
     "text": [
      "Epoch 136,phase: Training: 137it [02:17,  1.33s/it, val acc:  0.438,val loss:  2.071]  "
     ]
    },
    {
     "name": "stdout",
     "output_type": "stream",
     "text": [
      "Not a better score\n"
     ]
    },
    {
     "name": "stderr",
     "output_type": "stream",
     "text": [
      "Epoch 137,phase: Training: 138it [02:18,  1.22s/it, val acc:  0.448,val loss:  2.089]  "
     ]
    },
    {
     "name": "stdout",
     "output_type": "stream",
     "text": [
      "Not a better score\n"
     ]
    },
    {
     "name": "stderr",
     "output_type": "stream",
     "text": [
      "Epoch 138,phase: Training: 139it [02:19,  1.14s/it, val acc:  0.438,val loss:  2.085]  "
     ]
    },
    {
     "name": "stdout",
     "output_type": "stream",
     "text": [
      "Not a better score\n"
     ]
    },
    {
     "name": "stderr",
     "output_type": "stream",
     "text": [
      "Epoch 139,phase: Training: 140it [02:20,  1.09s/it, val acc:  0.438,val loss:  2.081]  "
     ]
    },
    {
     "name": "stdout",
     "output_type": "stream",
     "text": [
      "Not a better score\n"
     ]
    },
    {
     "name": "stderr",
     "output_type": "stream",
     "text": [
      "Epoch 140,phase: Training: 141it [02:21,  1.05s/it, val acc:  0.438,val loss:  2.084]  "
     ]
    },
    {
     "name": "stdout",
     "output_type": "stream",
     "text": [
      "Not a better score\n"
     ]
    },
    {
     "name": "stderr",
     "output_type": "stream",
     "text": [
      "Epoch 141,phase: Training: 142it [02:22,  1.03s/it, val acc:  0.438,val loss:  2.078]  "
     ]
    },
    {
     "name": "stdout",
     "output_type": "stream",
     "text": [
      "Not a better score\n"
     ]
    },
    {
     "name": "stderr",
     "output_type": "stream",
     "text": [
      "Epoch 142,phase: Training: 143it [02:23,  1.00s/it, val acc:  0.438,val loss:  2.061]  "
     ]
    },
    {
     "name": "stdout",
     "output_type": "stream",
     "text": [
      "Not a better score\n"
     ]
    },
    {
     "name": "stderr",
     "output_type": "stream",
     "text": [
      "Epoch 143,phase: Training: 144it [02:24,  1.02it/s, val acc:  0.427,val loss:  2.077]  "
     ]
    },
    {
     "name": "stdout",
     "output_type": "stream",
     "text": [
      "Not a better score\n"
     ]
    },
    {
     "name": "stderr",
     "output_type": "stream",
     "text": [
      "Epoch 144,phase: Training: 145it [02:25,  1.03it/s, val acc:  0.448,val loss:  2.065]  "
     ]
    },
    {
     "name": "stdout",
     "output_type": "stream",
     "text": [
      "Not a better score\n"
     ]
    },
    {
     "name": "stderr",
     "output_type": "stream",
     "text": [
      "Epoch 145,phase: Training: 146it [02:26,  1.04it/s, val acc:  0.448,val loss:  2.079]  "
     ]
    },
    {
     "name": "stdout",
     "output_type": "stream",
     "text": [
      "Not a better score\n"
     ]
    },
    {
     "name": "stderr",
     "output_type": "stream",
     "text": [
      "Epoch 146,phase: Training: 147it [02:27,  1.04it/s, val acc:  0.427,val loss:  2.075]  "
     ]
    },
    {
     "name": "stdout",
     "output_type": "stream",
     "text": [
      "Not a better score\n"
     ]
    },
    {
     "name": "stderr",
     "output_type": "stream",
     "text": [
      "Epoch 147,phase: Training: 148it [02:28,  1.04it/s, val acc:  0.448,val loss:  2.089]  "
     ]
    },
    {
     "name": "stdout",
     "output_type": "stream",
     "text": [
      "Not a better score\n"
     ]
    },
    {
     "name": "stderr",
     "output_type": "stream",
     "text": [
      "Epoch 148,phase: Training: 149it [02:29,  1.04it/s, val acc:  0.438,val loss:  2.084]  "
     ]
    },
    {
     "name": "stdout",
     "output_type": "stream",
     "text": [
      "Not a better score\n"
     ]
    },
    {
     "name": "stderr",
     "output_type": "stream",
     "text": [
      "Epoch 149,phase: Training: 150it [02:30,  1.05it/s, val acc:  0.406,val loss:  2.092]  "
     ]
    },
    {
     "name": "stdout",
     "output_type": "stream",
     "text": [
      "Not a better score\n"
     ]
    },
    {
     "name": "stderr",
     "output_type": "stream",
     "text": [
      "Epoch 150,phase: Training: 151it [02:31,  1.03it/s, val acc:  0.438,val loss:  2.070]  "
     ]
    },
    {
     "name": "stdout",
     "output_type": "stream",
     "text": [
      "Not a better score\n"
     ]
    },
    {
     "name": "stderr",
     "output_type": "stream",
     "text": [
      "Epoch 151,phase: Training: 152it [02:31,  1.04it/s, val acc:  0.438,val loss:  2.066]  "
     ]
    },
    {
     "name": "stdout",
     "output_type": "stream",
     "text": [
      "Not a better score\n"
     ]
    },
    {
     "name": "stderr",
     "output_type": "stream",
     "text": [
      "Epoch 152,phase: Training: 153it [02:32,  1.04it/s, val acc:  0.469,val loss:  2.055]  "
     ]
    },
    {
     "name": "stdout",
     "output_type": "stream",
     "text": [
      "Not a better score\n"
     ]
    },
    {
     "name": "stderr",
     "output_type": "stream",
     "text": [
      "Epoch 153,phase: Training: 154it [02:33,  1.05it/s, val acc:  0.458,val loss:  2.066]  "
     ]
    },
    {
     "name": "stdout",
     "output_type": "stream",
     "text": [
      "Not a better score\n"
     ]
    },
    {
     "name": "stderr",
     "output_type": "stream",
     "text": [
      "Epoch 154,phase: Training: 155it [02:34,  1.05it/s, val acc:  0.448,val loss:  2.073]  "
     ]
    },
    {
     "name": "stdout",
     "output_type": "stream",
     "text": [
      "Not a better score\n"
     ]
    },
    {
     "name": "stderr",
     "output_type": "stream",
     "text": [
      "Epoch 155,phase: Training: 156it [02:35,  1.04it/s, val acc:  0.448,val loss:  2.056]  "
     ]
    },
    {
     "name": "stdout",
     "output_type": "stream",
     "text": [
      "Not a better score\n"
     ]
    },
    {
     "name": "stderr",
     "output_type": "stream",
     "text": [
      "Epoch 156,phase: Training: 157it [02:36,  1.05it/s, val acc:  0.406,val loss:  2.110]  "
     ]
    },
    {
     "name": "stdout",
     "output_type": "stream",
     "text": [
      "Not a better score\n"
     ]
    },
    {
     "name": "stderr",
     "output_type": "stream",
     "text": [
      "Epoch 157,phase: Training: 158it [02:37,  1.04it/s, val acc:  0.427,val loss:  2.096]  "
     ]
    },
    {
     "name": "stdout",
     "output_type": "stream",
     "text": [
      "Not a better score\n"
     ]
    },
    {
     "name": "stderr",
     "output_type": "stream",
     "text": [
      "Epoch 158,phase: Training: 159it [02:38,  1.05it/s, val acc:  0.458,val loss:  2.063]  "
     ]
    },
    {
     "name": "stdout",
     "output_type": "stream",
     "text": [
      "Not a better score\n"
     ]
    },
    {
     "name": "stderr",
     "output_type": "stream",
     "text": [
      "Epoch 159,phase: Training: 160it [02:39,  1.05it/s, val acc:  0.438,val loss:  2.070]  "
     ]
    },
    {
     "name": "stdout",
     "output_type": "stream",
     "text": [
      "Not a better score\n"
     ]
    },
    {
     "name": "stderr",
     "output_type": "stream",
     "text": [
      "Epoch 160,phase: Training: 161it [02:40,  1.04it/s, val acc:  0.438,val loss:  2.071]  "
     ]
    },
    {
     "name": "stdout",
     "output_type": "stream",
     "text": [
      "Not a better score\n"
     ]
    },
    {
     "name": "stderr",
     "output_type": "stream",
     "text": [
      "Epoch 161,phase: Training: 162it [02:41,  1.05it/s, val acc:  0.438,val loss:  2.070]  "
     ]
    },
    {
     "name": "stdout",
     "output_type": "stream",
     "text": [
      "Not a better score\n"
     ]
    },
    {
     "name": "stderr",
     "output_type": "stream",
     "text": [
      "Epoch 162,phase: Training: 163it [02:42,  1.05it/s, val acc:  0.438,val loss:  2.079]  "
     ]
    },
    {
     "name": "stdout",
     "output_type": "stream",
     "text": [
      "Not a better score\n"
     ]
    },
    {
     "name": "stderr",
     "output_type": "stream",
     "text": [
      "Epoch 163,phase: Training: 164it [02:43,  1.05it/s, val acc:  0.448,val loss:  2.052]  "
     ]
    },
    {
     "name": "stdout",
     "output_type": "stream",
     "text": [
      "Not a better score\n"
     ]
    },
    {
     "name": "stderr",
     "output_type": "stream",
     "text": [
      "Epoch 164,phase: Training: 165it [02:44,  1.05it/s, val acc:  0.458,val loss:  2.054]  "
     ]
    },
    {
     "name": "stdout",
     "output_type": "stream",
     "text": [
      "Not a better score\n"
     ]
    },
    {
     "name": "stderr",
     "output_type": "stream",
     "text": [
      "Epoch 165,phase: Training: 166it [02:45,  1.05it/s, val acc:  0.438,val loss:  2.058]  "
     ]
    },
    {
     "name": "stdout",
     "output_type": "stream",
     "text": [
      "Not a better score\n"
     ]
    },
    {
     "name": "stderr",
     "output_type": "stream",
     "text": [
      "Epoch 166,phase: Training: 167it [02:46,  1.04it/s, val acc:  0.438,val loss:  2.068]  "
     ]
    },
    {
     "name": "stdout",
     "output_type": "stream",
     "text": [
      "Not a better score\n"
     ]
    },
    {
     "name": "stderr",
     "output_type": "stream",
     "text": [
      "Epoch 167,phase: Training: 168it [02:47,  1.04it/s, val acc:  0.438,val loss:  2.084]  "
     ]
    },
    {
     "name": "stdout",
     "output_type": "stream",
     "text": [
      "Not a better score\n"
     ]
    },
    {
     "name": "stderr",
     "output_type": "stream",
     "text": [
      "Epoch 168,phase: Training: 169it [02:48,  1.04it/s, val acc:  0.458,val loss:  2.077]  "
     ]
    },
    {
     "name": "stdout",
     "output_type": "stream",
     "text": [
      "Not a better score\n"
     ]
    },
    {
     "name": "stderr",
     "output_type": "stream",
     "text": [
      "Epoch 169,phase: Training: 170it [02:49,  1.04it/s, val acc:  0.438,val loss:  2.088]  "
     ]
    },
    {
     "name": "stdout",
     "output_type": "stream",
     "text": [
      "Not a better score\n"
     ]
    },
    {
     "name": "stderr",
     "output_type": "stream",
     "text": [
      "Epoch 170,phase: Training: 171it [02:50,  1.04it/s, val acc:  0.438,val loss:  2.068]  "
     ]
    },
    {
     "name": "stdout",
     "output_type": "stream",
     "text": [
      "Not a better score\n"
     ]
    },
    {
     "name": "stderr",
     "output_type": "stream",
     "text": [
      "Epoch 171,phase: Training: 172it [02:51,  1.04it/s, val acc:  0.448,val loss:  2.082]  "
     ]
    },
    {
     "name": "stdout",
     "output_type": "stream",
     "text": [
      "Not a better score\n"
     ]
    },
    {
     "name": "stderr",
     "output_type": "stream",
     "text": [
      "Epoch 172,phase: Training: 173it [02:52,  1.03it/s, val acc:  0.427,val loss:  2.080]  "
     ]
    },
    {
     "name": "stdout",
     "output_type": "stream",
     "text": [
      "Not a better score\n"
     ]
    },
    {
     "name": "stderr",
     "output_type": "stream",
     "text": [
      "Epoch 173,phase: Training: 174it [02:53,  1.02it/s, val acc:  0.438,val loss:  2.079]  "
     ]
    },
    {
     "name": "stdout",
     "output_type": "stream",
     "text": [
      "Not a better score\n"
     ]
    },
    {
     "name": "stderr",
     "output_type": "stream",
     "text": [
      "Epoch 174,phase: Training: 175it [02:54,  1.03it/s, val acc:  0.448,val loss:  2.079]  "
     ]
    },
    {
     "name": "stdout",
     "output_type": "stream",
     "text": [
      "Not a better score\n"
     ]
    },
    {
     "name": "stderr",
     "output_type": "stream",
     "text": [
      "Epoch 175,phase: Training: 176it [02:55,  1.03it/s, val acc:  0.448,val loss:  2.069]  "
     ]
    },
    {
     "name": "stdout",
     "output_type": "stream",
     "text": [
      "Not a better score\n"
     ]
    },
    {
     "name": "stderr",
     "output_type": "stream",
     "text": [
      "Epoch 176,phase: Training: 177it [02:56,  1.04it/s, val acc:  0.427,val loss:  2.058]  "
     ]
    },
    {
     "name": "stdout",
     "output_type": "stream",
     "text": [
      "Not a better score\n"
     ]
    },
    {
     "name": "stderr",
     "output_type": "stream",
     "text": [
      "Epoch 177,phase: Training: 178it [02:56,  1.04it/s, val acc:  0.448,val loss:  2.061]  "
     ]
    },
    {
     "name": "stdout",
     "output_type": "stream",
     "text": [
      "Not a better score\n"
     ]
    },
    {
     "name": "stderr",
     "output_type": "stream",
     "text": [
      "Epoch 178,phase: Training: 179it [02:57,  1.04it/s, val acc:  0.448,val loss:  2.072]  "
     ]
    },
    {
     "name": "stdout",
     "output_type": "stream",
     "text": [
      "Not a better score\n"
     ]
    },
    {
     "name": "stderr",
     "output_type": "stream",
     "text": [
      "Epoch 179,phase: Training: 180it [02:58,  1.02it/s, val acc:  0.417,val loss:  2.077]  "
     ]
    },
    {
     "name": "stdout",
     "output_type": "stream",
     "text": [
      "Not a better score\n"
     ]
    },
    {
     "name": "stderr",
     "output_type": "stream",
     "text": [
      "Epoch 180,phase: Training: 181it [02:59,  1.02it/s, val acc:  0.448,val loss:  2.065]  "
     ]
    },
    {
     "name": "stdout",
     "output_type": "stream",
     "text": [
      "Not a better score\n"
     ]
    },
    {
     "name": "stderr",
     "output_type": "stream",
     "text": [
      "Epoch 181,phase: Training: 182it [03:00,  1.02it/s, val acc:  0.448,val loss:  2.065]  "
     ]
    },
    {
     "name": "stdout",
     "output_type": "stream",
     "text": [
      "Not a better score\n"
     ]
    },
    {
     "name": "stderr",
     "output_type": "stream",
     "text": [
      "Epoch 182,phase: Training: 183it [03:01,  1.03it/s, val acc:  0.448,val loss:  2.070]  "
     ]
    },
    {
     "name": "stdout",
     "output_type": "stream",
     "text": [
      "Not a better score\n"
     ]
    },
    {
     "name": "stderr",
     "output_type": "stream",
     "text": [
      "Epoch 183,phase: Training: 184it [03:03,  1.09s/it, val acc:  0.417,val loss:  2.086]  "
     ]
    },
    {
     "name": "stdout",
     "output_type": "stream",
     "text": [
      "Not a better score\n"
     ]
    },
    {
     "name": "stderr",
     "output_type": "stream",
     "text": [
      "Epoch 184,phase: Training: 185it [03:04,  1.21s/it, val acc:  0.448,val loss:  2.065]  "
     ]
    },
    {
     "name": "stdout",
     "output_type": "stream",
     "text": [
      "Not a better score\n"
     ]
    },
    {
     "name": "stderr",
     "output_type": "stream",
     "text": [
      "Epoch 185,phase: Training: 186it [03:06,  1.27s/it, val acc:  0.427,val loss:  2.063]  "
     ]
    },
    {
     "name": "stdout",
     "output_type": "stream",
     "text": [
      "Not a better score\n"
     ]
    },
    {
     "name": "stderr",
     "output_type": "stream",
     "text": [
      "Epoch 186,phase: Training: 187it [03:07,  1.20s/it, val acc:  0.469,val loss:  2.058]  "
     ]
    },
    {
     "name": "stdout",
     "output_type": "stream",
     "text": [
      "Not a better score\n"
     ]
    },
    {
     "name": "stderr",
     "output_type": "stream",
     "text": [
      "Epoch 187,phase: Training: 188it [03:08,  1.12s/it, val acc:  0.458,val loss:  2.044]  "
     ]
    },
    {
     "name": "stdout",
     "output_type": "stream",
     "text": [
      "Not a better score\n"
     ]
    },
    {
     "name": "stderr",
     "output_type": "stream",
     "text": [
      "Epoch 188,phase: Training: 189it [03:09,  1.07s/it, val acc:  0.427,val loss:  2.065]  "
     ]
    },
    {
     "name": "stdout",
     "output_type": "stream",
     "text": [
      "Not a better score\n"
     ]
    },
    {
     "name": "stderr",
     "output_type": "stream",
     "text": [
      "Epoch 189,phase: Training: 190it [03:10,  1.04s/it, val acc:  0.448,val loss:  2.050]  "
     ]
    },
    {
     "name": "stdout",
     "output_type": "stream",
     "text": [
      "Not a better score\n"
     ]
    },
    {
     "name": "stderr",
     "output_type": "stream",
     "text": [
      "Epoch 190,phase: Training: 191it [03:11,  1.03s/it, val acc:  0.479,val loss:  2.054]  "
     ]
    },
    {
     "name": "stdout",
     "output_type": "stream",
     "text": [
      "Not a better score\n"
     ]
    },
    {
     "name": "stderr",
     "output_type": "stream",
     "text": [
      "Epoch 191,phase: Training: 192it [03:11,  1.00s/it, val acc:  0.448,val loss:  2.063]  "
     ]
    },
    {
     "name": "stdout",
     "output_type": "stream",
     "text": [
      "Not a better score\n"
     ]
    },
    {
     "name": "stderr",
     "output_type": "stream",
     "text": [
      "Epoch 192,phase: Training: 193it [03:12,  1.01it/s, val acc:  0.448,val loss:  2.068]  "
     ]
    },
    {
     "name": "stdout",
     "output_type": "stream",
     "text": [
      "Not a better score\n"
     ]
    },
    {
     "name": "stderr",
     "output_type": "stream",
     "text": [
      "Epoch 193,phase: Training: 194it [03:13,  1.02it/s, val acc:  0.458,val loss:  2.056]  "
     ]
    },
    {
     "name": "stdout",
     "output_type": "stream",
     "text": [
      "Not a better score\n"
     ]
    },
    {
     "name": "stderr",
     "output_type": "stream",
     "text": [
      "Epoch 194,phase: Training: 195it [03:14,  1.03it/s, val acc:  0.469,val loss:  2.045]  "
     ]
    },
    {
     "name": "stdout",
     "output_type": "stream",
     "text": [
      "Not a better score\n"
     ]
    },
    {
     "name": "stderr",
     "output_type": "stream",
     "text": [
      "Epoch 195,phase: Training: 196it [03:15,  1.03it/s, val acc:  0.458,val loss:  2.056]  "
     ]
    },
    {
     "name": "stdout",
     "output_type": "stream",
     "text": [
      "Not a better score\n"
     ]
    },
    {
     "name": "stderr",
     "output_type": "stream",
     "text": [
      "Epoch 196,phase: Training: 197it [03:16,  1.03it/s, val acc:  0.448,val loss:  2.048]  "
     ]
    },
    {
     "name": "stdout",
     "output_type": "stream",
     "text": [
      "Not a better score\n"
     ]
    },
    {
     "name": "stderr",
     "output_type": "stream",
     "text": [
      "Epoch 197,phase: Training: 198it [03:17,  1.03it/s, val acc:  0.458,val loss:  2.064]  "
     ]
    },
    {
     "name": "stdout",
     "output_type": "stream",
     "text": [
      "Not a better score\n"
     ]
    },
    {
     "name": "stderr",
     "output_type": "stream",
     "text": [
      "Epoch 198,phase: Training: 199it [03:18,  1.03it/s, val acc:  0.458,val loss:  2.059]  "
     ]
    },
    {
     "name": "stdout",
     "output_type": "stream",
     "text": [
      "Not a better score\n"
     ]
    },
    {
     "name": "stderr",
     "output_type": "stream",
     "text": [
      "Epoch 199,phase: Training: 200it [03:19,  1.03it/s, val acc:  0.448,val loss:  2.062]  "
     ]
    },
    {
     "name": "stdout",
     "output_type": "stream",
     "text": [
      "Not a better score\n"
     ]
    },
    {
     "name": "stderr",
     "output_type": "stream",
     "text": [
      "Epoch 199,phase: Validation: 200it [03:20,  1.00s/it, val acc:  0.448,val loss:  2.058]"
     ]
    },
    {
     "name": "stdout",
     "output_type": "stream",
     "text": [
      "Not a better score\n",
      "Training ended returning the best model\n",
      "Best val acc: 0.5164835164835165, Best val loss: 2.034157911936442, Best train acc: 0.65, Best train loss: 1.894924241563548 \n"
     ]
    },
    {
     "name": "stderr",
     "output_type": "stream",
     "text": [
      "\n"
     ]
    }
   ],
   "source": [
    "from CnnModel import SimpleCNN\n",
    "from train import Trainer\n",
    "from DataLoader import LoaderClass\n",
    "import torch\n",
    "from torch.nn import CrossEntropyLoss\n",
    "from torch import optim\n",
    "from torchvision import transforms, utils\n",
    "import numpy as np\n",
    "import os\n",
    "from PIL import Image,ImageFile\n",
    "\n",
    "LR = 1e-4\n",
    "Momentum = 0.9 # If you use SGD with momentum\n",
    "BATCH_SIZE = 16\n",
    "USE_CUDA = True\n",
    "POOLING = False\n",
    "NUM_EPOCHS = 200\n",
    "PATIENCE = -1\n",
    "TRAIN_PERCENT = 0.8\n",
    "VAL_PERCENT = 0.2\n",
    "NUM_ARTISTS = 11\n",
    "DATA_PATH = \"./art_data/artists\"\n",
    "ImageFile.LOAD_TRUNCATED_IMAGES = True # Do not change this\n",
    "\n",
    "\n",
    "def load_artist_data():\n",
    "    data = []\n",
    "    labels = []\n",
    "    artists = [x for x in os.listdir(DATA_PATH) if x != '.DS_Store']\n",
    "    print(artists)\n",
    "    for folder in os.listdir(DATA_PATH):\n",
    "        class_index = artists.index(folder)\n",
    "        for image_name in os.listdir(DATA_PATH + \"/\" + folder):\n",
    "            img = Image.open(DATA_PATH + \"/\" + folder + \"/\" + image_name)\n",
    "            artist_label = (np.arange(NUM_ARTISTS) == class_index).astype(np.float32)\n",
    "            data.append(np.array(img))\n",
    "            labels.append(artist_label)\n",
    "    shuffler = np.random.permutation(len(labels))\n",
    "    data = np.array(data)[shuffler]\n",
    "    labels = np.array(labels)[shuffler]\n",
    "\n",
    "    length = len(data)\n",
    "    val_size = int(length*0.2)\n",
    "    val_data = data[0:val_size+1]\n",
    "    train_data = data[val_size+1::]\n",
    "    val_labels = labels[0:val_size+1]\n",
    "    train_labels = labels[val_size+1::]\n",
    "    print(val_labels)\n",
    "    data_dict = {\"train_data\":train_data,\"val_data\":val_data}\n",
    "    label_dict = {\"train_labels\":np.array(train_labels),\"val_labels\":np.array(val_labels)}\n",
    "\n",
    "    return data_dict,label_dict\n",
    "\n",
    "if __name__ == \"__main__\":\n",
    "    data,labels = load_artist_data()\n",
    "    model = SimpleCNN(use_cuda=True,pooling=POOLING)\n",
    "    optimizer = optim.Adam(model.parameters(), lr=LR)\n",
    "    transforms = {\n",
    "        'train': transforms.Compose([\n",
    "            transforms.Resize(50),\n",
    "            transforms.ToTensor(),\n",
    "            transforms.Normalize([0.485, 0.456, 0.406], [0.229, 0.224, 0.225])\n",
    "        ]),\n",
    "        'val': transforms.Compose([\n",
    "            transforms.Resize(50),\n",
    "            transforms.ToTensor(),\n",
    "            transforms.Normalize([0.485, 0.456, 0.406], [0.229, 0.224, 0.225])\n",
    "        ]),\n",
    "        }\n",
    "    train_dataset = LoaderClass(data,labels,\"train\",transforms[\"train\"])\n",
    "    valid_dataset = LoaderClass(data,labels,\"val\",transforms[\"val\"])\n",
    "\n",
    "    train_loader = torch.utils.data.DataLoader(train_dataset,\n",
    "                                               batch_size=BATCH_SIZE,\n",
    "                                               shuffle=True, num_workers=4, pin_memory=True)\n",
    "    val_loader = torch.utils.data.DataLoader(valid_dataset,\n",
    "                                             batch_size=BATCH_SIZE,\n",
    "                                             shuffle=True, num_workers=4, pin_memory=True)\n",
    "\n",
    "    criterion = CrossEntropyLoss()\n",
    "    trainer_m = Trainer(model, criterion, train_loader, val_loader, optimizer, num_epoch=NUM_EPOCHS, patience=PATIENCE,batch_size=BATCH_SIZE,lr_scheduler= None)\n",
    "    best_model = trainer_m.train()"
   ]
  },
  {
   "cell_type": "markdown",
   "id": "G1y_dYX1BMnJ",
   "metadata": {
    "id": "G1y_dYX1BMnJ"
   },
   "source": [
    "***1.1) Convolutional Filter Receptive Field***\n",
    "* **What are the dimensions of the receptive field for a node in Z2? Note that you can ignore padding, and just consider patches in the middle of the image and Z1.** \n",
    "\n",
    "\n",
    "\n",
    "* **Why is it effective to build convolutional networks deeper, i.e. with more layers?**"
   ]
  },
  {
   "cell_type": "code",
   "execution_count": null,
   "id": "Vz-0tj1mph-k",
   "metadata": {
    "id": "Vz-0tj1mph-k"
   },
   "outputs": [],
   "source": []
  },
  {
   "cell_type": "markdown",
   "id": "aJMEw-7dIIFL",
   "metadata": {
    "id": "aJMEw-7dIIFL"
   },
   "source": [
    "***1.2) Run the Pytorch ConvNet***      \n",
    "**• How many layers are there? Are they all convolutional? If not, what structure do they have?** \n",
    "The best model from run.py has six layers. First one is 2 dimensional convolutional layer, second layer is 2 dimensional max pooling layer, third one is 2 dimensional convolutional, forth one is 2 dimensional max pooling and final two layers are fully connected linear layers.    \n",
    "  \n",
    "**• Which activation function is used on the hidden nodes?**  \n",
    "Rectified Linear Unit (ReLU) is used to on the hidden nodes.  \n",
    "  \n",
    "**• What loss function is being used to train the network?**  \n",
    "Cross Entropy Loss (softmax) is preferred to train the network.  \n",
    "  \n",
    "**• How is the loss being minimized?**  \n",
    "The loss being minimized with zero gradient optimizer.  "
   ]
  },
  {
   "cell_type": "code",
   "execution_count": null,
   "id": "KMDabBk8xbgT",
   "metadata": {
    "colab": {
     "base_uri": "https://localhost:8080/"
    },
    "id": "KMDabBk8xbgT",
    "outputId": "5d1bfe4e-e066-4886-86af-b2b067397153"
   },
   "outputs": [
    {
     "name": "stdout",
     "output_type": "stream",
     "text": [
      "SimpleCNN(\n",
      "  (conv_layer1): Conv2d(3, 16, kernel_size=(5, 5), stride=(2, 2))\n",
      "  (pool_layer1): MaxPool2d(kernel_size=2, stride=2, padding=0, dilation=1, ceil_mode=False)\n",
      "  (conv_layer2): Conv2d(16, 16, kernel_size=(5, 5), stride=(2, 2))\n",
      "  (pool_layer2): MaxPool2d(kernel_size=2, stride=2, padding=0, dilation=1, ceil_mode=False)\n",
      "  (fully_connected_layer): Linear(in_features=1600, out_features=64, bias=True)\n",
      "  (final_layer): Linear(in_features=64, out_features=11, bias=True)\n",
      ")\n"
     ]
    }
   ],
   "source": [
    "print(best_model)"
   ]
  },
  {
   "cell_type": "markdown",
   "id": "oh3P8_oZIWmf",
   "metadata": {
    "id": "oh3P8_oZIWmf"
   },
   "source": [
    "- **What is the training accuracy for your network after training? What is the validation accuracy?**   \n",
    "    \n",
    "End of the default 200 epochs:         \n",
    "Training ended returning the best model:  \n",
    "-Best val acc: 0.4725274725274725,     \n",
    "-Best val loss: 2.042543033758799\n",
    "    \n",
    "-Best train acc: 0.6444444444444445,   \n",
    "-Best train loss: 1.913529396057129  \n",
    "\n",
    "\n",
    "- **What do these two numbers tell you about what your network is doing?**  \n",
    "Training accuracy shows that learning success of the best model when the model have whole dataset. Validation accuracy is a result of kind an exam after studying. Validation accuracy provides a learning process for new datasets.  "
   ]
  },
  {
   "cell_type": "markdown",
   "id": "_WqxiERLIpj-",
   "metadata": {
    "id": "_WqxiERLIpj-"
   },
   "source": [
    "\n",
    "***1.3 Add Pooling Layers***     \n",
    "*After you applied max pooling,* \n",
    "- What happened to your results?\n",
    "- How did the training accuracy vs. validation accuracy change? What does that tell you about the effect of max pooling on your network?\n"
   ]
  },
  {
   "cell_type": "code",
   "execution_count": null,
   "id": "6be-AfJ4JHj8",
   "metadata": {
    "colab": {
     "base_uri": "https://localhost:8080/"
    },
    "id": "6be-AfJ4JHj8",
    "outputId": "677efb35-b63e-4954-a3d8-17481bfe1828"
   },
   "outputs": [
    {
     "name": "stdout",
     "output_type": "stream",
     "text": [
      "['richard wilson', 'paul cezanne', 'paul sandby', 'claude monet', 'peter paul rubens', 'canaletto', 'j. m. w. turner', 'paul gauguin', 'george romney', 'john robert cozens', 'rembrandt']\n",
      "[[0. 0. 0. ... 0. 0. 0.]\n",
      " [0. 0. 0. ... 0. 0. 0.]\n",
      " [0. 0. 0. ... 0. 0. 0.]\n",
      " ...\n",
      " [0. 1. 0. ... 0. 0. 0.]\n",
      " [1. 0. 0. ... 0. 0. 0.]\n",
      " [0. 0. 0. ... 0. 0. 0.]]\n"
     ]
    },
    {
     "name": "stderr",
     "output_type": "stream",
     "text": [
      "Epoch 1,phase: Training: 2it [00:00,  2.04it/s, val acc:  0.094,val loss:  2.396]  "
     ]
    },
    {
     "name": "stdout",
     "output_type": "stream",
     "text": [
      "New best loss, loss is:  2.396190603574117 acc is:  0.0989010989010989\n"
     ]
    },
    {
     "name": "stderr",
     "output_type": "stream",
     "text": [
      "Epoch 2,phase: Training: 3it [00:01,  1.46it/s, val acc:  0.094,val loss:  2.393]  "
     ]
    },
    {
     "name": "stdout",
     "output_type": "stream",
     "text": [
      "New best loss, loss is:  2.3928514321645102 acc is:  0.0989010989010989\n"
     ]
    },
    {
     "name": "stderr",
     "output_type": "stream",
     "text": [
      "Epoch 3,phase: Training: 4it [00:02,  1.27it/s, val acc:  0.167,val loss:  2.386]  "
     ]
    },
    {
     "name": "stdout",
     "output_type": "stream",
     "text": [
      "New best loss, loss is:  2.3857667446136475 acc is:  0.17582417582417584\n"
     ]
    },
    {
     "name": "stderr",
     "output_type": "stream",
     "text": [
      "Epoch 4,phase: Training: 5it [00:03,  1.18it/s, val acc:  0.219,val loss:  2.369]  "
     ]
    },
    {
     "name": "stdout",
     "output_type": "stream",
     "text": [
      "New best loss, loss is:  2.368627349535624 acc is:  0.23076923076923078\n"
     ]
    },
    {
     "name": "stderr",
     "output_type": "stream",
     "text": [
      "Epoch 5,phase: Training: 6it [00:04,  1.13it/s, val acc:  0.219,val loss:  2.331]  "
     ]
    },
    {
     "name": "stdout",
     "output_type": "stream",
     "text": [
      "New best loss, loss is:  2.3312778075536094 acc is:  0.23076923076923078\n"
     ]
    },
    {
     "name": "stderr",
     "output_type": "stream",
     "text": [
      "Epoch 6,phase: Training: 7it [00:05,  1.10it/s, val acc:  0.219,val loss:  2.271]  "
     ]
    },
    {
     "name": "stdout",
     "output_type": "stream",
     "text": [
      "New best loss, loss is:  2.270650625228882 acc is:  0.23076923076923078\n"
     ]
    },
    {
     "name": "stderr",
     "output_type": "stream",
     "text": [
      "Epoch 7,phase: Training: 8it [00:06,  1.08it/s, val acc:  0.219,val loss:  2.260]  "
     ]
    },
    {
     "name": "stdout",
     "output_type": "stream",
     "text": [
      "New best loss, loss is:  2.2597826719284058 acc is:  0.23076923076923078\n"
     ]
    },
    {
     "name": "stderr",
     "output_type": "stream",
     "text": [
      "Epoch 8,phase: Training: 9it [00:07,  1.06it/s, val acc:  0.260,val loss:  2.230]  "
     ]
    },
    {
     "name": "stdout",
     "output_type": "stream",
     "text": [
      "New best loss, loss is:  2.230235973993937 acc is:  0.27472527472527475\n"
     ]
    },
    {
     "name": "stderr",
     "output_type": "stream",
     "text": [
      "Epoch 9,phase: Training: 10it [00:08,  1.05it/s, val acc:  0.365,val loss:  2.205]  "
     ]
    },
    {
     "name": "stdout",
     "output_type": "stream",
     "text": [
      "New best loss, loss is:  2.2050723234812417 acc is:  0.38461538461538464\n"
     ]
    },
    {
     "name": "stderr",
     "output_type": "stream",
     "text": [
      "Epoch 10,phase: Training: 11it [00:09,  1.03it/s, val acc:  0.396,val loss:  2.160] "
     ]
    },
    {
     "name": "stdout",
     "output_type": "stream",
     "text": [
      "New best loss, loss is:  2.1602930625279746 acc is:  0.4175824175824176\n"
     ]
    },
    {
     "name": "stderr",
     "output_type": "stream",
     "text": [
      "Epoch 11,phase: Training: 12it [00:10,  1.03it/s, val acc:  0.396,val loss:  2.144]  "
     ]
    },
    {
     "name": "stdout",
     "output_type": "stream",
     "text": [
      "New best loss, loss is:  2.143599510192871 acc is:  0.4175824175824176\n"
     ]
    },
    {
     "name": "stderr",
     "output_type": "stream",
     "text": [
      "Epoch 12,phase: Training: 13it [00:11,  1.03it/s, val acc:  0.406,val loss:  2.129]  "
     ]
    },
    {
     "name": "stdout",
     "output_type": "stream",
     "text": [
      "New best loss, loss is:  2.1290367046991983 acc is:  0.42857142857142855\n"
     ]
    },
    {
     "name": "stderr",
     "output_type": "stream",
     "text": [
      "Epoch 13,phase: Training: 14it [00:12,  1.03it/s, val acc:  0.417,val loss:  2.123]  "
     ]
    },
    {
     "name": "stdout",
     "output_type": "stream",
     "text": [
      "New best loss, loss is:  2.1227917671203613 acc is:  0.43956043956043955\n"
     ]
    },
    {
     "name": "stderr",
     "output_type": "stream",
     "text": [
      "Epoch 14,phase: Training: 15it [00:13,  1.03it/s, val acc:  0.417,val loss:  2.124]  "
     ]
    },
    {
     "name": "stdout",
     "output_type": "stream",
     "text": [
      "Not a better score\n"
     ]
    },
    {
     "name": "stderr",
     "output_type": "stream",
     "text": [
      "Epoch 15,phase: Training: 16it [00:14,  1.03it/s, val acc:  0.417,val loss:  2.113]  "
     ]
    },
    {
     "name": "stdout",
     "output_type": "stream",
     "text": [
      "New best loss, loss is:  2.112517555554708 acc is:  0.43956043956043955\n"
     ]
    },
    {
     "name": "stderr",
     "output_type": "stream",
     "text": [
      "Epoch 16,phase: Training: 17it [00:15,  1.03it/s, val acc:  0.427,val loss:  2.097]  "
     ]
    },
    {
     "name": "stdout",
     "output_type": "stream",
     "text": [
      "New best loss, loss is:  2.097330172856649 acc is:  0.45054945054945056\n"
     ]
    },
    {
     "name": "stderr",
     "output_type": "stream",
     "text": [
      "Epoch 17,phase: Training: 18it [00:16,  1.04it/s, val acc:  0.417,val loss:  2.109]  "
     ]
    },
    {
     "name": "stdout",
     "output_type": "stream",
     "text": [
      "Not a better score\n"
     ]
    },
    {
     "name": "stderr",
     "output_type": "stream",
     "text": [
      "Epoch 18,phase: Training: 19it [00:17,  1.04it/s, val acc:  0.417,val loss:  2.095]  "
     ]
    },
    {
     "name": "stdout",
     "output_type": "stream",
     "text": [
      "New best loss, loss is:  2.094654699166616 acc is:  0.43956043956043955\n"
     ]
    },
    {
     "name": "stderr",
     "output_type": "stream",
     "text": [
      "Epoch 19,phase: Training: 20it [00:18,  1.04it/s, val acc:  0.396,val loss:  2.099]  "
     ]
    },
    {
     "name": "stdout",
     "output_type": "stream",
     "text": [
      "Not a better score\n"
     ]
    },
    {
     "name": "stderr",
     "output_type": "stream",
     "text": [
      "Epoch 20,phase: Training: 21it [00:19,  1.03it/s, val acc:  0.406,val loss:  2.097]  "
     ]
    },
    {
     "name": "stdout",
     "output_type": "stream",
     "text": [
      "Not a better score\n"
     ]
    },
    {
     "name": "stderr",
     "output_type": "stream",
     "text": [
      "Epoch 21,phase: Training: 22it [00:20,  1.03it/s, val acc:  0.448,val loss:  2.086]  "
     ]
    },
    {
     "name": "stdout",
     "output_type": "stream",
     "text": [
      "New best loss, loss is:  2.0856314500172934 acc is:  0.4725274725274725\n"
     ]
    },
    {
     "name": "stderr",
     "output_type": "stream",
     "text": [
      "Epoch 22,phase: Training: 23it [00:21,  1.03it/s, val acc:  0.406,val loss:  2.095]  "
     ]
    },
    {
     "name": "stdout",
     "output_type": "stream",
     "text": [
      "Not a better score\n"
     ]
    },
    {
     "name": "stderr",
     "output_type": "stream",
     "text": [
      "Epoch 23,phase: Training: 24it [00:22,  1.03it/s, val acc:  0.427,val loss:  2.083]  "
     ]
    },
    {
     "name": "stdout",
     "output_type": "stream",
     "text": [
      "New best loss, loss is:  2.0831555922826133 acc is:  0.45054945054945056\n"
     ]
    },
    {
     "name": "stderr",
     "output_type": "stream",
     "text": [
      "Epoch 24,phase: Training: 25it [00:23,  1.04it/s, val acc:  0.458,val loss:  2.065]  "
     ]
    },
    {
     "name": "stdout",
     "output_type": "stream",
     "text": [
      "New best loss, loss is:  2.0650810400644937 acc is:  0.4835164835164835\n"
     ]
    },
    {
     "name": "stderr",
     "output_type": "stream",
     "text": [
      "Epoch 25,phase: Training: 26it [00:24,  1.03it/s, val acc:  0.458,val loss:  2.065]  "
     ]
    },
    {
     "name": "stdout",
     "output_type": "stream",
     "text": [
      "Not a better score\n"
     ]
    },
    {
     "name": "stderr",
     "output_type": "stream",
     "text": [
      "Epoch 26,phase: Training: 27it [00:25,  1.03it/s, val acc:  0.458,val loss:  2.073]  "
     ]
    },
    {
     "name": "stdout",
     "output_type": "stream",
     "text": [
      "Not a better score\n"
     ]
    },
    {
     "name": "stderr",
     "output_type": "stream",
     "text": [
      "Epoch 27,phase: Training: 28it [00:26,  1.04it/s, val acc:  0.448,val loss:  2.067]  "
     ]
    },
    {
     "name": "stdout",
     "output_type": "stream",
     "text": [
      "Not a better score\n"
     ]
    },
    {
     "name": "stderr",
     "output_type": "stream",
     "text": [
      "Epoch 28,phase: Training: 29it [00:27,  1.03it/s, val acc:  0.448,val loss:  2.058]  "
     ]
    },
    {
     "name": "stdout",
     "output_type": "stream",
     "text": [
      "New best loss, loss is:  2.0583136081695557 acc is:  0.4725274725274725\n"
     ]
    },
    {
     "name": "stderr",
     "output_type": "stream",
     "text": [
      "Epoch 29,phase: Training: 30it [00:28,  1.03it/s, val acc:  0.458,val loss:  2.050]  "
     ]
    },
    {
     "name": "stdout",
     "output_type": "stream",
     "text": [
      "New best loss, loss is:  2.0504230856895447 acc is:  0.4835164835164835\n"
     ]
    },
    {
     "name": "stderr",
     "output_type": "stream",
     "text": [
      "Epoch 30,phase: Training: 31it [00:29,  1.03it/s, val acc:  0.469,val loss:  2.059]  "
     ]
    },
    {
     "name": "stdout",
     "output_type": "stream",
     "text": [
      "Not a better score\n"
     ]
    },
    {
     "name": "stderr",
     "output_type": "stream",
     "text": [
      "Epoch 31,phase: Training: 32it [00:30,  1.11s/it, val acc:  0.448,val loss:  2.052]  "
     ]
    },
    {
     "name": "stdout",
     "output_type": "stream",
     "text": [
      "Not a better score\n"
     ]
    },
    {
     "name": "stderr",
     "output_type": "stream",
     "text": [
      "Epoch 32,phase: Training: 33it [00:32,  1.23s/it, val acc:  0.458,val loss:  2.056]  "
     ]
    },
    {
     "name": "stdout",
     "output_type": "stream",
     "text": [
      "Not a better score\n"
     ]
    },
    {
     "name": "stderr",
     "output_type": "stream",
     "text": [
      "Epoch 33,phase: Training: 34it [00:33,  1.31s/it, val acc:  0.490,val loss:  2.046]  "
     ]
    },
    {
     "name": "stdout",
     "output_type": "stream",
     "text": [
      "New best loss, loss is:  2.0462300181388855 acc is:  0.5164835164835165\n"
     ]
    },
    {
     "name": "stderr",
     "output_type": "stream",
     "text": [
      "Epoch 34,phase: Training: 35it [00:34,  1.21s/it, val acc:  0.469,val loss:  2.053]  "
     ]
    },
    {
     "name": "stdout",
     "output_type": "stream",
     "text": [
      "Not a better score\n"
     ]
    },
    {
     "name": "stderr",
     "output_type": "stream",
     "text": [
      "Epoch 35,phase: Training: 36it [00:35,  1.14s/it, val acc:  0.469,val loss:  2.043]  "
     ]
    },
    {
     "name": "stdout",
     "output_type": "stream",
     "text": [
      "New best loss, loss is:  2.043475091457367 acc is:  0.4945054945054945\n"
     ]
    },
    {
     "name": "stderr",
     "output_type": "stream",
     "text": [
      "Epoch 36,phase: Training: 37it [00:36,  1.11s/it, val acc:  0.469,val loss:  2.048]  "
     ]
    },
    {
     "name": "stdout",
     "output_type": "stream",
     "text": [
      "Not a better score\n"
     ]
    },
    {
     "name": "stderr",
     "output_type": "stream",
     "text": [
      "Epoch 37,phase: Training: 38it [00:37,  1.08s/it, val acc:  0.469,val loss:  2.038]  "
     ]
    },
    {
     "name": "stdout",
     "output_type": "stream",
     "text": [
      "New best loss, loss is:  2.037895898024241 acc is:  0.4945054945054945\n"
     ]
    },
    {
     "name": "stderr",
     "output_type": "stream",
     "text": [
      "Epoch 38,phase: Training: 39it [00:38,  1.05s/it, val acc:  0.469,val loss:  2.051]  "
     ]
    },
    {
     "name": "stdout",
     "output_type": "stream",
     "text": [
      "Not a better score\n"
     ]
    },
    {
     "name": "stderr",
     "output_type": "stream",
     "text": [
      "Epoch 38,phase: Validation: 39it [00:39,  1.05s/it, val acc:  0.500,val loss:  2.025]"
     ]
    }
   ],
   "source": [
    "from CnnModel import SimpleCNN\n",
    "from train import Trainer\n",
    "from DataLoader import LoaderClass\n",
    "import torch\n",
    "from torch.nn import CrossEntropyLoss\n",
    "from torch import optim\n",
    "from torchvision import transforms, utils\n",
    "import numpy as np\n",
    "import os\n",
    "from PIL import Image,ImageFile\n",
    "\n",
    "LR = 1e-4\n",
    "Momentum = 0.9 # If you use SGD with momentum\n",
    "BATCH_SIZE = 16\n",
    "USE_CUDA = True\n",
    "POOLING = True  ### ADD POOLING LAYER\n",
    "NUM_EPOCHS = 200\n",
    "PATIENCE = -1\n",
    "TRAIN_PERCENT = 0.8\n",
    "VAL_PERCENT = 0.2\n",
    "NUM_ARTISTS = 11\n",
    "DATA_PATH = \"./art_data/artists\"\n",
    "ImageFile.LOAD_TRUNCATED_IMAGES = True # Do not change this\n",
    "\n",
    "\n",
    "def load_artist_data():\n",
    "    data = []\n",
    "    labels = []\n",
    "    artists = [x for x in os.listdir(DATA_PATH) if x != '.DS_Store']\n",
    "    print(artists)\n",
    "    for folder in os.listdir(DATA_PATH):\n",
    "        class_index = artists.index(folder)\n",
    "        for image_name in os.listdir(DATA_PATH + \"/\" + folder):\n",
    "            img = Image.open(DATA_PATH + \"/\" + folder + \"/\" + image_name)\n",
    "            artist_label = (np.arange(NUM_ARTISTS) == class_index).astype(np.float32)\n",
    "            data.append(np.array(img))\n",
    "            labels.append(artist_label)\n",
    "    shuffler = np.random.permutation(len(labels))\n",
    "    data = np.array(data)[shuffler]\n",
    "    labels = np.array(labels)[shuffler]\n",
    "\n",
    "    length = len(data)\n",
    "    val_size = int(length*0.2)\n",
    "    val_data = data[0:val_size+1]\n",
    "    train_data = data[val_size+1::]\n",
    "    val_labels = labels[0:val_size+1]\n",
    "    train_labels = labels[val_size+1::]\n",
    "    print(val_labels)\n",
    "    data_dict = {\"train_data\":train_data,\"val_data\":val_data}\n",
    "    label_dict = {\"train_labels\":np.array(train_labels),\"val_labels\":np.array(val_labels)}\n",
    "\n",
    "    return data_dict,label_dict\n",
    "\n",
    "if __name__ == \"__main__\":\n",
    "    data,labels = load_artist_data()\n",
    "    model = SimpleCNN(use_cuda=True,pooling=POOLING)\n",
    "    optimizer = optim.Adam(model.parameters(), lr=LR)\n",
    "    transforms = {\n",
    "        'train': transforms.Compose([\n",
    "            transforms.Resize(50),\n",
    "            transforms.ToTensor(),\n",
    "            transforms.Normalize([0.485, 0.456, 0.406], [0.229, 0.224, 0.225])\n",
    "        ]),\n",
    "        'val': transforms.Compose([\n",
    "            transforms.Resize(50),\n",
    "            transforms.ToTensor(),\n",
    "            transforms.Normalize([0.485, 0.456, 0.406], [0.229, 0.224, 0.225])\n",
    "        ]),\n",
    "        }\n",
    "    train_dataset = LoaderClass(data,labels,\"train\",transforms[\"train\"])\n",
    "    valid_dataset = LoaderClass(data,labels,\"val\",transforms[\"val\"])\n",
    "\n",
    "    train_loader = torch.utils.data.DataLoader(train_dataset,\n",
    "                                               batch_size=BATCH_SIZE,\n",
    "                                               shuffle=True, num_workers=4, pin_memory=True)\n",
    "    val_loader = torch.utils.data.DataLoader(valid_dataset,\n",
    "                                             batch_size=BATCH_SIZE,\n",
    "                                             shuffle=True, num_workers=4, pin_memory=True)\n",
    "\n",
    "    criterion = CrossEntropyLoss()\n",
    "    trainer_m = Trainer(model, criterion, train_loader, val_loader, optimizer, num_epoch=NUM_EPOCHS, patience=PATIENCE,batch_size=BATCH_SIZE,lr_scheduler= None)\n",
    "    best_model_pool = trainer_m.train()"
   ]
  },
  {
   "cell_type": "code",
   "execution_count": null,
   "id": "CF_HmvJH2q8n",
   "metadata": {
    "colab": {
     "base_uri": "https://localhost:8080/",
     "height": 164
    },
    "id": "CF_HmvJH2q8n",
    "outputId": "c07ffc85-7138-4ffc-91c3-397f12e34e6f"
   },
   "outputs": [
    {
     "ename": "NameError",
     "evalue": "ignored",
     "output_type": "error",
     "traceback": [
      "\u001b[0;31m---------------------------------------------------------------------------\u001b[0m",
      "\u001b[0;31mNameError\u001b[0m                                 Traceback (most recent call last)",
      "\u001b[0;32m<ipython-input-2-31f1db9b5f44>\u001b[0m in \u001b[0;36m<module>\u001b[0;34m\u001b[0m\n\u001b[0;32m----> 1\u001b[0;31m \u001b[0mprint\u001b[0m\u001b[0;34m(\u001b[0m\u001b[0mbest_model\u001b[0m\u001b[0;34m)\u001b[0m\u001b[0;34m\u001b[0m\u001b[0;34m\u001b[0m\u001b[0m\n\u001b[0m",
      "\u001b[0;31mNameError\u001b[0m: name 'best_model' is not defined"
     ]
    }
   ],
   "source": [
    "print(best_model_pool)"
   ]
  },
  {
   "cell_type": "markdown",
   "id": "jx1qEdy_JKIi",
   "metadata": {
    "id": "jx1qEdy_JKIi"
   },
   "source": [
    "*1.4 Regularize the Network!*\n",
    "\n",
    "Discuss your results. Which regularization technique was most effective?"
   ]
  },
  {
   "cell_type": "code",
   "execution_count": null,
   "id": "oM844VTQJcFC",
   "metadata": {
    "id": "oM844VTQJcFC"
   },
   "outputs": [],
   "source": []
  }
 ],
 "metadata": {
  "colab": {
   "provenance": []
  },
  "gpuClass": "standard",
  "kernelspec": {
   "display_name": "Python 3 (ipykernel)",
   "language": "python",
   "name": "python3"
  },
  "language_info": {
   "codemirror_mode": {
    "name": "ipython",
    "version": 3
   },
   "file_extension": ".py",
   "mimetype": "text/x-python",
   "name": "python",
   "nbconvert_exporter": "python",
   "pygments_lexer": "ipython3",
   "version": "3.7.13"
  }
 },
 "nbformat": 4,
 "nbformat_minor": 5
}
